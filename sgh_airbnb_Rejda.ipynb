{
 "cells": [
  {
   "cell_type": "markdown",
   "metadata": {},
   "source": [
    "# CZĘŚĆ 1. Import i czyszczenie danych "
   ]
  },
  {
   "cell_type": "code",
   "execution_count": 1,
   "metadata": {},
   "outputs": [],
   "source": [
    "import pandas as pd \n",
    "import numpy as np\n",
    "import seaborn as sns\n",
    "import matplotlib.pyplot as plt\n",
    "\n",
    "data = pd.read_csv('/Users/paulinarejda/Desktop/praca_dypl_sgh/train.csv')"
   ]
  },
  {
   "cell_type": "code",
   "execution_count": 2,
   "metadata": {},
   "outputs": [
    {
     "name": "stdout",
     "output_type": "stream",
     "text": [
      "<class 'pandas.core.frame.DataFrame'>\n",
      "RangeIndex: 74111 entries, 0 to 74110\n",
      "Data columns (total 29 columns):\n",
      " #   Column                  Non-Null Count  Dtype  \n",
      "---  ------                  --------------  -----  \n",
      " 0   id                      74111 non-null  int64  \n",
      " 1   log_price               74111 non-null  float64\n",
      " 2   property_type           74111 non-null  object \n",
      " 3   room_type               74111 non-null  object \n",
      " 4   amenities               74111 non-null  object \n",
      " 5   accommodates            74111 non-null  int64  \n",
      " 6   bathrooms               73911 non-null  float64\n",
      " 7   bed_type                74111 non-null  object \n",
      " 8   cancellation_policy     74111 non-null  object \n",
      " 9   cleaning_fee            74111 non-null  bool   \n",
      " 10  city                    74111 non-null  object \n",
      " 11  description             74111 non-null  object \n",
      " 12  first_review            58247 non-null  object \n",
      " 13  host_has_profile_pic    73923 non-null  object \n",
      " 14  host_identity_verified  73923 non-null  object \n",
      " 15  host_response_rate      55812 non-null  object \n",
      " 16  host_since              73923 non-null  object \n",
      " 17  instant_bookable        74111 non-null  object \n",
      " 18  last_review             58284 non-null  object \n",
      " 19  latitude                74111 non-null  float64\n",
      " 20  longitude               74111 non-null  float64\n",
      " 21  name                    74111 non-null  object \n",
      " 22  neighbourhood           67239 non-null  object \n",
      " 23  number_of_reviews       74111 non-null  int64  \n",
      " 24  review_scores_rating    57389 non-null  float64\n",
      " 25  thumbnail_url           65895 non-null  object \n",
      " 26  zipcode                 73145 non-null  object \n",
      " 27  bedrooms                74020 non-null  float64\n",
      " 28  beds                    73980 non-null  float64\n",
      "dtypes: bool(1), float64(7), int64(3), object(18)\n",
      "memory usage: 15.9+ MB\n"
     ]
    }
   ],
   "source": [
    "# info o ramce, typy zmiennych\n",
    "data.info()"
   ]
  },
  {
   "cell_type": "code",
   "execution_count": 3,
   "metadata": {},
   "outputs": [],
   "source": [
    "# usunięcie zbędnych zmiennych\n",
    "data = data.drop(['zipcode', 'thumbnail_url', 'first_review', 'last_review'], axis=1)"
   ]
  },
  {
   "cell_type": "code",
   "execution_count": 4,
   "metadata": {},
   "outputs": [],
   "source": [
    "# zmiana % na numeric\n",
    "data['host_response_rate'] = pd.to_numeric(data.host_response_rate.str.rstrip(\"%\"))"
   ]
  },
  {
   "cell_type": "code",
   "execution_count": 5,
   "metadata": {
    "scrolled": true
   },
   "outputs": [
    {
     "data": {
      "text/html": [
       "<div>\n",
       "<style scoped>\n",
       "    .dataframe tbody tr th:only-of-type {\n",
       "        vertical-align: middle;\n",
       "    }\n",
       "\n",
       "    .dataframe tbody tr th {\n",
       "        vertical-align: top;\n",
       "    }\n",
       "\n",
       "    .dataframe thead th {\n",
       "        text-align: right;\n",
       "    }\n",
       "</style>\n",
       "<table border=\"1\" class=\"dataframe\">\n",
       "  <thead>\n",
       "    <tr style=\"text-align: right;\">\n",
       "      <th></th>\n",
       "      <th>id</th>\n",
       "      <th>log_price</th>\n",
       "      <th>property_type</th>\n",
       "      <th>room_type</th>\n",
       "      <th>amenities</th>\n",
       "      <th>accommodates</th>\n",
       "      <th>bathrooms</th>\n",
       "      <th>bed_type</th>\n",
       "      <th>cancellation_policy</th>\n",
       "      <th>cleaning_fee</th>\n",
       "      <th>...</th>\n",
       "      <th>host_since</th>\n",
       "      <th>instant_bookable</th>\n",
       "      <th>latitude</th>\n",
       "      <th>longitude</th>\n",
       "      <th>name</th>\n",
       "      <th>neighbourhood</th>\n",
       "      <th>number_of_reviews</th>\n",
       "      <th>review_scores_rating</th>\n",
       "      <th>bedrooms</th>\n",
       "      <th>beds</th>\n",
       "    </tr>\n",
       "  </thead>\n",
       "  <tbody>\n",
       "    <tr>\n",
       "      <th>0</th>\n",
       "      <td>6901257</td>\n",
       "      <td>5.010635</td>\n",
       "      <td>Apartment</td>\n",
       "      <td>Entire home/apt</td>\n",
       "      <td>{\"Wireless Internet\",\"Air conditioning\",Kitche...</td>\n",
       "      <td>3</td>\n",
       "      <td>1.0</td>\n",
       "      <td>Real Bed</td>\n",
       "      <td>strict</td>\n",
       "      <td>True</td>\n",
       "      <td>...</td>\n",
       "      <td>2012-03-26</td>\n",
       "      <td>f</td>\n",
       "      <td>40.696524</td>\n",
       "      <td>-73.991617</td>\n",
       "      <td>Beautiful brownstone 1-bedroom</td>\n",
       "      <td>Brooklyn Heights</td>\n",
       "      <td>2</td>\n",
       "      <td>100.0</td>\n",
       "      <td>1.0</td>\n",
       "      <td>1.0</td>\n",
       "    </tr>\n",
       "    <tr>\n",
       "      <th>1</th>\n",
       "      <td>6304928</td>\n",
       "      <td>5.129899</td>\n",
       "      <td>Apartment</td>\n",
       "      <td>Entire home/apt</td>\n",
       "      <td>{\"Wireless Internet\",\"Air conditioning\",Kitche...</td>\n",
       "      <td>7</td>\n",
       "      <td>1.0</td>\n",
       "      <td>Real Bed</td>\n",
       "      <td>strict</td>\n",
       "      <td>True</td>\n",
       "      <td>...</td>\n",
       "      <td>2017-06-19</td>\n",
       "      <td>t</td>\n",
       "      <td>40.766115</td>\n",
       "      <td>-73.989040</td>\n",
       "      <td>Superb 3BR Apt Located Near Times Square</td>\n",
       "      <td>Hell's Kitchen</td>\n",
       "      <td>6</td>\n",
       "      <td>93.0</td>\n",
       "      <td>3.0</td>\n",
       "      <td>3.0</td>\n",
       "    </tr>\n",
       "    <tr>\n",
       "      <th>2</th>\n",
       "      <td>7919400</td>\n",
       "      <td>4.976734</td>\n",
       "      <td>Apartment</td>\n",
       "      <td>Entire home/apt</td>\n",
       "      <td>{TV,\"Cable TV\",\"Wireless Internet\",\"Air condit...</td>\n",
       "      <td>5</td>\n",
       "      <td>1.0</td>\n",
       "      <td>Real Bed</td>\n",
       "      <td>moderate</td>\n",
       "      <td>True</td>\n",
       "      <td>...</td>\n",
       "      <td>2016-10-25</td>\n",
       "      <td>t</td>\n",
       "      <td>40.808110</td>\n",
       "      <td>-73.943756</td>\n",
       "      <td>The Garden Oasis</td>\n",
       "      <td>Harlem</td>\n",
       "      <td>10</td>\n",
       "      <td>92.0</td>\n",
       "      <td>1.0</td>\n",
       "      <td>3.0</td>\n",
       "    </tr>\n",
       "    <tr>\n",
       "      <th>3</th>\n",
       "      <td>13418779</td>\n",
       "      <td>6.620073</td>\n",
       "      <td>House</td>\n",
       "      <td>Entire home/apt</td>\n",
       "      <td>{TV,\"Cable TV\",Internet,\"Wireless Internet\",Ki...</td>\n",
       "      <td>4</td>\n",
       "      <td>1.0</td>\n",
       "      <td>Real Bed</td>\n",
       "      <td>flexible</td>\n",
       "      <td>True</td>\n",
       "      <td>...</td>\n",
       "      <td>2015-04-19</td>\n",
       "      <td>f</td>\n",
       "      <td>37.772004</td>\n",
       "      <td>-122.431619</td>\n",
       "      <td>Beautiful Flat in the Heart of SF!</td>\n",
       "      <td>Lower Haight</td>\n",
       "      <td>0</td>\n",
       "      <td>NaN</td>\n",
       "      <td>2.0</td>\n",
       "      <td>2.0</td>\n",
       "    </tr>\n",
       "    <tr>\n",
       "      <th>4</th>\n",
       "      <td>3808709</td>\n",
       "      <td>4.744932</td>\n",
       "      <td>Apartment</td>\n",
       "      <td>Entire home/apt</td>\n",
       "      <td>{TV,Internet,\"Wireless Internet\",\"Air conditio...</td>\n",
       "      <td>2</td>\n",
       "      <td>1.0</td>\n",
       "      <td>Real Bed</td>\n",
       "      <td>moderate</td>\n",
       "      <td>True</td>\n",
       "      <td>...</td>\n",
       "      <td>2015-03-01</td>\n",
       "      <td>t</td>\n",
       "      <td>38.925627</td>\n",
       "      <td>-77.034596</td>\n",
       "      <td>Great studio in midtown DC</td>\n",
       "      <td>Columbia Heights</td>\n",
       "      <td>4</td>\n",
       "      <td>40.0</td>\n",
       "      <td>0.0</td>\n",
       "      <td>1.0</td>\n",
       "    </tr>\n",
       "  </tbody>\n",
       "</table>\n",
       "<p>5 rows × 25 columns</p>\n",
       "</div>"
      ],
      "text/plain": [
       "         id  log_price property_type        room_type  \\\n",
       "0   6901257   5.010635     Apartment  Entire home/apt   \n",
       "1   6304928   5.129899     Apartment  Entire home/apt   \n",
       "2   7919400   4.976734     Apartment  Entire home/apt   \n",
       "3  13418779   6.620073         House  Entire home/apt   \n",
       "4   3808709   4.744932     Apartment  Entire home/apt   \n",
       "\n",
       "                                           amenities  accommodates  bathrooms  \\\n",
       "0  {\"Wireless Internet\",\"Air conditioning\",Kitche...             3        1.0   \n",
       "1  {\"Wireless Internet\",\"Air conditioning\",Kitche...             7        1.0   \n",
       "2  {TV,\"Cable TV\",\"Wireless Internet\",\"Air condit...             5        1.0   \n",
       "3  {TV,\"Cable TV\",Internet,\"Wireless Internet\",Ki...             4        1.0   \n",
       "4  {TV,Internet,\"Wireless Internet\",\"Air conditio...             2        1.0   \n",
       "\n",
       "   bed_type cancellation_policy  cleaning_fee  ...  host_since  \\\n",
       "0  Real Bed              strict          True  ...  2012-03-26   \n",
       "1  Real Bed              strict          True  ...  2017-06-19   \n",
       "2  Real Bed            moderate          True  ...  2016-10-25   \n",
       "3  Real Bed            flexible          True  ...  2015-04-19   \n",
       "4  Real Bed            moderate          True  ...  2015-03-01   \n",
       "\n",
       "  instant_bookable   latitude   longitude  \\\n",
       "0                f  40.696524  -73.991617   \n",
       "1                t  40.766115  -73.989040   \n",
       "2                t  40.808110  -73.943756   \n",
       "3                f  37.772004 -122.431619   \n",
       "4                t  38.925627  -77.034596   \n",
       "\n",
       "                                       name     neighbourhood  \\\n",
       "0            Beautiful brownstone 1-bedroom  Brooklyn Heights   \n",
       "1  Superb 3BR Apt Located Near Times Square    Hell's Kitchen   \n",
       "2                          The Garden Oasis            Harlem   \n",
       "3        Beautiful Flat in the Heart of SF!      Lower Haight   \n",
       "4                Great studio in midtown DC  Columbia Heights   \n",
       "\n",
       "  number_of_reviews  review_scores_rating  bedrooms beds  \n",
       "0                 2                 100.0       1.0  1.0  \n",
       "1                 6                  93.0       3.0  3.0  \n",
       "2                10                  92.0       1.0  3.0  \n",
       "3                 0                   NaN       2.0  2.0  \n",
       "4                 4                  40.0       0.0  1.0  \n",
       "\n",
       "[5 rows x 25 columns]"
      ]
     },
     "execution_count": 5,
     "metadata": {},
     "output_type": "execute_result"
    }
   ],
   "source": [
    "data.head()"
   ]
  },
  {
   "cell_type": "markdown",
   "metadata": {},
   "source": [
    "# Eliminacja braków"
   ]
  },
  {
   "cell_type": "code",
   "execution_count": 6,
   "metadata": {},
   "outputs": [
    {
     "data": {
      "text/plain": [
       "False"
      ]
     },
     "execution_count": 6,
     "metadata": {},
     "output_type": "execute_result"
    }
   ],
   "source": [
    "# spr, czy id jest unikatowe dla każdego obiektu\n",
    "data.id.duplicated().any()"
   ]
  },
  {
   "cell_type": "code",
   "execution_count": 7,
   "metadata": {},
   "outputs": [
    {
     "data": {
      "text/plain": [
       "200"
      ]
     },
     "execution_count": 7,
     "metadata": {},
     "output_type": "execute_result"
    }
   ],
   "source": [
    "# braki - bathrooms\n",
    "data.bathrooms.isnull().sum()"
   ]
  },
  {
   "cell_type": "code",
   "execution_count": 8,
   "metadata": {},
   "outputs": [
    {
     "data": {
      "text/plain": [
       "131"
      ]
     },
     "execution_count": 8,
     "metadata": {},
     "output_type": "execute_result"
    }
   ],
   "source": [
    "# braki - beds\n",
    "data.beds.isnull().sum()"
   ]
  },
  {
   "cell_type": "code",
   "execution_count": 9,
   "metadata": {},
   "outputs": [
    {
     "data": {
      "text/plain": [
       "91"
      ]
     },
     "execution_count": 9,
     "metadata": {},
     "output_type": "execute_result"
    }
   ],
   "source": [
    "# braki - bedrooms\n",
    "data.bedrooms.isnull().sum()"
   ]
  },
  {
   "cell_type": "code",
   "execution_count": 10,
   "metadata": {},
   "outputs": [
    {
     "data": {
      "text/plain": [
       "16722"
      ]
     },
     "execution_count": 10,
     "metadata": {},
     "output_type": "execute_result"
    }
   ],
   "source": [
    "# braki - review_scores_rating\n",
    "data.review_scores_rating.isnull().sum()"
   ]
  },
  {
   "cell_type": "code",
   "execution_count": 11,
   "metadata": {},
   "outputs": [
    {
     "data": {
      "text/plain": [
       "18299"
      ]
     },
     "execution_count": 11,
     "metadata": {},
     "output_type": "execute_result"
    }
   ],
   "source": [
    "# braki - host_response_rate\n",
    "data.host_response_rate.isnull().sum()"
   ]
  },
  {
   "cell_type": "code",
   "execution_count": 12,
   "metadata": {},
   "outputs": [
    {
     "data": {
      "text/plain": [
       "6872"
      ]
     },
     "execution_count": 12,
     "metadata": {},
     "output_type": "execute_result"
    }
   ],
   "source": [
    "# spr, ile jest braków w dzielnicach\n",
    "data.neighbourhood.isnull().sum()"
   ]
  },
  {
   "cell_type": "code",
   "execution_count": 13,
   "metadata": {
    "scrolled": true
   },
   "outputs": [
    {
     "name": "stdout",
     "output_type": "stream",
     "text": [
      "<class 'pandas.core.frame.DataFrame'>\n",
      "Int64Index: 67239 entries, 0 to 74110\n",
      "Data columns (total 25 columns):\n",
      " #   Column                  Non-Null Count  Dtype  \n",
      "---  ------                  --------------  -----  \n",
      " 0   id                      67239 non-null  int64  \n",
      " 1   log_price               67239 non-null  float64\n",
      " 2   property_type           67239 non-null  object \n",
      " 3   room_type               67239 non-null  object \n",
      " 4   amenities               67239 non-null  object \n",
      " 5   accommodates            67239 non-null  int64  \n",
      " 6   bathrooms               67046 non-null  float64\n",
      " 7   bed_type                67239 non-null  object \n",
      " 8   cancellation_policy     67239 non-null  object \n",
      " 9   cleaning_fee            67239 non-null  bool   \n",
      " 10  city                    67239 non-null  object \n",
      " 11  description             67239 non-null  object \n",
      " 12  host_has_profile_pic    67054 non-null  object \n",
      " 13  host_identity_verified  67054 non-null  object \n",
      " 14  host_response_rate      49904 non-null  float64\n",
      " 15  host_since              67054 non-null  object \n",
      " 16  instant_bookable        67239 non-null  object \n",
      " 17  latitude                67239 non-null  float64\n",
      " 18  longitude               67239 non-null  float64\n",
      " 19  name                    67239 non-null  object \n",
      " 20  neighbourhood           67239 non-null  object \n",
      " 21  number_of_reviews       67239 non-null  int64  \n",
      " 22  review_scores_rating    52343 non-null  float64\n",
      " 23  bedrooms                67158 non-null  float64\n",
      " 24  beds                    67126 non-null  float64\n",
      "dtypes: bool(1), float64(8), int64(3), object(13)\n",
      "memory usage: 12.9+ MB\n"
     ]
    }
   ],
   "source": [
    "# usunięcie braków w zm. neighbourhood (do grupowania)\n",
    "data = data.drop(data[data.neighbourhood.isnull()].index)\n",
    "data.info()"
   ]
  },
  {
   "cell_type": "code",
   "execution_count": 14,
   "metadata": {},
   "outputs": [
    {
     "data": {
      "text/plain": [
       "<pandas.core.groupby.generic.DataFrameGroupBy object at 0x12532d5e0>"
      ]
     },
     "execution_count": 14,
     "metadata": {},
     "output_type": "execute_result"
    }
   ],
   "source": [
    "# grupowanie wg dzielnic\n",
    "group_nh = data.groupby('neighbourhood')\n",
    "group_nh"
   ]
  },
  {
   "cell_type": "code",
   "execution_count": 15,
   "metadata": {},
   "outputs": [],
   "source": [
    "# uzupełnianie braków - BATHROOMS\n",
    "\n",
    "# obliczanie mediany cen dla każdej z dzielnic\n",
    "nh_median = group_nh.bathrooms.median()\n",
    "\n",
    "# tworzenie połączonej tabeli data z medianami wg dzielnic\n",
    "joined = pd.merge(data, nh_median, on=['neighbourhood'], how='left')\n",
    "\n",
    "# tworzenie dwóch osobnych tabel - z brakami i bez \n",
    "good = joined[joined['bathrooms_x'].notnull()]\n",
    "bad = joined[joined['bathrooms_x'].isnull()]\n",
    "\n",
    "# zmiana nazwy kolumn x i usunięcie kolumn y powstałych podczas łączenia (dla obu tabel)\n",
    "good = good.rename(columns={\"bathrooms_x\": \"bathrooms\"})\n",
    "good = good.drop(['bathrooms_y'], axis=1)\n",
    "\n",
    "bad = bad.rename(columns={\"bathrooms_y\": \"bathrooms\"})\n",
    "bad = bad.drop(['bathrooms_x'], axis=1)\n",
    "\n",
    "# dodanie tabel\n",
    "good = good.append(bad)\n",
    "\n",
    "data = good"
   ]
  },
  {
   "cell_type": "code",
   "execution_count": 16,
   "metadata": {},
   "outputs": [],
   "source": [
    "# BEDS\n",
    "\n",
    "nh_median1 = group_nh.beds.median()\n",
    "\n",
    "joined1 = pd.merge(data, nh_median1, on=['neighbourhood'], how='left')\n",
    "\n",
    "good1 = joined1[joined1['beds_x'].notnull()]\n",
    "bad1 = joined1[joined1['beds_x'].isnull()]\n",
    "\n",
    "good1 = good1.rename(columns={\"beds_x\": \"beds\"})\n",
    "good1 = good1.drop(['beds_y'], axis=1)\n",
    "\n",
    "bad1 = bad1.rename(columns={\"beds_y\": \"beds\"})\n",
    "bad1 = bad1.drop(['beds_x'], axis=1)\n",
    "\n",
    "good1 = good1.append(bad1)\n",
    "\n",
    "data = good1"
   ]
  },
  {
   "cell_type": "code",
   "execution_count": 17,
   "metadata": {},
   "outputs": [],
   "source": [
    "# BEDROOMS\n",
    "\n",
    "nh_median2 = group_nh.bedrooms.median()\n",
    "\n",
    "joined2 = pd.merge(data, nh_median2, on=['neighbourhood'], how='left')\n",
    "\n",
    "good2 = joined2[joined2['bedrooms_x'].notnull()]\n",
    "bad2 = joined2[joined2['bedrooms_x'].isnull()]\n",
    "\n",
    "good2 = good2.rename(columns={\"bedrooms_x\": \"bedrooms\"})\n",
    "good2 = good2.drop(['bedrooms_y'], axis=1)\n",
    "\n",
    "bad2 = bad2.rename(columns={\"bedrooms_y\": \"bedrooms\"})\n",
    "bad2 = bad2.drop(['bedrooms_x'], axis=1)\n",
    "\n",
    "good2 = good2.append(bad2)\n",
    "\n",
    "data = good2"
   ]
  },
  {
   "cell_type": "code",
   "execution_count": 18,
   "metadata": {},
   "outputs": [],
   "source": [
    "# review_scores_rating\n",
    "\n",
    "nh_median3 = group_nh.review_scores_rating.median()\n",
    "\n",
    "joined3 = pd.merge(data, nh_median3, on=['neighbourhood'], how='left')\n",
    "\n",
    "good3 = joined3[joined3['review_scores_rating_x'].notnull()]\n",
    "bad3 = joined3[joined3['review_scores_rating_x'].isnull()]\n",
    "\n",
    "good3 = good3.rename(columns={\"review_scores_rating_x\": \"review_scores_rating\"})\n",
    "good3 = good3.drop(['review_scores_rating_y'], axis=1)\n",
    "\n",
    "bad3 = bad3.rename(columns={\"review_scores_rating_y\": \"review_scores_rating\"})\n",
    "bad3 = bad3.drop(['review_scores_rating_x'], axis=1)\n",
    "\n",
    "good3 = good3.append(bad3)\n",
    "\n",
    "data = good3"
   ]
  },
  {
   "cell_type": "code",
   "execution_count": 19,
   "metadata": {},
   "outputs": [],
   "source": [
    "# host_response_rate\n",
    "\n",
    "nh_median4 = group_nh.host_response_rate.median()\n",
    "\n",
    "joined4 = pd.merge(data, nh_median4, on=['neighbourhood'], how='left')\n",
    "\n",
    "good4 = joined4[joined4['host_response_rate_x'].notnull()]\n",
    "bad4 = joined4[joined4['host_response_rate_x'].isnull()]\n",
    "\n",
    "good4 = good4.rename(columns={\"host_response_rate_x\": \"host_response_rate\"})\n",
    "good4 = good4.drop(['host_response_rate_y'], axis=1)\n",
    "\n",
    "bad4 = bad4.rename(columns={\"host_response_rate_y\": \"host_response_rate\"})\n",
    "bad4 = bad4.drop(['host_response_rate_x'], axis=1)\n",
    "\n",
    "good4 = good4.append(bad4)\n",
    "\n",
    "data = good4"
   ]
  },
  {
   "cell_type": "code",
   "execution_count": 20,
   "metadata": {},
   "outputs": [],
   "source": [
    "# nadpisywanie braków medianą\n",
    "data.bathrooms.fillna(data.bathrooms.median(), inplace=True)\n",
    "data.beds.fillna(data.beds.median(), inplace=True)\n",
    "data.bedrooms.fillna(data.bedrooms.median(), inplace=True)\n",
    "data.review_scores_rating.fillna(data.review_scores_rating.median(), inplace=True)\n",
    "\n",
    "# usunięcie braków w pozostałych zmiennych\n",
    "data = data.dropna()\n",
    "data = data.reset_index()"
   ]
  },
  {
   "cell_type": "code",
   "execution_count": 21,
   "metadata": {},
   "outputs": [
    {
     "data": {
      "text/plain": [
       "index                     False\n",
       "id                        False\n",
       "log_price                 False\n",
       "property_type             False\n",
       "room_type                 False\n",
       "amenities                 False\n",
       "accommodates              False\n",
       "bathrooms                 False\n",
       "bed_type                  False\n",
       "cancellation_policy       False\n",
       "cleaning_fee              False\n",
       "city                      False\n",
       "description               False\n",
       "host_has_profile_pic      False\n",
       "host_identity_verified    False\n",
       "host_response_rate        False\n",
       "host_since                False\n",
       "instant_bookable          False\n",
       "latitude                  False\n",
       "longitude                 False\n",
       "name                      False\n",
       "neighbourhood             False\n",
       "number_of_reviews         False\n",
       "review_scores_rating      False\n",
       "bedrooms                  False\n",
       "beds                      False\n",
       "dtype: bool"
      ]
     },
     "execution_count": 21,
     "metadata": {},
     "output_type": "execute_result"
    }
   ],
   "source": [
    "# spr. jeszcze raz\n",
    "data.isnull().any()"
   ]
  },
  {
   "cell_type": "code",
   "execution_count": 22,
   "metadata": {},
   "outputs": [],
   "source": [
    "# usunięcie indeksu i id, podsumowanie zmiennych\n",
    "data = data.drop(['index', 'id'], axis = 1)"
   ]
  },
  {
   "cell_type": "code",
   "execution_count": 23,
   "metadata": {},
   "outputs": [
    {
     "name": "stdout",
     "output_type": "stream",
     "text": [
      "<class 'pandas.core.frame.DataFrame'>\n",
      "RangeIndex: 67035 entries, 0 to 67034\n",
      "Data columns (total 24 columns):\n",
      " #   Column                  Non-Null Count  Dtype  \n",
      "---  ------                  --------------  -----  \n",
      " 0   log_price               67035 non-null  float64\n",
      " 1   property_type           67035 non-null  object \n",
      " 2   room_type               67035 non-null  object \n",
      " 3   amenities               67035 non-null  object \n",
      " 4   accommodates            67035 non-null  int64  \n",
      " 5   bathrooms               67035 non-null  float64\n",
      " 6   bed_type                67035 non-null  object \n",
      " 7   cancellation_policy     67035 non-null  object \n",
      " 8   cleaning_fee            67035 non-null  bool   \n",
      " 9   city                    67035 non-null  object \n",
      " 10  description             67035 non-null  object \n",
      " 11  host_has_profile_pic    67035 non-null  bool   \n",
      " 12  host_identity_verified  67035 non-null  bool   \n",
      " 13  host_response_rate      67035 non-null  float64\n",
      " 14  host_since              67035 non-null  object \n",
      " 15  instant_bookable        67035 non-null  bool   \n",
      " 16  latitude                67035 non-null  float64\n",
      " 17  longitude               67035 non-null  float64\n",
      " 18  name                    67035 non-null  object \n",
      " 19  neighbourhood           67035 non-null  object \n",
      " 20  number_of_reviews       67035 non-null  int64  \n",
      " 21  review_scores_rating    67035 non-null  float64\n",
      " 22  bedrooms                67035 non-null  float64\n",
      " 23  beds                    67035 non-null  float64\n",
      "dtypes: bool(4), float64(8), int64(2), object(10)\n",
      "memory usage: 10.5+ MB\n"
     ]
    }
   ],
   "source": [
    "# Zmiana wartości tekstowych 't' i 'f' na typ boolean\n",
    "data = data.replace({'f':False, 't':True})\n",
    "data.info()"
   ]
  },
  {
   "cell_type": "code",
   "execution_count": 24,
   "metadata": {},
   "outputs": [],
   "source": [
    "# zmiana formatu daty i obliczenie stażu gospodarzy (w latach)\n",
    "from datetime import datetime\n",
    "from datetime import date\n",
    "\n",
    "data['host_since']= pd.to_datetime(data['host_since']) \n",
    "data['data_zb'] = pd.to_datetime('2018-02-09')\n",
    "data['host_days'] = data.data_zb - data.host_since\n",
    "data['host_years'] = (data['host_days'] / np.timedelta64(1, 'Y')).round()"
   ]
  },
  {
   "cell_type": "code",
   "execution_count": 25,
   "metadata": {},
   "outputs": [
    {
     "data": {
      "text/html": [
       "<div>\n",
       "<style scoped>\n",
       "    .dataframe tbody tr th:only-of-type {\n",
       "        vertical-align: middle;\n",
       "    }\n",
       "\n",
       "    .dataframe tbody tr th {\n",
       "        vertical-align: top;\n",
       "    }\n",
       "\n",
       "    .dataframe thead th {\n",
       "        text-align: right;\n",
       "    }\n",
       "</style>\n",
       "<table border=\"1\" class=\"dataframe\">\n",
       "  <thead>\n",
       "    <tr style=\"text-align: right;\">\n",
       "      <th></th>\n",
       "      <th>log_price</th>\n",
       "      <th>property_type</th>\n",
       "      <th>room_type</th>\n",
       "      <th>amenities</th>\n",
       "      <th>accommodates</th>\n",
       "      <th>bathrooms</th>\n",
       "      <th>bed_type</th>\n",
       "      <th>cancellation_policy</th>\n",
       "      <th>cleaning_fee</th>\n",
       "      <th>city</th>\n",
       "      <th>...</th>\n",
       "      <th>instant_bookable</th>\n",
       "      <th>latitude</th>\n",
       "      <th>longitude</th>\n",
       "      <th>name</th>\n",
       "      <th>neighbourhood</th>\n",
       "      <th>number_of_reviews</th>\n",
       "      <th>review_scores_rating</th>\n",
       "      <th>bedrooms</th>\n",
       "      <th>beds</th>\n",
       "      <th>host_years</th>\n",
       "    </tr>\n",
       "  </thead>\n",
       "  <tbody>\n",
       "    <tr>\n",
       "      <th>0</th>\n",
       "      <td>5.129899</td>\n",
       "      <td>Apartment</td>\n",
       "      <td>Entire home/apt</td>\n",
       "      <td>{\"Wireless Internet\",\"Air conditioning\",Kitche...</td>\n",
       "      <td>7</td>\n",
       "      <td>1.0</td>\n",
       "      <td>Real Bed</td>\n",
       "      <td>strict</td>\n",
       "      <td>True</td>\n",
       "      <td>NYC</td>\n",
       "      <td>...</td>\n",
       "      <td>True</td>\n",
       "      <td>40.766115</td>\n",
       "      <td>-73.989040</td>\n",
       "      <td>Superb 3BR Apt Located Near Times Square</td>\n",
       "      <td>Hell's Kitchen</td>\n",
       "      <td>6</td>\n",
       "      <td>93.0</td>\n",
       "      <td>3.0</td>\n",
       "      <td>3.0</td>\n",
       "      <td>1.0</td>\n",
       "    </tr>\n",
       "    <tr>\n",
       "      <th>1</th>\n",
       "      <td>4.976734</td>\n",
       "      <td>Apartment</td>\n",
       "      <td>Entire home/apt</td>\n",
       "      <td>{TV,\"Cable TV\",\"Wireless Internet\",\"Air condit...</td>\n",
       "      <td>5</td>\n",
       "      <td>1.0</td>\n",
       "      <td>Real Bed</td>\n",
       "      <td>moderate</td>\n",
       "      <td>True</td>\n",
       "      <td>NYC</td>\n",
       "      <td>...</td>\n",
       "      <td>True</td>\n",
       "      <td>40.808110</td>\n",
       "      <td>-73.943756</td>\n",
       "      <td>The Garden Oasis</td>\n",
       "      <td>Harlem</td>\n",
       "      <td>10</td>\n",
       "      <td>92.0</td>\n",
       "      <td>1.0</td>\n",
       "      <td>3.0</td>\n",
       "      <td>1.0</td>\n",
       "    </tr>\n",
       "    <tr>\n",
       "      <th>2</th>\n",
       "      <td>4.744932</td>\n",
       "      <td>Apartment</td>\n",
       "      <td>Entire home/apt</td>\n",
       "      <td>{TV,Internet,\"Wireless Internet\",\"Air conditio...</td>\n",
       "      <td>2</td>\n",
       "      <td>1.0</td>\n",
       "      <td>Real Bed</td>\n",
       "      <td>moderate</td>\n",
       "      <td>True</td>\n",
       "      <td>DC</td>\n",
       "      <td>...</td>\n",
       "      <td>True</td>\n",
       "      <td>38.925627</td>\n",
       "      <td>-77.034596</td>\n",
       "      <td>Great studio in midtown DC</td>\n",
       "      <td>Columbia Heights</td>\n",
       "      <td>4</td>\n",
       "      <td>40.0</td>\n",
       "      <td>0.0</td>\n",
       "      <td>1.0</td>\n",
       "      <td>3.0</td>\n",
       "    </tr>\n",
       "    <tr>\n",
       "      <th>3</th>\n",
       "      <td>4.442651</td>\n",
       "      <td>Apartment</td>\n",
       "      <td>Private room</td>\n",
       "      <td>{TV,\"Wireless Internet\",Heating,\"Smoke detecto...</td>\n",
       "      <td>2</td>\n",
       "      <td>1.0</td>\n",
       "      <td>Real Bed</td>\n",
       "      <td>strict</td>\n",
       "      <td>True</td>\n",
       "      <td>SF</td>\n",
       "      <td>...</td>\n",
       "      <td>True</td>\n",
       "      <td>37.753164</td>\n",
       "      <td>-122.429526</td>\n",
       "      <td>Comfort Suite San Francisco</td>\n",
       "      <td>Noe Valley</td>\n",
       "      <td>3</td>\n",
       "      <td>100.0</td>\n",
       "      <td>1.0</td>\n",
       "      <td>1.0</td>\n",
       "      <td>1.0</td>\n",
       "    </tr>\n",
       "    <tr>\n",
       "      <th>4</th>\n",
       "      <td>4.787492</td>\n",
       "      <td>Condominium</td>\n",
       "      <td>Entire home/apt</td>\n",
       "      <td>{TV,\"Cable TV\",\"Wireless Internet\",\"Wheelchair...</td>\n",
       "      <td>2</td>\n",
       "      <td>1.0</td>\n",
       "      <td>Real Bed</td>\n",
       "      <td>moderate</td>\n",
       "      <td>True</td>\n",
       "      <td>LA</td>\n",
       "      <td>...</td>\n",
       "      <td>False</td>\n",
       "      <td>34.046737</td>\n",
       "      <td>-118.260439</td>\n",
       "      <td>Near LA Live, Staple's. Starbucks inside. OWN ...</td>\n",
       "      <td>Downtown</td>\n",
       "      <td>9</td>\n",
       "      <td>93.0</td>\n",
       "      <td>1.0</td>\n",
       "      <td>1.0</td>\n",
       "      <td>5.0</td>\n",
       "    </tr>\n",
       "  </tbody>\n",
       "</table>\n",
       "<p>5 rows × 24 columns</p>\n",
       "</div>"
      ],
      "text/plain": [
       "   log_price property_type        room_type  \\\n",
       "0   5.129899     Apartment  Entire home/apt   \n",
       "1   4.976734     Apartment  Entire home/apt   \n",
       "2   4.744932     Apartment  Entire home/apt   \n",
       "3   4.442651     Apartment     Private room   \n",
       "4   4.787492   Condominium  Entire home/apt   \n",
       "\n",
       "                                           amenities  accommodates  bathrooms  \\\n",
       "0  {\"Wireless Internet\",\"Air conditioning\",Kitche...             7        1.0   \n",
       "1  {TV,\"Cable TV\",\"Wireless Internet\",\"Air condit...             5        1.0   \n",
       "2  {TV,Internet,\"Wireless Internet\",\"Air conditio...             2        1.0   \n",
       "3  {TV,\"Wireless Internet\",Heating,\"Smoke detecto...             2        1.0   \n",
       "4  {TV,\"Cable TV\",\"Wireless Internet\",\"Wheelchair...             2        1.0   \n",
       "\n",
       "   bed_type cancellation_policy  cleaning_fee city  ... instant_bookable  \\\n",
       "0  Real Bed              strict          True  NYC  ...             True   \n",
       "1  Real Bed            moderate          True  NYC  ...             True   \n",
       "2  Real Bed            moderate          True   DC  ...             True   \n",
       "3  Real Bed              strict          True   SF  ...             True   \n",
       "4  Real Bed            moderate          True   LA  ...            False   \n",
       "\n",
       "    latitude   longitude                                               name  \\\n",
       "0  40.766115  -73.989040           Superb 3BR Apt Located Near Times Square   \n",
       "1  40.808110  -73.943756                                   The Garden Oasis   \n",
       "2  38.925627  -77.034596                         Great studio in midtown DC   \n",
       "3  37.753164 -122.429526                        Comfort Suite San Francisco   \n",
       "4  34.046737 -118.260439  Near LA Live, Staple's. Starbucks inside. OWN ...   \n",
       "\n",
       "      neighbourhood  number_of_reviews  review_scores_rating bedrooms beds  \\\n",
       "0    Hell's Kitchen                  6                  93.0      3.0  3.0   \n",
       "1            Harlem                 10                  92.0      1.0  3.0   \n",
       "2  Columbia Heights                  4                  40.0      0.0  1.0   \n",
       "3        Noe Valley                  3                 100.0      1.0  1.0   \n",
       "4          Downtown                  9                  93.0      1.0  1.0   \n",
       "\n",
       "   host_years  \n",
       "0         1.0  \n",
       "1         1.0  \n",
       "2         3.0  \n",
       "3         1.0  \n",
       "4         5.0  \n",
       "\n",
       "[5 rows x 24 columns]"
      ]
     },
     "execution_count": 25,
     "metadata": {},
     "output_type": "execute_result"
    }
   ],
   "source": [
    "# usunięcie zbędnych kolumn\n",
    "data = data.drop(['host_since', 'host_days', 'data_zb'], axis=1)\n",
    "data.head()"
   ]
  },
  {
   "cell_type": "code",
   "execution_count": 26,
   "metadata": {},
   "outputs": [],
   "source": [
    "# definiowanie zmiennych nominalnych\n",
    "data['property_type'] = data['property_type'].astype('category')\n",
    "data['bed_type'] = data['bed_type'].astype('category')\n",
    "data['city'] = data['city'].astype('category')\n",
    "data['cleaning_fee'] = data['cleaning_fee'].astype('category')\n",
    "data['host_has_profile_pic'] = data['host_has_profile_pic'].astype('category')\n",
    "data['host_identity_verified'] = data['host_identity_verified'].astype('category')\n",
    "data['instant_bookable'] = data['instant_bookable'].astype('category')\n"
   ]
  },
  {
   "cell_type": "code",
   "execution_count": 27,
   "metadata": {
    "scrolled": true
   },
   "outputs": [
    {
     "name": "stdout",
     "output_type": "stream",
     "text": [
      "<class 'pandas.core.frame.DataFrame'>\n",
      "RangeIndex: 67035 entries, 0 to 67034\n",
      "Data columns (total 24 columns):\n",
      " #   Column                  Non-Null Count  Dtype   \n",
      "---  ------                  --------------  -----   \n",
      " 0   log_price               67035 non-null  float64 \n",
      " 1   property_type           67035 non-null  category\n",
      " 2   room_type               67035 non-null  category\n",
      " 3   amenities               67035 non-null  object  \n",
      " 4   accommodates            67035 non-null  int64   \n",
      " 5   bathrooms               67035 non-null  float64 \n",
      " 6   bed_type                67035 non-null  category\n",
      " 7   cancellation_policy     67035 non-null  category\n",
      " 8   cleaning_fee            67035 non-null  category\n",
      " 9   city                    67035 non-null  category\n",
      " 10  description             67035 non-null  object  \n",
      " 11  host_has_profile_pic    67035 non-null  category\n",
      " 12  host_identity_verified  67035 non-null  category\n",
      " 13  host_response_rate      67035 non-null  float64 \n",
      " 14  instant_bookable        67035 non-null  category\n",
      " 15  latitude                67035 non-null  float64 \n",
      " 16  longitude               67035 non-null  float64 \n",
      " 17  name                    67035 non-null  object  \n",
      " 18  neighbourhood           67035 non-null  object  \n",
      " 19  number_of_reviews       67035 non-null  int64   \n",
      " 20  review_scores_rating    67035 non-null  float64 \n",
      " 21  bedrooms                67035 non-null  float64 \n",
      " 22  beds                    67035 non-null  float64 \n",
      " 23  host_years              67035 non-null  float64 \n",
      "dtypes: category(9), float64(9), int64(2), object(4)\n",
      "memory usage: 8.2+ MB\n"
     ]
    }
   ],
   "source": [
    "# definiowanie zmiennych porządkowych - cancellation policy\n",
    "from pandas.api.types import CategoricalDtype\n",
    "\n",
    "data.groupby('cancellation_policy').mean()\n",
    "    # utworzenie zmiennej typu category o charakterze porządkowym\n",
    "canpol = CategoricalDtype(categories=['super_strict_60', 'super_strict_30', 'strict', \n",
    "                                      'moderate','flexible'], ordered=True)\n",
    "data['cancellation_policy'] = data['cancellation_policy'].astype(canpol)\n",
    "\n",
    "# definiowanie zmiennych porządkowych - room_type\n",
    "data.groupby('room_type').mean()\n",
    "roomt = CategoricalDtype(categories=['Shared room', 'Private room', 'Entire home/apt'],\n",
    "                         ordered=True)\n",
    "data['room_type'] = data['room_type'].astype(roomt)\n",
    "data.info()"
   ]
  },
  {
   "cell_type": "code",
   "execution_count": 28,
   "metadata": {},
   "outputs": [
    {
     "name": "stdout",
     "output_type": "stream",
     "text": [
      "<class 'pandas.core.frame.DataFrame'>\n",
      "RangeIndex: 67035 entries, 0 to 67034\n",
      "Data columns (total 24 columns):\n",
      " #   Column                  Non-Null Count  Dtype   \n",
      "---  ------                  --------------  -----   \n",
      " 0   log_price               67035 non-null  float64 \n",
      " 1   property_type           67035 non-null  category\n",
      " 2   room_type               67035 non-null  category\n",
      " 3   amenities               67035 non-null  object  \n",
      " 4   accommodates            67035 non-null  int64   \n",
      " 5   bathrooms               67035 non-null  float64 \n",
      " 6   bed_type                67035 non-null  category\n",
      " 7   cancellation_policy     67035 non-null  category\n",
      " 8   cleaning_fee            67035 non-null  category\n",
      " 9   city                    67035 non-null  category\n",
      " 10  description             67035 non-null  object  \n",
      " 11  host_has_profile_pic    67035 non-null  category\n",
      " 12  host_identity_verified  67035 non-null  category\n",
      " 13  host_response_rate      67035 non-null  float64 \n",
      " 14  instant_bookable        67035 non-null  category\n",
      " 15  latitude                67035 non-null  float64 \n",
      " 16  longitude               67035 non-null  float64 \n",
      " 17  name                    67035 non-null  object  \n",
      " 18  neighbourhood           67035 non-null  object  \n",
      " 19  number_of_reviews       67035 non-null  int64   \n",
      " 20  review_scores_rating    67035 non-null  float64 \n",
      " 21  bedrooms                67035 non-null  float64 \n",
      " 22  beds                    67035 non-null  float64 \n",
      " 23  host_years              67035 non-null  float64 \n",
      "dtypes: category(9), float64(9), int64(2), object(4)\n",
      "memory usage: 8.2+ MB\n"
     ]
    }
   ],
   "source": [
    "data.info()"
   ]
  },
  {
   "cell_type": "markdown",
   "metadata": {},
   "source": [
    "# CZĘŚĆ 2. Analizy"
   ]
  },
  {
   "cell_type": "code",
   "execution_count": 29,
   "metadata": {},
   "outputs": [],
   "source": [
    "#import matplotlib.pyplot as plt"
   ]
  },
  {
   "cell_type": "code",
   "execution_count": 30,
   "metadata": {},
   "outputs": [],
   "source": [
    "# tabela bez współrzędnych geogr.\n",
    "data1 = data.drop(['latitude', 'longitude'], axis=1)"
   ]
  },
  {
   "cell_type": "code",
   "execution_count": 31,
   "metadata": {},
   "outputs": [
    {
     "data": {
      "text/html": [
       "<div>\n",
       "<style scoped>\n",
       "    .dataframe tbody tr th:only-of-type {\n",
       "        vertical-align: middle;\n",
       "    }\n",
       "\n",
       "    .dataframe tbody tr th {\n",
       "        vertical-align: top;\n",
       "    }\n",
       "\n",
       "    .dataframe thead th {\n",
       "        text-align: right;\n",
       "    }\n",
       "</style>\n",
       "<table border=\"1\" class=\"dataframe\">\n",
       "  <thead>\n",
       "    <tr style=\"text-align: right;\">\n",
       "      <th></th>\n",
       "      <th>log_price</th>\n",
       "      <th>accommodates</th>\n",
       "      <th>bathrooms</th>\n",
       "      <th>host_response_rate</th>\n",
       "      <th>number_of_reviews</th>\n",
       "      <th>review_scores_rating</th>\n",
       "      <th>bedrooms</th>\n",
       "      <th>beds</th>\n",
       "      <th>host_years</th>\n",
       "    </tr>\n",
       "  </thead>\n",
       "  <tbody>\n",
       "    <tr>\n",
       "      <th>count</th>\n",
       "      <td>67035.00</td>\n",
       "      <td>67035.00</td>\n",
       "      <td>67035.00</td>\n",
       "      <td>67035.00</td>\n",
       "      <td>67035.00</td>\n",
       "      <td>67035.00</td>\n",
       "      <td>67035.00</td>\n",
       "      <td>67035.00</td>\n",
       "      <td>67035.00</td>\n",
       "    </tr>\n",
       "    <tr>\n",
       "      <th>mean</th>\n",
       "      <td>4.80</td>\n",
       "      <td>3.14</td>\n",
       "      <td>1.23</td>\n",
       "      <td>95.89</td>\n",
       "      <td>21.47</td>\n",
       "      <td>94.51</td>\n",
       "      <td>1.26</td>\n",
       "      <td>1.70</td>\n",
       "      <td>3.63</td>\n",
       "    </tr>\n",
       "    <tr>\n",
       "      <th>std</th>\n",
       "      <td>0.71</td>\n",
       "      <td>2.12</td>\n",
       "      <td>0.57</td>\n",
       "      <td>14.03</td>\n",
       "      <td>38.61</td>\n",
       "      <td>6.89</td>\n",
       "      <td>0.85</td>\n",
       "      <td>1.24</td>\n",
       "      <td>1.85</td>\n",
       "    </tr>\n",
       "    <tr>\n",
       "      <th>min</th>\n",
       "      <td>0.00</td>\n",
       "      <td>1.00</td>\n",
       "      <td>0.00</td>\n",
       "      <td>0.00</td>\n",
       "      <td>0.00</td>\n",
       "      <td>20.00</td>\n",
       "      <td>0.00</td>\n",
       "      <td>0.00</td>\n",
       "      <td>0.00</td>\n",
       "    </tr>\n",
       "    <tr>\n",
       "      <th>25%</th>\n",
       "      <td>4.32</td>\n",
       "      <td>2.00</td>\n",
       "      <td>1.00</td>\n",
       "      <td>100.00</td>\n",
       "      <td>1.00</td>\n",
       "      <td>93.00</td>\n",
       "      <td>1.00</td>\n",
       "      <td>1.00</td>\n",
       "      <td>2.00</td>\n",
       "    </tr>\n",
       "    <tr>\n",
       "      <th>50%</th>\n",
       "      <td>4.74</td>\n",
       "      <td>2.00</td>\n",
       "      <td>1.00</td>\n",
       "      <td>100.00</td>\n",
       "      <td>6.00</td>\n",
       "      <td>96.00</td>\n",
       "      <td>1.00</td>\n",
       "      <td>1.00</td>\n",
       "      <td>3.00</td>\n",
       "    </tr>\n",
       "    <tr>\n",
       "      <th>75%</th>\n",
       "      <td>5.24</td>\n",
       "      <td>4.00</td>\n",
       "      <td>1.00</td>\n",
       "      <td>100.00</td>\n",
       "      <td>24.00</td>\n",
       "      <td>99.00</td>\n",
       "      <td>1.00</td>\n",
       "      <td>2.00</td>\n",
       "      <td>5.00</td>\n",
       "    </tr>\n",
       "    <tr>\n",
       "      <th>max</th>\n",
       "      <td>7.60</td>\n",
       "      <td>16.00</td>\n",
       "      <td>8.00</td>\n",
       "      <td>100.00</td>\n",
       "      <td>542.00</td>\n",
       "      <td>100.00</td>\n",
       "      <td>10.00</td>\n",
       "      <td>18.00</td>\n",
       "      <td>10.00</td>\n",
       "    </tr>\n",
       "  </tbody>\n",
       "</table>\n",
       "</div>"
      ],
      "text/plain": [
       "       log_price  accommodates  bathrooms  host_response_rate  \\\n",
       "count   67035.00      67035.00   67035.00            67035.00   \n",
       "mean        4.80          3.14       1.23               95.89   \n",
       "std         0.71          2.12       0.57               14.03   \n",
       "min         0.00          1.00       0.00                0.00   \n",
       "25%         4.32          2.00       1.00              100.00   \n",
       "50%         4.74          2.00       1.00              100.00   \n",
       "75%         5.24          4.00       1.00              100.00   \n",
       "max         7.60         16.00       8.00              100.00   \n",
       "\n",
       "       number_of_reviews  review_scores_rating  bedrooms      beds  host_years  \n",
       "count           67035.00              67035.00  67035.00  67035.00    67035.00  \n",
       "mean               21.47                 94.51      1.26      1.70        3.63  \n",
       "std                38.61                  6.89      0.85      1.24        1.85  \n",
       "min                 0.00                 20.00      0.00      0.00        0.00  \n",
       "25%                 1.00                 93.00      1.00      1.00        2.00  \n",
       "50%                 6.00                 96.00      1.00      1.00        3.00  \n",
       "75%                24.00                 99.00      1.00      2.00        5.00  \n",
       "max               542.00                100.00     10.00     18.00       10.00  "
      ]
     },
     "execution_count": 31,
     "metadata": {},
     "output_type": "execute_result"
    }
   ],
   "source": [
    "# podstawowe statystyki \n",
    "stat = data1.describe().round(2)\n",
    "stat"
   ]
  },
  {
   "cell_type": "code",
   "execution_count": 32,
   "metadata": {},
   "outputs": [
    {
     "data": {
      "text/html": [
       "<div>\n",
       "<style scoped>\n",
       "    .dataframe tbody tr th:only-of-type {\n",
       "        vertical-align: middle;\n",
       "    }\n",
       "\n",
       "    .dataframe tbody tr th {\n",
       "        vertical-align: top;\n",
       "    }\n",
       "\n",
       "    .dataframe thead th {\n",
       "        text-align: right;\n",
       "    }\n",
       "</style>\n",
       "<table border=\"1\" class=\"dataframe\">\n",
       "  <thead>\n",
       "    <tr style=\"text-align: right;\">\n",
       "      <th></th>\n",
       "      <th>log_price</th>\n",
       "      <th>accommodates</th>\n",
       "      <th>bathrooms</th>\n",
       "      <th>host_response_rate</th>\n",
       "      <th>number_of_reviews</th>\n",
       "      <th>review_scores_rating</th>\n",
       "      <th>bedrooms</th>\n",
       "      <th>beds</th>\n",
       "      <th>host_years</th>\n",
       "    </tr>\n",
       "  </thead>\n",
       "  <tbody>\n",
       "    <tr>\n",
       "      <th>log_price</th>\n",
       "      <td>1.00</td>\n",
       "      <td>0.57</td>\n",
       "      <td>0.35</td>\n",
       "      <td>-0.00</td>\n",
       "      <td>-0.04</td>\n",
       "      <td>0.09</td>\n",
       "      <td>0.47</td>\n",
       "      <td>0.44</td>\n",
       "      <td>0.06</td>\n",
       "    </tr>\n",
       "    <tr>\n",
       "      <th>accommodates</th>\n",
       "      <td>0.57</td>\n",
       "      <td>1.00</td>\n",
       "      <td>0.49</td>\n",
       "      <td>0.02</td>\n",
       "      <td>0.04</td>\n",
       "      <td>-0.02</td>\n",
       "      <td>0.71</td>\n",
       "      <td>0.81</td>\n",
       "      <td>-0.01</td>\n",
       "    </tr>\n",
       "    <tr>\n",
       "      <th>bathrooms</th>\n",
       "      <td>0.35</td>\n",
       "      <td>0.49</td>\n",
       "      <td>1.00</td>\n",
       "      <td>-0.00</td>\n",
       "      <td>-0.04</td>\n",
       "      <td>0.02</td>\n",
       "      <td>0.57</td>\n",
       "      <td>0.51</td>\n",
       "      <td>-0.00</td>\n",
       "    </tr>\n",
       "    <tr>\n",
       "      <th>host_response_rate</th>\n",
       "      <td>-0.00</td>\n",
       "      <td>0.02</td>\n",
       "      <td>-0.00</td>\n",
       "      <td>1.00</td>\n",
       "      <td>0.07</td>\n",
       "      <td>0.05</td>\n",
       "      <td>0.01</td>\n",
       "      <td>0.02</td>\n",
       "      <td>0.01</td>\n",
       "    </tr>\n",
       "    <tr>\n",
       "      <th>number_of_reviews</th>\n",
       "      <td>-0.04</td>\n",
       "      <td>0.04</td>\n",
       "      <td>-0.04</td>\n",
       "      <td>0.07</td>\n",
       "      <td>1.00</td>\n",
       "      <td>-0.02</td>\n",
       "      <td>-0.03</td>\n",
       "      <td>0.03</td>\n",
       "      <td>0.20</td>\n",
       "    </tr>\n",
       "    <tr>\n",
       "      <th>review_scores_rating</th>\n",
       "      <td>0.09</td>\n",
       "      <td>-0.02</td>\n",
       "      <td>0.02</td>\n",
       "      <td>0.05</td>\n",
       "      <td>-0.02</td>\n",
       "      <td>1.00</td>\n",
       "      <td>0.02</td>\n",
       "      <td>-0.03</td>\n",
       "      <td>0.03</td>\n",
       "    </tr>\n",
       "    <tr>\n",
       "      <th>bedrooms</th>\n",
       "      <td>0.47</td>\n",
       "      <td>0.71</td>\n",
       "      <td>0.57</td>\n",
       "      <td>0.01</td>\n",
       "      <td>-0.03</td>\n",
       "      <td>0.02</td>\n",
       "      <td>1.00</td>\n",
       "      <td>0.70</td>\n",
       "      <td>0.01</td>\n",
       "    </tr>\n",
       "    <tr>\n",
       "      <th>beds</th>\n",
       "      <td>0.44</td>\n",
       "      <td>0.81</td>\n",
       "      <td>0.51</td>\n",
       "      <td>0.02</td>\n",
       "      <td>0.03</td>\n",
       "      <td>-0.03</td>\n",
       "      <td>0.70</td>\n",
       "      <td>1.00</td>\n",
       "      <td>-0.03</td>\n",
       "    </tr>\n",
       "    <tr>\n",
       "      <th>host_years</th>\n",
       "      <td>0.06</td>\n",
       "      <td>-0.01</td>\n",
       "      <td>-0.00</td>\n",
       "      <td>0.01</td>\n",
       "      <td>0.20</td>\n",
       "      <td>0.03</td>\n",
       "      <td>0.01</td>\n",
       "      <td>-0.03</td>\n",
       "      <td>1.00</td>\n",
       "    </tr>\n",
       "  </tbody>\n",
       "</table>\n",
       "</div>"
      ],
      "text/plain": [
       "                      log_price  accommodates  bathrooms  host_response_rate  \\\n",
       "log_price                  1.00          0.57       0.35               -0.00   \n",
       "accommodates               0.57          1.00       0.49                0.02   \n",
       "bathrooms                  0.35          0.49       1.00               -0.00   \n",
       "host_response_rate        -0.00          0.02      -0.00                1.00   \n",
       "number_of_reviews         -0.04          0.04      -0.04                0.07   \n",
       "review_scores_rating       0.09         -0.02       0.02                0.05   \n",
       "bedrooms                   0.47          0.71       0.57                0.01   \n",
       "beds                       0.44          0.81       0.51                0.02   \n",
       "host_years                 0.06         -0.01      -0.00                0.01   \n",
       "\n",
       "                      number_of_reviews  review_scores_rating  bedrooms  beds  \\\n",
       "log_price                         -0.04                  0.09      0.47  0.44   \n",
       "accommodates                       0.04                 -0.02      0.71  0.81   \n",
       "bathrooms                         -0.04                  0.02      0.57  0.51   \n",
       "host_response_rate                 0.07                  0.05      0.01  0.02   \n",
       "number_of_reviews                  1.00                 -0.02     -0.03  0.03   \n",
       "review_scores_rating              -0.02                  1.00      0.02 -0.03   \n",
       "bedrooms                          -0.03                  0.02      1.00  0.70   \n",
       "beds                               0.03                 -0.03      0.70  1.00   \n",
       "host_years                         0.20                  0.03      0.01 -0.03   \n",
       "\n",
       "                      host_years  \n",
       "log_price                   0.06  \n",
       "accommodates               -0.01  \n",
       "bathrooms                  -0.00  \n",
       "host_response_rate          0.01  \n",
       "number_of_reviews           0.20  \n",
       "review_scores_rating        0.03  \n",
       "bedrooms                    0.01  \n",
       "beds                       -0.03  \n",
       "host_years                  1.00  "
      ]
     },
     "execution_count": 32,
     "metadata": {},
     "output_type": "execute_result"
    }
   ],
   "source": [
    "# macierz korelacji\n",
    "corr1 = data1.corr().round(2)\n",
    "corr1"
   ]
  },
  {
   "cell_type": "code",
   "execution_count": 33,
   "metadata": {},
   "outputs": [
    {
     "data": {
      "text/plain": [
       "<matplotlib.axes._subplots.AxesSubplot at 0x12890ee80>"
      ]
     },
     "execution_count": 33,
     "metadata": {},
     "output_type": "execute_result"
    },
    {
     "data": {
      "image/png": "[encoded data removed]",
      "text/plain": [
       "<Figure size 432x288 with 2 Axes>"
      ]
     },
     "metadata": {
      "needs_background": "light"
     },
     "output_type": "display_data"
    }
   ],
   "source": [
    "# graficzna reprezentacja macierzy korelacji\n",
    "sns.heatmap(corr1, cmap = 'seismic', vmin = -1, vmax = 1, annot = True)"
   ]
  },
  {
   "cell_type": "code",
   "execution_count": 34,
   "metadata": {},
   "outputs": [
    {
     "data": {
      "text/plain": [
       "('#000000', '#14213d', '#fca311', '#e5e5e5', '#ffffff')"
      ]
     },
     "execution_count": 34,
     "metadata": {},
     "output_type": "execute_result"
    }
   ],
   "source": [
    "# paleta\n",
    "'#000000', '#14213d', '#fca311', '#e5e5e5', '#ffffff'"
   ]
  },
  {
   "cell_type": "code",
   "execution_count": 35,
   "metadata": {},
   "outputs": [
    {
     "data": {
      "text/plain": [
       "Text(0.5, 1.0, 'host_response_rate')"
      ]
     },
     "execution_count": 35,
     "metadata": {},
     "output_type": "execute_result"
    },
    {
     "data": {
      "image/png": "[encoded data removed]",
      "text/plain": [
       "<Figure size 432x288 with 1 Axes>"
      ]
     },
     "metadata": {
      "needs_background": "light"
     },
     "output_type": "display_data"
    }
   ],
   "source": [
    "# histogram - responsywność gospodarza\n",
    "plt.hist(data.host_response_rate, color='#023047')\n",
    "plt.xlabel('Responsywność gospodarza [%]')\n",
    "plt.ylabel('Liczba obserwacji')\n",
    "plt.title('host_response_rate')"
   ]
  },
  {
   "cell_type": "code",
   "execution_count": 36,
   "metadata": {},
   "outputs": [
    {
     "data": {
      "text/plain": [
       "Text(0.5, 1.0, 'number_of_reviews')"
      ]
     },
     "execution_count": 36,
     "metadata": {},
     "output_type": "execute_result"
    },
    {
     "data": {
      "image/png": "[encoded data removed]",
      "text/plain": [
       "<Figure size 432x288 with 1 Axes>"
      ]
     },
     "metadata": {
      "needs_background": "light"
     },
     "output_type": "display_data"
    }
   ],
   "source": [
    "# histogram - liczba opinii\n",
    "plt.hist(data.number_of_reviews, color='#8ecae6', bins=6)\n",
    "plt.xlabel('Liczba opinii')\n",
    "plt.ylabel('Liczba obserwacji')\n",
    "plt.title('number_of_reviews')"
   ]
  },
  {
   "cell_type": "code",
   "execution_count": 37,
   "metadata": {},
   "outputs": [
    {
     "data": {
      "text/plain": [
       "Text(0.5, 1.0, 'review_scores_rating')"
      ]
     },
     "execution_count": 37,
     "metadata": {},
     "output_type": "execute_result"
    },
    {
     "data": {
      "image/png": "[encoded data removed]",
      "text/plain": [
       "<Figure size 432x288 with 1 Axes>"
      ]
     },
     "metadata": {
      "needs_background": "light"
     },
     "output_type": "display_data"
    }
   ],
   "source": [
    "# histogram - średnia ocena\n",
    "plt.hist(data.review_scores_rating, color='#219ebc', bins=8)\n",
    "plt.xlabel('Średnia ocena [%]')\n",
    "plt.ylabel('Liczba obserwacji')\n",
    "plt.title('review_scores_rating')"
   ]
  },
  {
   "cell_type": "code",
   "execution_count": 38,
   "metadata": {},
   "outputs": [
    {
     "data": {
      "text/plain": [
       "Text(0.5, 1.0, 'Doświadczenie gospodarzy')"
      ]
     },
     "execution_count": 38,
     "metadata": {},
     "output_type": "execute_result"
    },
    {
     "data": {
      "image/png": "[encoded data removed]",
      "text/plain": [
       "<Figure size 432x288 with 1 Axes>"
      ]
     },
     "metadata": {
      "needs_background": "light"
     },
     "output_type": "display_data"
    }
   ],
   "source": [
    "# histogram - staż gospodarzy\n",
    "plt.hist(data.host_years, bins=5, color='#ffb703')\n",
    "plt.xlabel('Lata')\n",
    "plt.ylabel('Liczebność')\n",
    "plt.title('Doświadczenie gospodarzy')"
   ]
  },
  {
   "cell_type": "code",
   "execution_count": 39,
   "metadata": {},
   "outputs": [
    {
     "data": {
      "text/plain": [
       "<matplotlib.axes._subplots.AxesSubplot at 0x129349910>"
      ]
     },
     "execution_count": 39,
     "metadata": {},
     "output_type": "execute_result"
    },
    {
     "data": {
      "image/png": "[encoded data removed]",
      "text/plain": [
       "<Figure size 432x288 with 1 Axes>"
      ]
     },
     "metadata": {
      "needs_background": "light"
     },
     "output_type": "display_data"
    }
   ],
   "source": [
    "# wykres rozrzutu dla ceny w zależności od liczby opinii\n",
    "data.plot.scatter('number_of_reviews', 'log_price', title='Wykres rozrzutu', color='#023047')"
   ]
  },
  {
   "cell_type": "code",
   "execution_count": 40,
   "metadata": {},
   "outputs": [
    {
     "data": {
      "text/plain": [
       "<matplotlib.axes._subplots.AxesSubplot at 0x1271de2e0>"
      ]
     },
     "execution_count": 40,
     "metadata": {},
     "output_type": "execute_result"
    },
    {
     "data": {
      "image/png": "[encoded data removed]",
      "text/plain": [
       "<Figure size 576x432 with 1 Axes>"
      ]
     },
     "metadata": {
      "needs_background": "light"
     },
     "output_type": "display_data"
    }
   ],
   "source": [
    "# boxploty dla cen w zależności od polityki anulacyjnej\n",
    "data[['log_price', 'cancellation_policy']].boxplot(by = 'cancellation_policy', figsize=(8,6))"
   ]
  },
  {
   "cell_type": "code",
   "execution_count": 41,
   "metadata": {},
   "outputs": [
    {
     "data": {
      "text/plain": [
       "<matplotlib.axes._subplots.AxesSubplot at 0x12eae3640>"
      ]
     },
     "execution_count": 41,
     "metadata": {},
     "output_type": "execute_result"
    },
    {
     "data": {
      "image/png": "[encoded data removed]",
      "text/plain": [
       "<Figure size 504x504 with 1 Axes>"
      ]
     },
     "metadata": {},
     "output_type": "display_data"
    }
   ],
   "source": [
    "# wykres kołowy - liczebności - polityka anulacyjna\n",
    "data.cancellation_policy.value_counts().plot.pie(colors = [\"#8ecae6\",\"#219ebc\",\"#023047\",\"#ffb703\",\"#fb8500\"], figsize=(7,7))"
   ]
  },
  {
   "cell_type": "code",
   "execution_count": 42,
   "metadata": {},
   "outputs": [
    {
     "data": {
      "text/plain": [
       "<matplotlib.axes._subplots.AxesSubplot at 0x12bbe1610>"
      ]
     },
     "execution_count": 42,
     "metadata": {},
     "output_type": "execute_result"
    },
    {
     "data": {
      "image/png": "[encoded data removed]",
      "text/plain": [
       "<Figure size 576x432 with 1 Axes>"
      ]
     },
     "metadata": {
      "needs_background": "light"
     },
     "output_type": "display_data"
    }
   ],
   "source": [
    "# boxploty dla cen wg miast\n",
    "data[['log_price','city']].boxplot(by='city', figsize=(8,6))"
   ]
  },
  {
   "cell_type": "code",
   "execution_count": 43,
   "metadata": {},
   "outputs": [
    {
     "data": {
      "text/plain": [
       "<matplotlib.axes._subplots.AxesSubplot at 0x12ca95be0>"
      ]
     },
     "execution_count": 43,
     "metadata": {},
     "output_type": "execute_result"
    },
    {
     "data": {
      "image/png": "[encoded data removed]",
      "text/plain": [
       "<Figure size 432x288 with 1 Axes>"
      ]
     },
     "metadata": {},
     "output_type": "display_data"
    }
   ],
   "source": [
    "# wykres kołowy - liczebności - miasta\n",
    "data.city.value_counts().plot.pie(colors = [\"#8ecae6\",\"#219ebc\",\"#023047\",\"#ffb703\",\"#fb8500\", \"black\"])"
   ]
  },
  {
   "cell_type": "code",
   "execution_count": 44,
   "metadata": {},
   "outputs": [
    {
     "data": {
      "text/plain": [
       "<matplotlib.axes._subplots.AxesSubplot at 0x130af8d00>"
      ]
     },
     "execution_count": 44,
     "metadata": {},
     "output_type": "execute_result"
    },
    {
     "data": {
      "image/png": "[encoded data removed]",
      "text/plain": [
       "<Figure size 432x288 with 1 Axes>"
      ]
     },
     "metadata": {
      "needs_background": "light"
     },
     "output_type": "display_data"
    }
   ],
   "source": [
    "# wykresy wiolinowe dla cen w zależności od rodzaju łóżka\n",
    "sns.violinplot(x = 'bed_type', y = 'log_price', data = data, palette = 'muted')"
   ]
  },
  {
   "cell_type": "code",
   "execution_count": 45,
   "metadata": {},
   "outputs": [
    {
     "data": {
      "text/plain": [
       "<matplotlib.axes._subplots.AxesSubplot at 0x13301ceb0>"
      ]
     },
     "execution_count": 45,
     "metadata": {},
     "output_type": "execute_result"
    },
    {
     "data": {
      "image/png": "[encoded data removed]",
      "text/plain": [
       "<Figure size 432x288 with 1 Axes>"
      ]
     },
     "metadata": {
      "needs_background": "light"
     },
     "output_type": "display_data"
    }
   ],
   "source": [
    "# wykres słupkowy - liczebności - rodzaj łóżka\n",
    "data.bed_type.value_counts().plot.bar(color='#023047')"
   ]
  },
  {
   "cell_type": "code",
   "execution_count": 46,
   "metadata": {},
   "outputs": [
    {
     "name": "stdout",
     "output_type": "stream",
     "text": [
      "super_strict_60: 10\n",
      "super_strict_60: 102\n",
      "strict: 29513\n",
      "moderate: 17275\n",
      "flexible: 20135\n"
     ]
    }
   ],
   "source": [
    "# liczba obiektów należących do kategorii\n",
    "print('super_strict_60:', data.cancellation_policy[data.cancellation_policy == 'super_strict_60'].count())\n",
    "print('super_strict_60:', data.cancellation_policy[data.cancellation_policy == 'super_strict_30'].count())\n",
    "print('strict:', data.cancellation_policy[data.cancellation_policy == 'strict'].count())\n",
    "print('moderate:', data.cancellation_policy[data.cancellation_policy == 'moderate'].count())\n",
    "print('flexible:', data.cancellation_policy[data.cancellation_policy == 'flexible'].count())"
   ]
  },
  {
   "cell_type": "code",
   "execution_count": 47,
   "metadata": {},
   "outputs": [
    {
     "data": {
      "text/plain": [
       "<matplotlib.axes._subplots.AxesSubplot at 0x13307ed90>"
      ]
     },
     "execution_count": 47,
     "metadata": {},
     "output_type": "execute_result"
    },
    {
     "data": {
      "image/png": "[encoded data removed]",
      "text/plain": [
       "<Figure size 432x288 with 1 Axes>"
      ]
     },
     "metadata": {},
     "output_type": "display_data"
    }
   ],
   "source": [
    "# wykres kołowy - liczebności - rodzaj pokoju (prywatność)\n",
    "data.room_type.value_counts().plot.pie(colors = [\"#023047\", \"#8ecae6\",\"#ffb703\"])"
   ]
  },
  {
   "cell_type": "code",
   "execution_count": 48,
   "metadata": {},
   "outputs": [
    {
     "data": {
      "text/plain": [
       "<matplotlib.axes._subplots.AxesSubplot at 0x1344a1c40>"
      ]
     },
     "execution_count": 48,
     "metadata": {},
     "output_type": "execute_result"
    },
    {
     "data": {
      "image/png": "[encoded data removed]",
      "text/plain": [
       "<Figure size 576x576 with 1 Axes>"
      ]
     },
     "metadata": {},
     "output_type": "display_data"
    }
   ],
   "source": [
    "# wykres kołowy - liczebności - posiadanie zdj. profilowego przez gospodarza\n",
    "data['host_has_profile_pic'].value_counts().plot.pie(colors = ['#ffb703', '#023047'],figsize=(8,8))"
   ]
  },
  {
   "cell_type": "code",
   "execution_count": 49,
   "metadata": {},
   "outputs": [
    {
     "data": {
      "text/plain": [
       "<matplotlib.axes._subplots.AxesSubplot at 0x1344e13d0>"
      ]
     },
     "execution_count": 49,
     "metadata": {},
     "output_type": "execute_result"
    },
    {
     "data": {
      "image/png": "[encoded data removed]",
      "text/plain": [
       "<Figure size 576x576 with 1 Axes>"
      ]
     },
     "metadata": {},
     "output_type": "display_data"
    }
   ],
   "source": [
    "# wykres kołowy - liczebności - opłata za sprzątanie\n",
    "data['cleaning_fee'].value_counts().plot.pie(colors = ['#ffb703', '#023047'],figsize=(8,8))"
   ]
  },
  {
   "cell_type": "code",
   "execution_count": 50,
   "metadata": {},
   "outputs": [
    {
     "data": {
      "text/plain": [
       "<matplotlib.axes._subplots.AxesSubplot at 0x134521160>"
      ]
     },
     "execution_count": 50,
     "metadata": {},
     "output_type": "execute_result"
    },
    {
     "data": {
      "image/png": "[encoded data removed]",
      "text/plain": [
       "<Figure size 576x576 with 1 Axes>"
      ]
     },
     "metadata": {},
     "output_type": "display_data"
    }
   ],
   "source": [
    "# wykres kołowy - liczebności - posiadanie potwierdzonej tożsamości przez gospodarza\n",
    "data['host_identity_verified'].value_counts().plot.pie(colors = ['#ffb703', '#023047'],figsize=(8,8))"
   ]
  },
  {
   "cell_type": "code",
   "execution_count": 51,
   "metadata": {},
   "outputs": [
    {
     "data": {
      "text/plain": [
       "<matplotlib.axes._subplots.AxesSubplot at 0x134555fa0>"
      ]
     },
     "execution_count": 51,
     "metadata": {},
     "output_type": "execute_result"
    },
    {
     "data": {
      "image/png": "[encoded data removed]",
      "text/plain": [
       "<Figure size 576x576 with 1 Axes>"
      ]
     },
     "metadata": {},
     "output_type": "display_data"
    }
   ],
   "source": [
    "# wykres kołowy - liczebności - automatyczne potwierdzenie rezerwacji\n",
    "data['instant_bookable'].value_counts().plot.pie(colors = ['#ffb703', '#023047'],figsize=(8,8))"
   ]
  },
  {
   "cell_type": "code",
   "execution_count": 52,
   "metadata": {},
   "outputs": [
    {
     "data": {
      "text/plain": [
       "<matplotlib.axes._subplots.AxesSubplot at 0x134599850>"
      ]
     },
     "execution_count": 52,
     "metadata": {},
     "output_type": "execute_result"
    },
    {
     "data": {
      "image/png": "[encoded data removed]",
      "text/plain": [
       "<Figure size 432x288 with 1 Axes>"
      ]
     },
     "metadata": {
      "needs_background": "light"
     },
     "output_type": "display_data"
    }
   ],
   "source": [
    "# histogram - max liczba lokatorów\n",
    "data['accommodates'].plot.hist(bins=13)"
   ]
  },
  {
   "cell_type": "code",
   "execution_count": 53,
   "metadata": {},
   "outputs": [
    {
     "data": {
      "text/plain": [
       "<matplotlib.axes._subplots.AxesSubplot at 0x134f3fcd0>"
      ]
     },
     "execution_count": 53,
     "metadata": {},
     "output_type": "execute_result"
    },
    {
     "data": {
      "image/png": "[encoded data removed]",
      "text/plain": [
       "<Figure size 432x288 with 1 Axes>"
      ]
     },
     "metadata": {
      "needs_background": "light"
     },
     "output_type": "display_data"
    }
   ],
   "source": [
    "# wykres słupkowy - rodzaj obiektu\n",
    "data.property_type.value_counts().plot.bar(color='#023047')"
   ]
  },
  {
   "cell_type": "code",
   "execution_count": 54,
   "metadata": {},
   "outputs": [
    {
     "data": {
      "text/plain": [
       "['Apartment', 'Condominium', 'House', 'Townhouse', 'Loft', ..., 'Earth House', 'Train', 'Cave', 'Casa particular', 'Parking Space']\n",
       "Length: 33\n",
       "Categories (33, object): ['Apartment', 'Condominium', 'House', 'Townhouse', ..., 'Train', 'Cave', 'Casa particular', 'Parking Space']"
      ]
     },
     "execution_count": 54,
     "metadata": {},
     "output_type": "execute_result"
    }
   ],
   "source": [
    "# typy obiektów (liczba dostępnych typów - dlugość wektora)\n",
    "data.property_type.unique()"
   ]
  },
  {
   "cell_type": "code",
   "execution_count": 55,
   "metadata": {},
   "outputs": [],
   "source": [
    "#data.bathrooms.value_counts().plot.bar(color = ['yellow', 'red', 'pink', 'green', 'purple', 'silver'])"
   ]
  },
  {
   "cell_type": "code",
   "execution_count": 56,
   "metadata": {},
   "outputs": [
    {
     "data": {
      "text/html": [
       "<table class=\"simpletable\">\n",
       "<caption>OLS Regression Results</caption>\n",
       "<tr>\n",
       "  <th>Dep. Variable:</th>        <td>log_price</td>    <th>  R-squared (uncentered):</th>      <td>   0.981</td> \n",
       "</tr>\n",
       "<tr>\n",
       "  <th>Model:</th>                   <td>OLS</td>       <th>  Adj. R-squared (uncentered):</th> <td>   0.981</td> \n",
       "</tr>\n",
       "<tr>\n",
       "  <th>Method:</th>             <td>Least Squares</td>  <th>  F-statistic:       </th>          <td>1.163e+06</td>\n",
       "</tr>\n",
       "<tr>\n",
       "  <th>Date:</th>             <td>Wed, 03 Mar 2021</td> <th>  Prob (F-statistic):</th>           <td>  0.00</td>  \n",
       "</tr>\n",
       "<tr>\n",
       "  <th>Time:</th>                 <td>01:42:09</td>     <th>  Log-Likelihood:    </th>          <td> -67872.</td> \n",
       "</tr>\n",
       "<tr>\n",
       "  <th>No. Observations:</th>      <td> 67035</td>      <th>  AIC:               </th>          <td>1.358e+05</td>\n",
       "</tr>\n",
       "<tr>\n",
       "  <th>Df Residuals:</th>          <td> 67032</td>      <th>  BIC:               </th>          <td>1.358e+05</td>\n",
       "</tr>\n",
       "<tr>\n",
       "  <th>Df Model:</th>              <td>     3</td>      <th>                     </th>              <td> </td>    \n",
       "</tr>\n",
       "<tr>\n",
       "  <th>Covariance Type:</th>      <td>nonrobust</td>    <th>                     </th>              <td> </td>    \n",
       "</tr>\n",
       "</table>\n",
       "<table class=\"simpletable\">\n",
       "<tr>\n",
       "            <td></td>              <th>coef</th>     <th>std err</th>      <th>t</th>      <th>P>|t|</th>  <th>[0.025</th>    <th>0.975]</th>  \n",
       "</tr>\n",
       "<tr>\n",
       "  <th>bedrooms</th>             <td>    0.4164</td> <td>    0.003</td> <td>  137.510</td> <td> 0.000</td> <td>    0.410</td> <td>    0.422</td>\n",
       "</tr>\n",
       "<tr>\n",
       "  <th>host_response_rate</th>   <td>    0.0063</td> <td>    0.000</td> <td>   37.805</td> <td> 0.000</td> <td>    0.006</td> <td>    0.007</td>\n",
       "</tr>\n",
       "<tr>\n",
       "  <th>review_scores_rating</th> <td>    0.0386</td> <td>    0.000</td> <td>  221.700</td> <td> 0.000</td> <td>    0.038</td> <td>    0.039</td>\n",
       "</tr>\n",
       "</table>\n",
       "<table class=\"simpletable\">\n",
       "<tr>\n",
       "  <th>Omnibus:</th>       <td>3405.853</td> <th>  Durbin-Watson:     </th> <td>   1.998</td>\n",
       "</tr>\n",
       "<tr>\n",
       "  <th>Prob(Omnibus):</th>  <td> 0.000</td>  <th>  Jarque-Bera (JB):  </th> <td>5790.589</td>\n",
       "</tr>\n",
       "<tr>\n",
       "  <th>Skew:</th>           <td> 0.417</td>  <th>  Prob(JB):          </th> <td>    0.00</td>\n",
       "</tr>\n",
       "<tr>\n",
       "  <th>Kurtosis:</th>       <td> 4.174</td>  <th>  Cond. No.          </th> <td>    159.</td>\n",
       "</tr>\n",
       "</table><br/><br/>Warnings:<br/>[1] Standard Errors assume that the covariance matrix of the errors is correctly specified."
      ],
      "text/plain": [
       "<class 'statsmodels.iolib.summary.Summary'>\n",
       "\"\"\"\n",
       "                                 OLS Regression Results                                \n",
       "=======================================================================================\n",
       "Dep. Variable:              log_price   R-squared (uncentered):                   0.981\n",
       "Model:                            OLS   Adj. R-squared (uncentered):              0.981\n",
       "Method:                 Least Squares   F-statistic:                          1.163e+06\n",
       "Date:                Wed, 03 Mar 2021   Prob (F-statistic):                        0.00\n",
       "Time:                        01:42:09   Log-Likelihood:                         -67872.\n",
       "No. Observations:               67035   AIC:                                  1.358e+05\n",
       "Df Residuals:                   67032   BIC:                                  1.358e+05\n",
       "Df Model:                           3                                                  \n",
       "Covariance Type:            nonrobust                                                  \n",
       "========================================================================================\n",
       "                           coef    std err          t      P>|t|      [0.025      0.975]\n",
       "----------------------------------------------------------------------------------------\n",
       "bedrooms                 0.4164      0.003    137.510      0.000       0.410       0.422\n",
       "host_response_rate       0.0063      0.000     37.805      0.000       0.006       0.007\n",
       "review_scores_rating     0.0386      0.000    221.700      0.000       0.038       0.039\n",
       "==============================================================================\n",
       "Omnibus:                     3405.853   Durbin-Watson:                   1.998\n",
       "Prob(Omnibus):                  0.000   Jarque-Bera (JB):             5790.589\n",
       "Skew:                           0.417   Prob(JB):                         0.00\n",
       "Kurtosis:                       4.174   Cond. No.                         159.\n",
       "==============================================================================\n",
       "\n",
       "Warnings:\n",
       "[1] Standard Errors assume that the covariance matrix of the errors is correctly specified.\n",
       "\"\"\""
      ]
     },
     "execution_count": 56,
     "metadata": {},
     "output_type": "execute_result"
    }
   ],
   "source": [
    "#model - cena ~ l. łazienek, oc. responsywności gosp., średnia ocena obiektu\n",
    "import statsmodels.api as sm\n",
    "model1 = sm.OLS(endog=data['log_price'],\n",
    "            exog=data[['bedrooms', 'host_response_rate', 'review_scores_rating']]).fit()\n",
    "model1.summary()\n"
   ]
  },
  {
   "cell_type": "code",
   "execution_count": 58,
   "metadata": {},
   "outputs": [],
   "source": [
    "# wizualizacja danych na mapie\n",
    "\n",
    "#import folium\n",
    "#from math import floor\n",
    "\n",
    "#map = folium.Map()\n",
    "\n",
    "#for apt in data.iterrows():\n",
    " #   lat = data.latitude\n",
    " #   lon = data.longitude\n",
    " #   name = data.neighbourhood\n",
    " #   price = data.log_price\n",
    " #   folium.Marker([lat, lon],\n",
    " #                popup=name+\"<br />\"+str(price)).add_to(map)\n",
    "    \n",
    "#map"
   ]
  },
  {
   "cell_type": "code",
   "execution_count": 59,
   "metadata": {},
   "outputs": [
    {
     "data": {
      "text/plain": [
       "<matplotlib.axes._subplots.AxesSubplot at 0x12eadacd0>"
      ]
     },
     "execution_count": 59,
     "metadata": {},
     "output_type": "execute_result"
    },
    {
     "data": {
      "image/png": "[encoded data removed]",
      "text/plain": [
       "<Figure size 432x288 with 1 Axes>"
      ]
     },
     "metadata": {
      "needs_background": "light"
     },
     "output_type": "display_data"
    }
   ],
   "source": [
    "# histogram dla zmiennej bathrooms\n",
    "data['bathrooms'].plot.hist()"
   ]
  },
  {
   "cell_type": "code",
   "execution_count": 60,
   "metadata": {},
   "outputs": [
    {
     "data": {
      "text/plain": [
       "<matplotlib.axes._subplots.AxesSubplot at 0x13c71a730>"
      ]
     },
     "execution_count": 60,
     "metadata": {},
     "output_type": "execute_result"
    },
    {
     "data": {
      "image/png": "[encoded data removed]",
      "text/plain": [
       "<Figure size 432x288 with 1 Axes>"
      ]
     },
     "metadata": {
      "needs_background": "light"
     },
     "output_type": "display_data"
    }
   ],
   "source": [
    "# histogram dla zmiennej bedrooms\n",
    "data['bedrooms'].plot.hist()"
   ]
  },
  {
   "cell_type": "code",
   "execution_count": 61,
   "metadata": {},
   "outputs": [
    {
     "data": {
      "text/plain": [
       "<matplotlib.axes._subplots.AxesSubplot at 0x13c701970>"
      ]
     },
     "execution_count": 61,
     "metadata": {},
     "output_type": "execute_result"
    },
    {
     "data": {
      "image/png": "[encoded data removed]",
      "text/plain": [
       "<Figure size 432x288 with 1 Axes>"
      ]
     },
     "metadata": {
      "needs_background": "light"
     },
     "output_type": "display_data"
    }
   ],
   "source": [
    "# histogram dla zmiennej beds\n",
    "data['beds'].plot.hist()"
   ]
  },
  {
   "cell_type": "code",
   "execution_count": 62,
   "metadata": {},
   "outputs": [
    {
     "data": {
      "text/plain": [
       "<matplotlib.axes._subplots.AxesSubplot at 0x13c634bb0>"
      ]
     },
     "execution_count": 62,
     "metadata": {},
     "output_type": "execute_result"
    },
    {
     "data": {
      "image/png": "[encoded data removed]",
      "text/plain": [
       "<Figure size 432x288 with 1 Axes>"
      ]
     },
     "metadata": {
      "needs_background": "light"
     },
     "output_type": "display_data"
    }
   ],
   "source": [
    "# wykres pudełkowy dla zmienej review_scores_rating\n",
    "data.review_scores_rating.plot.box()"
   ]
  }
 ],
 "metadata": {
  "kernelspec": {
   "display_name": "Python 3",
   "language": "python",
   "name": "python3"
  },
  "language_info": {
   "codemirror_mode": {
    "name": "ipython",
    "version": 3
   },
   "file_extension": ".py",
   "mimetype": "text/x-python",
   "name": "python",
   "nbconvert_exporter": "python",
   "pygments_lexer": "ipython3",
   "version": "3.8.3"
  }
 },
 "nbformat": 4,
 "nbformat_minor": 4
}
