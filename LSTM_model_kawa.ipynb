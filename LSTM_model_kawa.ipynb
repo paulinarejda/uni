{
 "cells": [
  {
   "cell_type": "markdown",
   "metadata": {},
   "source": [
    "# Zadanie dodatkowe - MZDE - KAWA - Paulina Rejda"
   ]
  },
  {
   "cell_type": "markdown",
   "metadata": {},
   "source": [
    "- Do badania wzięto dane z ostatnich dwóch lat (2 lata od dnia prognozy, tj. 07.05.21 r.), ponieważ dla tego okresu można wyodrębnić zauważalny, bardziej jednostajny trend.\n",
    "- Przed stworzeniem modelu dane znormalizowano i usunięto braki.\n",
    "- Do prognozowania wykorzystano model Bi LSTM. \n",
    "- Long Short-Term Memory to rodzaj rekurencyjnej sieci neuronowej, które z założenia są w stanie poznać kontekst niezbędny do predykcji szeregów czasowych (nie trzeba go odgórnie określać i narzucać). \n",
    "- Wykorzystano Bidirectional LSTM, będące rozszerzeniem klasycznego LSTM. Uznaje się, że Bi LSTM może poprawić performance modelu, ponieważ, w przeciwieństwie do jednokierunkowego LSTMu, który wykorzystuje tylko informacje z przeszłości, zachowuje on w swoim rdzeniu informacje z warstwy wyjściowej i wykorzystuje w ten sposób w tym samym momencie informacje z przyszłości jak i przeszłości. Takie połączenie stanów pozwala na lepsze zrozumienie kontekstu.\n",
    "- W warstwie output wykorzystano liniową funkcję aktywacyjną, która nie zmienia w żaden sposób ważonej sumy danych wejściowych, tylko zwraca bezpośrednie wartości.\n",
    "- Po stworzeniu modelu, zwizualizowano funkcję loss dla zbioru testowego i treningowego, po czym wyznaczono predykcje dla 7 obserwacji i obliczono statystyki MAE, MSE, RMSE oraz R^2. Następnie przygotowano tablicę z datami do przyszłych predykcji. \n",
    "- Kolejnym krokiem jest wyznaczenie predykcji dla wyznaczonego okresu.\n"
   ]
  },
  {
   "cell_type": "code",
   "execution_count": 3,
   "metadata": {},
   "outputs": [],
   "source": [
    "# import pakietów\n",
    "import numpy as np\n",
    "from tensorflow import keras\n",
    "from keras.layers.core import *\n",
    "from keras.models import Model, Sequential\n",
    "from keras.layers import Dense, Dropout, LSTM, Conv1D, MaxPooling1D, SimpleRNN, Bidirectional, Input\n",
    "import pandas as pd\n",
    "from matplotlib import pyplot as plt\n",
    "from sklearn. preprocessing import MinMaxScaler\n",
    "from sklearn.metrics import mean_absolute_error, mean_squared_error, r2_score\n",
    "import seaborn as sns\n",
    "import tensorflow as tf\n",
    "import datetime\n"
   ]
  },
  {
   "cell_type": "code",
   "execution_count": 4,
   "metadata": {},
   "outputs": [
    {
     "data": {
      "text/html": [
       "<div>\n",
       "<style scoped>\n",
       "    .dataframe tbody tr th:only-of-type {\n",
       "        vertical-align: middle;\n",
       "    }\n",
       "\n",
       "    .dataframe tbody tr th {\n",
       "        vertical-align: top;\n",
       "    }\n",
       "\n",
       "    .dataframe thead th {\n",
       "        text-align: right;\n",
       "    }\n",
       "</style>\n",
       "<table border=\"1\" class=\"dataframe\">\n",
       "  <thead>\n",
       "    <tr style=\"text-align: right;\">\n",
       "      <th></th>\n",
       "      <th>Date</th>\n",
       "      <th>Open</th>\n",
       "      <th>High</th>\n",
       "      <th>Low</th>\n",
       "      <th>Close</th>\n",
       "      <th>Volume</th>\n",
       "      <th>OpenInt</th>\n",
       "    </tr>\n",
       "  </thead>\n",
       "  <tbody>\n",
       "    <tr>\n",
       "      <th>0</th>\n",
       "      <td>2019-05-01</td>\n",
       "      <td>92.80</td>\n",
       "      <td>93.10</td>\n",
       "      <td>90.85</td>\n",
       "      <td>91.10</td>\n",
       "      <td>53638</td>\n",
       "      <td>327318.0</td>\n",
       "    </tr>\n",
       "    <tr>\n",
       "      <th>1</th>\n",
       "      <td>2019-05-02</td>\n",
       "      <td>91.10</td>\n",
       "      <td>92.75</td>\n",
       "      <td>90.75</td>\n",
       "      <td>91.55</td>\n",
       "      <td>40350</td>\n",
       "      <td>329763.0</td>\n",
       "    </tr>\n",
       "    <tr>\n",
       "      <th>2</th>\n",
       "      <td>2019-05-03</td>\n",
       "      <td>91.25</td>\n",
       "      <td>92.60</td>\n",
       "      <td>90.50</td>\n",
       "      <td>90.60</td>\n",
       "      <td>31181</td>\n",
       "      <td>332337.0</td>\n",
       "    </tr>\n",
       "    <tr>\n",
       "      <th>3</th>\n",
       "      <td>2019-05-06</td>\n",
       "      <td>90.25</td>\n",
       "      <td>90.75</td>\n",
       "      <td>89.40</td>\n",
       "      <td>90.15</td>\n",
       "      <td>25277</td>\n",
       "      <td>335349.0</td>\n",
       "    </tr>\n",
       "    <tr>\n",
       "      <th>4</th>\n",
       "      <td>2019-05-07</td>\n",
       "      <td>89.90</td>\n",
       "      <td>90.20</td>\n",
       "      <td>87.60</td>\n",
       "      <td>88.00</td>\n",
       "      <td>66991</td>\n",
       "      <td>339590.0</td>\n",
       "    </tr>\n",
       "  </tbody>\n",
       "</table>\n",
       "</div>"
      ],
      "text/plain": [
       "         Date   Open   High    Low  Close  Volume   OpenInt\n",
       "0  2019-05-01  92.80  93.10  90.85  91.10   53638  327318.0\n",
       "1  2019-05-02  91.10  92.75  90.75  91.55   40350  329763.0\n",
       "2  2019-05-03  91.25  92.60  90.50  90.60   31181  332337.0\n",
       "3  2019-05-06  90.25  90.75  89.40  90.15   25277  335349.0\n",
       "4  2019-05-07  89.90  90.20  87.60  88.00   66991  339590.0"
      ]
     },
     "execution_count": 4,
     "metadata": {},
     "output_type": "execute_result"
    }
   ],
   "source": [
    "# import danych\n",
    "df = pd.read_csv('/Users/paulinarejda/Desktop/UE/MZDE/kc_f_d.csv')\n",
    "df.head()"
   ]
  },
  {
   "cell_type": "code",
   "execution_count": 5,
   "metadata": {},
   "outputs": [
    {
     "data": {
      "text/plain": [
       "'2021-05-07'"
      ]
     },
     "execution_count": 5,
     "metadata": {},
     "output_type": "execute_result"
    }
   ],
   "source": [
    "# dzień pobrania danych - maksymalna wartość zmiennej Date\n",
    "df.Date.max()"
   ]
  },
  {
   "cell_type": "code",
   "execution_count": 6,
   "metadata": {},
   "outputs": [
    {
     "data": {
      "text/plain": [
       "(510, 7)"
      ]
     },
     "execution_count": 6,
     "metadata": {},
     "output_type": "execute_result"
    }
   ],
   "source": [
    "# wymiary tabeli\n",
    "df.shape"
   ]
  },
  {
   "cell_type": "code",
   "execution_count": 7,
   "metadata": {},
   "outputs": [],
   "source": [
    "# data jako indeks\n",
    "df[\"Date\"] = pd.to_datetime(df.Date,format=\"%Y-%m-%d\")\n",
    "df.index = df['Date']\n",
    "df = df.drop('Date', axis=1)"
   ]
  },
  {
   "cell_type": "code",
   "execution_count": 8,
   "metadata": {},
   "outputs": [
    {
     "data": {
      "image/png": "[encoded data removed]",
      "text/plain": [
       "<Figure size 1080x360 with 1 Axes>"
      ]
     },
     "metadata": {
      "needs_background": "light"
     },
     "output_type": "display_data"
    }
   ],
   "source": [
    "# wykres wartości historycznych\n",
    "plt.figure(figsize = (15,5))\n",
    "plt.plot(df.Close)\n",
    "plt.title('Close price')\n",
    "plt.xlabel ('Date')\n",
    "plt.ylabel ('Price')\n",
    "plt.show()"
   ]
  },
  {
   "cell_type": "code",
   "execution_count": 9,
   "metadata": {},
   "outputs": [],
   "source": [
    "# Feature Scaling Normalization - normalizacja\n",
    "scaler = MinMaxScaler()\n",
    "# normalizacja min-max i skalowanie zmiennych w skali od 0 do 1 \n",
    "close_price = df['Close'].values.reshape(-1, 1) \n",
    "# funkcja skalująca oczekuje argumentów (x, y)\n",
    "scaled_close = scaler.fit_transform(close_price)\n",
    "scaled_close = scaled_close[~np.isnan(scaled_close)] \n",
    "# usuwanie braków NaNs (jeśli występują)\n",
    "scaled_close = scaled_close.reshape(-1, 1) \n",
    "# formatowanie danych po usunięciu NANów "
   ]
  },
  {
   "cell_type": "code",
   "execution_count": 10,
   "metadata": {},
   "outputs": [
    {
     "name": "stdout",
     "output_type": "stream",
     "text": [
      "(287, 99, 1) (123, 99, 1)\n"
     ]
    },
    {
     "data": {
      "text/plain": [
       "'Model wykorzyta 287 sekwencji uzwględniających 99 dni (zmian cen) do procesu uczenia. Będzie przewidywać cenę 99 dni do przodu. '"
      ]
     },
     "execution_count": 10,
     "metadata": {},
     "output_type": "execute_result"
    }
   ],
   "source": [
    "SEQ_LEN = 100\n",
    "# tworzenie sekwencji 100 dni w punkcie 0\n",
    "def to_sequences(data, seq_len):\n",
    "    d = []\n",
    "    for index in range(len(data) - seq_len):\n",
    "        d.append(data[index: index + seq_len])\n",
    "    return np.array(d)\n",
    "def preprocess(data_raw, seq_len, train_split):\n",
    "    data = to_sequences(data_raw, seq_len)\n",
    "    num_train = int(train_split * data.shape[0])\n",
    "    X_train = data[:num_train, :-1, :]\n",
    "    y_train = data[:num_train, -1, :]\n",
    "    X_test = data[num_train:, :-1, :]\n",
    "    y_test = data[num_train:, -1, :]\n",
    "    return X_train, y_train, X_test, y_test\n",
    "\"\"\"Walidacja postępująca: \n",
    "Wstępna długość sekwencji jest określona na 100, dlatego algorytm będzie wykonywać \"krok w prawo\" i tworzyć nową sekwencję.\n",
    "Proces będzie się powtarzać do momentu, w którym zostaną wykorzystane wszystkie możliwe pozycje.\"\"\"\n",
    "X_train, y_train, X_test, y_test = preprocess(scaled_close, SEQ_LEN, train_split = 0.7) \n",
    "# 30% danych zachowanych na testy\n",
    "print(X_train.shape, X_test.shape)\n",
    "\"\"\"Model wykorzyta 287 sekwencji uzwględniających 99 dni (zmian cen) do procesu uczenia. Będzie przewidywać cenę 99 dni do przodu. \"\"\"   "
   ]
  },
  {
   "cell_type": "code",
   "execution_count": 11,
   "metadata": {},
   "outputs": [
    {
     "name": "stdout",
     "output_type": "stream",
     "text": [
      "Epoch 1/50\n",
      "5/5 [==============================] - 25s 2s/step - loss: 0.0971 - val_loss: 0.0105\n",
      "Epoch 2/50\n",
      "5/5 [==============================] - 6s 1s/step - loss: 0.0414 - val_loss: 8.2012e-04\n",
      "Epoch 3/50\n",
      "5/5 [==============================] - 5s 1s/step - loss: 0.0182 - val_loss: 0.0051\n",
      "Epoch 4/50\n",
      "5/5 [==============================] - 6s 1s/step - loss: 0.0117 - val_loss: 0.0013\n",
      "Epoch 5/50\n",
      "5/5 [==============================] - 6s 1s/step - loss: 0.0160 - val_loss: 0.0019\n",
      "Epoch 6/50\n",
      "5/5 [==============================] - 5s 1s/step - loss: 0.0110 - val_loss: 0.0036\n",
      "Epoch 7/50\n",
      "5/5 [==============================] - 6s 1s/step - loss: 0.0091 - val_loss: 8.3201e-04\n",
      "Epoch 8/50\n",
      "5/5 [==============================] - 5s 1s/step - loss: 0.0099 - val_loss: 0.0015\n",
      "Epoch 9/50\n",
      "5/5 [==============================] - 5s 1s/step - loss: 0.0074 - val_loss: 0.0017\n",
      "Epoch 10/50\n",
      "5/5 [==============================] - 6s 1s/step - loss: 0.0065 - val_loss: 0.0011\n",
      "Epoch 11/50\n",
      "5/5 [==============================] - 6s 1s/step - loss: 0.0059 - val_loss: 0.0014\n",
      "Epoch 12/50\n",
      "5/5 [==============================] - 6s 1s/step - loss: 0.0050 - val_loss: 0.0019\n",
      "Epoch 13/50\n",
      "5/5 [==============================] - 6s 1s/step - loss: 0.0047 - val_loss: 0.0016\n",
      "Epoch 14/50\n",
      "5/5 [==============================] - 5s 1s/step - loss: 0.0045 - val_loss: 0.0013\n",
      "Epoch 15/50\n",
      "5/5 [==============================] - 5s 1s/step - loss: 0.0044 - val_loss: 0.0012\n",
      "Epoch 16/50\n",
      "5/5 [==============================] - 7s 1s/step - loss: 0.0045 - val_loss: 0.0010\n",
      "Epoch 17/50\n",
      "5/5 [==============================] - 6s 1s/step - loss: 0.0045 - val_loss: 0.0011\n",
      "Epoch 18/50\n",
      "5/5 [==============================] - 6s 1s/step - loss: 0.0043 - val_loss: 0.0011\n",
      "Epoch 19/50\n",
      "5/5 [==============================] - 7s 1s/step - loss: 0.0044 - val_loss: 0.0012\n",
      "Epoch 20/50\n",
      "5/5 [==============================] - 8s 1s/step - loss: 0.0042 - val_loss: 0.0013\n",
      "Epoch 21/50\n",
      "5/5 [==============================] - 6s 1s/step - loss: 0.0045 - val_loss: 0.0012\n",
      "Epoch 22/50\n",
      "5/5 [==============================] - 7s 1s/step - loss: 0.0041 - val_loss: 0.0012\n",
      "Epoch 23/50\n",
      "5/5 [==============================] - 7s 1s/step - loss: 0.0042 - val_loss: 9.9561e-04\n",
      "Epoch 24/50\n",
      "5/5 [==============================] - 7s 1s/step - loss: 0.0040 - val_loss: 0.0011\n",
      "Epoch 25/50\n",
      "5/5 [==============================] - 7s 1s/step - loss: 0.0038 - val_loss: 9.0496e-04\n",
      "Epoch 26/50\n",
      "5/5 [==============================] - 6s 1s/step - loss: 0.0039 - val_loss: 9.0629e-04\n",
      "Epoch 27/50\n",
      "5/5 [==============================] - 7s 1s/step - loss: 0.0037 - val_loss: 9.4983e-04\n",
      "Epoch 28/50\n",
      "5/5 [==============================] - 6s 1s/step - loss: 0.0036 - val_loss: 9.2766e-04\n",
      "Epoch 29/50\n",
      "5/5 [==============================] - 7s 1s/step - loss: 0.0036 - val_loss: 9.6967e-04\n",
      "Epoch 30/50\n",
      "5/5 [==============================] - 8s 1s/step - loss: 0.0036 - val_loss: 8.6949e-04\n",
      "Epoch 31/50\n",
      "5/5 [==============================] - 7s 1s/step - loss: 0.0035 - val_loss: 9.0921e-04\n",
      "Epoch 32/50\n",
      "5/5 [==============================] - 8s 1s/step - loss: 0.0036 - val_loss: 7.9448e-04\n",
      "Epoch 33/50\n",
      "5/5 [==============================] - 7s 1s/step - loss: 0.0035 - val_loss: 0.0010\n",
      "Epoch 34/50\n",
      "5/5 [==============================] - 8s 2s/step - loss: 0.0035 - val_loss: 8.8219e-04\n",
      "Epoch 35/50\n",
      "5/5 [==============================] - 8s 1s/step - loss: 0.0034 - val_loss: 7.7010e-04\n",
      "Epoch 36/50\n",
      "5/5 [==============================] - 7s 1s/step - loss: 0.0036 - val_loss: 8.1460e-04\n",
      "Epoch 37/50\n",
      "5/5 [==============================] - 7s 1s/step - loss: 0.0035 - val_loss: 0.0011\n",
      "Epoch 38/50\n",
      "5/5 [==============================] - 7s 1s/step - loss: 0.0032 - val_loss: 7.1706e-04\n",
      "Epoch 39/50\n",
      "5/5 [==============================] - 7s 2s/step - loss: 0.0039 - val_loss: 7.4077e-04\n",
      "Epoch 40/50\n",
      "5/5 [==============================] - 7s 1s/step - loss: 0.0035 - val_loss: 0.0019\n",
      "Epoch 41/50\n",
      "5/5 [==============================] - 7s 1s/step - loss: 0.0038 - val_loss: 7.5151e-04\n",
      "Epoch 42/50\n",
      "5/5 [==============================] - 7s 1s/step - loss: 0.0035 - val_loss: 0.0011\n",
      "Epoch 43/50\n",
      "5/5 [==============================] - 7s 1s/step - loss: 0.0032 - val_loss: 7.5219e-04\n",
      "Epoch 44/50\n",
      "5/5 [==============================] - 8s 1s/step - loss: 0.0032 - val_loss: 8.2687e-04\n",
      "Epoch 45/50\n",
      "5/5 [==============================] - 7s 1s/step - loss: 0.0031 - val_loss: 9.8022e-04\n",
      "Epoch 46/50\n",
      "5/5 [==============================] - 7s 1s/step - loss: 0.0030 - val_loss: 6.9680e-04\n",
      "Epoch 47/50\n",
      "5/5 [==============================] - 7s 1s/step - loss: 0.0030 - val_loss: 9.0639e-04\n",
      "Epoch 48/50\n",
      "5/5 [==============================] - 8s 2s/step - loss: 0.0030 - val_loss: 7.1657e-04\n",
      "Epoch 49/50\n",
      "5/5 [==============================] - 7s 1s/step - loss: 0.0029 - val_loss: 7.2789e-04\n",
      "Epoch 50/50\n",
      "5/5 [==============================] - 8s 2s/step - loss: 0.0029 - val_loss: 7.4455e-04\n"
     ]
    }
   ],
   "source": [
    "DROPOUT = 0.2 \n",
    "# 20% Dropout, by zapobiec przetrenowaniu modelu \n",
    "WINDOW_SIZE = SEQ_LEN - 1\n",
    "model = keras.Sequential()\n",
    "# warstwa Input \n",
    "model.add(Bidirectional(LSTM(WINDOW_SIZE, return_sequences=True), input_shape=(WINDOW_SIZE, X_train.shape[-1])))\n",
    "\"\"\" Dwukierunkowe RNNy umożliwiają uczenie na wartościach sekwencji wstecz i postępująco\"\"\"\n",
    "model.add(Dropout(rate=DROPOUT))\n",
    "# 1. warstwa ukryta (1st Hidden layer)\n",
    "model.add(Bidirectional(LSTM((WINDOW_SIZE * 2), return_sequences = True)))\n",
    "model.add(Dropout(rate=DROPOUT))\n",
    "# 2nd Hidden layer\n",
    "model.add(Bidirectional(LSTM(WINDOW_SIZE, return_sequences=False)))\n",
    "# warstwa output \n",
    "model.add(Dense(units=1))\n",
    "model.add(Activation('linear'))\n",
    "\"\"\" Warstwa wyjściowa składa się z pojedynczego neuronu (przewidywanej ceny kawy). Wykorzystano liniową funkcję aktywacyjną.\"\"\"\n",
    "BATCH_SIZE = 64\n",
    "model.compile(loss='mean_squared_error', optimizer='adam')\n",
    "history = model.fit(X_train, y_train, epochs=50, batch_size=BATCH_SIZE, shuffle=False, validation_split=0.1) \n",
    "# shuffle nie jest zalecane podczas analizy szeregów czasowych\n"
   ]
  },
  {
   "cell_type": "code",
   "execution_count": 12,
   "metadata": {},
   "outputs": [
    {
     "data": {
      "image/png": "[encoded data removed]",
      "text/plain": [
       "<Figure size 720x360 with 1 Axes>"
      ]
     },
     "metadata": {
      "needs_background": "light"
     },
     "output_type": "display_data"
    }
   ],
   "source": [
    "# wykres funkcji LOSS dla zbioru treningowego i testowego\n",
    "plt.figure(figsize = (10,5))\n",
    "plt.plot(history.history['loss'])\n",
    "plt.plot(history.history['val_loss'])\n",
    "plt.title('model loss')\n",
    "plt.ylabel('loss')\n",
    "plt.xlabel('epoch')\n",
    "plt.legend(['train', 'test'], loc='upper left')\n",
    "plt.show()"
   ]
  },
  {
   "cell_type": "code",
   "execution_count": 20,
   "metadata": {},
   "outputs": [
    {
     "name": "stdout",
     "output_type": "stream",
     "text": [
      "Test data:\n",
      "                 0\n",
      "Date              \n",
      "2021-04-29  145.85\n",
      "2021-04-30  143.00\n",
      "2021-05-03  141.45\n",
      "2021-05-04  140.25\n",
      "2021-05-05  140.35\n",
      "2021-05-06  149.85\n",
      "2021-05-07  154.30\n",
      "\n",
      "Prediction data:\n",
      "                     0\n",
      "Date                  \n",
      "2021-04-29  134.024323\n",
      "2021-04-30  135.435852\n",
      "2021-05-03  135.592102\n",
      "2021-05-04  135.097031\n",
      "2021-05-05  134.275604\n",
      "2021-05-06  133.626877\n",
      "2021-05-07  135.494995\n"
     ]
    }
   ],
   "source": [
    "# predykcje na zbiorze testowym\n",
    "y_pred = model.predict(X_test) \n",
    "# przekształcenie wartości testowych do oryginalnych\n",
    "y_test_inverse = pd.DataFrame(scaler.inverse_transform(y_test))\n",
    "# przypisanie datetime\n",
    "y_test_inverse.index = df.index[-len(y_test):] \n",
    "print('Test data:',)\n",
    "print(y_test_inverse.tail(7)); print();\n",
    "#  przekształcenie predykcji na interpretowalne wartości \n",
    "y_pred_inverse = pd.DataFrame(scaler.inverse_transform(y_pred)) \n",
    "# przypisanie datetime\n",
    "y_pred_inverse.index = y_test_inverse.index \n",
    "print('Prediction data:',)\n",
    "print(y_pred_inverse.tail(7))"
   ]
  },
  {
   "cell_type": "code",
   "execution_count": 21,
   "metadata": {},
   "outputs": [
    {
     "name": "stdout",
     "output_type": "stream",
     "text": [
      "MAE 0.06256581934938638\n",
      "MSE 0.0066570231733115775\n",
      "RMSE 0.08159058262637654\n",
      "R2 0.5431393917892782\n"
     ]
    }
   ],
   "source": [
    "# sprawdzenie parametrów modelu (MAE, MSE, RMSE, R^2)\n",
    "print(f'MAE {mean_absolute_error(y_test, y_pred)}')\n",
    "print(f'MSE {mean_squared_error(y_test, y_pred)}')\n",
    "print(f'RMSE {np.sqrt(mean_squared_error(y_test, y_pred))}')\n",
    "print(f'R2 {r2_score(y_test, y_pred)}')"
   ]
  },
  {
   "cell_type": "code",
   "execution_count": 22,
   "metadata": {},
   "outputs": [
    {
     "data": {
      "text/plain": [
       "array(['2021-05-07', '2021-05-08', '2021-05-09', '2021-05-10',\n",
       "       '2021-05-11', '2021-05-12', '2021-05-13', '2021-05-14',\n",
       "       '2021-05-15', '2021-05-16', '2021-05-17', '2021-05-18',\n",
       "       '2021-05-19', '2021-05-20', '2021-05-21', '2021-05-22',\n",
       "       '2021-05-23', '2021-05-24', '2021-05-25', '2021-05-26'],\n",
       "      dtype='datetime64[D]')"
      ]
     },
     "execution_count": 22,
     "metadata": {},
     "output_type": "execute_result"
    }
   ],
   "source": [
    "# definiowanie tablicy z datami do predykcji\n",
    "future = np.arange('2021-05-07', '2021-05-27', dtype='datetime64[D]')\n",
    "future"
   ]
  },
  {
   "cell_type": "code",
   "execution_count": null,
   "metadata": {},
   "outputs": [],
   "source": [
    "# zastosowanie modelu do predykcji dla danych (dat) w powyższej tabeli\n"
   ]
  }
 ],
 "metadata": {
  "kernelspec": {
   "display_name": "Python 3",
   "language": "python",
   "name": "python3"
  },
  "language_info": {
   "codemirror_mode": {
    "name": "ipython",
    "version": 3
   },
   "file_extension": ".py",
   "mimetype": "text/x-python",
   "name": "python",
   "nbconvert_exporter": "python",
   "pygments_lexer": "ipython3",
   "version": "3.8.3"
  }
 },
 "nbformat": 4,
 "nbformat_minor": 4
}
