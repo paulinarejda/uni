{
 "cells": [
  {
   "cell_type": "markdown",
   "metadata": {},
   "source": [
    "# Import danych i pakietów"
   ]
  },
  {
   "cell_type": "code",
   "execution_count": 99,
   "metadata": {},
   "outputs": [],
   "source": [
    "import pandas as pd \n",
    "import numpy as np\n",
    "from scipy import stats\n",
    "import seaborn as sns\n",
    "import matplotlib.pyplot as plt\n",
    "from pandas.api.types import CategoricalDtype\n",
    "from sklearn.model_selection import train_test_split \n",
    "from sklearn.preprocessing import MinMaxScaler, LabelEncoder\n",
    "from imblearn.over_sampling import SMOTE\n",
    "from sklearn.linear_model import LogisticRegression\n",
    "from sklearn.metrics import classification_report, confusion_matrix, accuracy_score, plot_confusion_matrix\n",
    "from sklearn.model_selection import train_test_split\n",
    "import statsmodels.api as sm\n",
    "from sklearn import metrics"
   ]
  },
  {
   "cell_type": "code",
   "execution_count": 100,
   "metadata": {},
   "outputs": [],
   "source": [
    "df = pd.read_csv('/Users/paulinarejda/Desktop/SGH/praca_II/application_record.csv')\n",
    "df2 = pd.read_csv('/Users/paulinarejda/Desktop/SGH/praca_II/credit_record.csv')"
   ]
  },
  {
   "cell_type": "code",
   "execution_count": 101,
   "metadata": {},
   "outputs": [
    {
     "data": {
      "text/html": [
       "<div>\n",
       "<style scoped>\n",
       "    .dataframe tbody tr th:only-of-type {\n",
       "        vertical-align: middle;\n",
       "    }\n",
       "\n",
       "    .dataframe tbody tr th {\n",
       "        vertical-align: top;\n",
       "    }\n",
       "\n",
       "    .dataframe thead th {\n",
       "        text-align: right;\n",
       "    }\n",
       "</style>\n",
       "<table border=\"1\" class=\"dataframe\">\n",
       "  <thead>\n",
       "    <tr style=\"text-align: right;\">\n",
       "      <th></th>\n",
       "      <th>ID</th>\n",
       "      <th>CODE_GENDER</th>\n",
       "      <th>FLAG_OWN_CAR</th>\n",
       "      <th>FLAG_OWN_REALTY</th>\n",
       "      <th>CNT_CHILDREN</th>\n",
       "      <th>AMT_INCOME_TOTAL</th>\n",
       "      <th>NAME_INCOME_TYPE</th>\n",
       "      <th>NAME_EDUCATION_TYPE</th>\n",
       "      <th>NAME_FAMILY_STATUS</th>\n",
       "      <th>NAME_HOUSING_TYPE</th>\n",
       "      <th>DAYS_BIRTH</th>\n",
       "      <th>DAYS_EMPLOYED</th>\n",
       "      <th>FLAG_MOBIL</th>\n",
       "      <th>FLAG_WORK_PHONE</th>\n",
       "      <th>FLAG_PHONE</th>\n",
       "      <th>FLAG_EMAIL</th>\n",
       "      <th>OCCUPATION_TYPE</th>\n",
       "      <th>CNT_FAM_MEMBERS</th>\n",
       "    </tr>\n",
       "  </thead>\n",
       "  <tbody>\n",
       "    <tr>\n",
       "      <th>0</th>\n",
       "      <td>5008804</td>\n",
       "      <td>M</td>\n",
       "      <td>Y</td>\n",
       "      <td>Y</td>\n",
       "      <td>0</td>\n",
       "      <td>427500.0</td>\n",
       "      <td>Working</td>\n",
       "      <td>Higher education</td>\n",
       "      <td>Civil marriage</td>\n",
       "      <td>Rented apartment</td>\n",
       "      <td>-12005</td>\n",
       "      <td>-4542</td>\n",
       "      <td>1</td>\n",
       "      <td>1</td>\n",
       "      <td>0</td>\n",
       "      <td>0</td>\n",
       "      <td>NaN</td>\n",
       "      <td>2.0</td>\n",
       "    </tr>\n",
       "    <tr>\n",
       "      <th>1</th>\n",
       "      <td>5008805</td>\n",
       "      <td>M</td>\n",
       "      <td>Y</td>\n",
       "      <td>Y</td>\n",
       "      <td>0</td>\n",
       "      <td>427500.0</td>\n",
       "      <td>Working</td>\n",
       "      <td>Higher education</td>\n",
       "      <td>Civil marriage</td>\n",
       "      <td>Rented apartment</td>\n",
       "      <td>-12005</td>\n",
       "      <td>-4542</td>\n",
       "      <td>1</td>\n",
       "      <td>1</td>\n",
       "      <td>0</td>\n",
       "      <td>0</td>\n",
       "      <td>NaN</td>\n",
       "      <td>2.0</td>\n",
       "    </tr>\n",
       "    <tr>\n",
       "      <th>2</th>\n",
       "      <td>5008806</td>\n",
       "      <td>M</td>\n",
       "      <td>Y</td>\n",
       "      <td>Y</td>\n",
       "      <td>0</td>\n",
       "      <td>112500.0</td>\n",
       "      <td>Working</td>\n",
       "      <td>Secondary / secondary special</td>\n",
       "      <td>Married</td>\n",
       "      <td>House / apartment</td>\n",
       "      <td>-21474</td>\n",
       "      <td>-1134</td>\n",
       "      <td>1</td>\n",
       "      <td>0</td>\n",
       "      <td>0</td>\n",
       "      <td>0</td>\n",
       "      <td>Security staff</td>\n",
       "      <td>2.0</td>\n",
       "    </tr>\n",
       "    <tr>\n",
       "      <th>3</th>\n",
       "      <td>5008808</td>\n",
       "      <td>F</td>\n",
       "      <td>N</td>\n",
       "      <td>Y</td>\n",
       "      <td>0</td>\n",
       "      <td>270000.0</td>\n",
       "      <td>Commercial associate</td>\n",
       "      <td>Secondary / secondary special</td>\n",
       "      <td>Single / not married</td>\n",
       "      <td>House / apartment</td>\n",
       "      <td>-19110</td>\n",
       "      <td>-3051</td>\n",
       "      <td>1</td>\n",
       "      <td>0</td>\n",
       "      <td>1</td>\n",
       "      <td>1</td>\n",
       "      <td>Sales staff</td>\n",
       "      <td>1.0</td>\n",
       "    </tr>\n",
       "    <tr>\n",
       "      <th>4</th>\n",
       "      <td>5008809</td>\n",
       "      <td>F</td>\n",
       "      <td>N</td>\n",
       "      <td>Y</td>\n",
       "      <td>0</td>\n",
       "      <td>270000.0</td>\n",
       "      <td>Commercial associate</td>\n",
       "      <td>Secondary / secondary special</td>\n",
       "      <td>Single / not married</td>\n",
       "      <td>House / apartment</td>\n",
       "      <td>-19110</td>\n",
       "      <td>-3051</td>\n",
       "      <td>1</td>\n",
       "      <td>0</td>\n",
       "      <td>1</td>\n",
       "      <td>1</td>\n",
       "      <td>Sales staff</td>\n",
       "      <td>1.0</td>\n",
       "    </tr>\n",
       "  </tbody>\n",
       "</table>\n",
       "</div>"
      ],
      "text/plain": [
       "        ID CODE_GENDER FLAG_OWN_CAR FLAG_OWN_REALTY  CNT_CHILDREN  \\\n",
       "0  5008804           M            Y               Y             0   \n",
       "1  5008805           M            Y               Y             0   \n",
       "2  5008806           M            Y               Y             0   \n",
       "3  5008808           F            N               Y             0   \n",
       "4  5008809           F            N               Y             0   \n",
       "\n",
       "   AMT_INCOME_TOTAL      NAME_INCOME_TYPE            NAME_EDUCATION_TYPE  \\\n",
       "0          427500.0               Working               Higher education   \n",
       "1          427500.0               Working               Higher education   \n",
       "2          112500.0               Working  Secondary / secondary special   \n",
       "3          270000.0  Commercial associate  Secondary / secondary special   \n",
       "4          270000.0  Commercial associate  Secondary / secondary special   \n",
       "\n",
       "     NAME_FAMILY_STATUS  NAME_HOUSING_TYPE  DAYS_BIRTH  DAYS_EMPLOYED  \\\n",
       "0        Civil marriage   Rented apartment      -12005          -4542   \n",
       "1        Civil marriage   Rented apartment      -12005          -4542   \n",
       "2               Married  House / apartment      -21474          -1134   \n",
       "3  Single / not married  House / apartment      -19110          -3051   \n",
       "4  Single / not married  House / apartment      -19110          -3051   \n",
       "\n",
       "   FLAG_MOBIL  FLAG_WORK_PHONE  FLAG_PHONE  FLAG_EMAIL OCCUPATION_TYPE  \\\n",
       "0           1                1           0           0             NaN   \n",
       "1           1                1           0           0             NaN   \n",
       "2           1                0           0           0  Security staff   \n",
       "3           1                0           1           1     Sales staff   \n",
       "4           1                0           1           1     Sales staff   \n",
       "\n",
       "   CNT_FAM_MEMBERS  \n",
       "0              2.0  \n",
       "1              2.0  \n",
       "2              2.0  \n",
       "3              1.0  \n",
       "4              1.0  "
      ]
     },
     "execution_count": 101,
     "metadata": {},
     "output_type": "execute_result"
    }
   ],
   "source": [
    "df.head()"
   ]
  },
  {
   "cell_type": "code",
   "execution_count": 102,
   "metadata": {},
   "outputs": [
    {
     "name": "stdout",
     "output_type": "stream",
     "text": [
      "<class 'pandas.core.frame.DataFrame'>\n",
      "RangeIndex: 438557 entries, 0 to 438556\n",
      "Data columns (total 18 columns):\n",
      " #   Column               Non-Null Count   Dtype  \n",
      "---  ------               --------------   -----  \n",
      " 0   ID                   438557 non-null  int64  \n",
      " 1   CODE_GENDER          438557 non-null  object \n",
      " 2   FLAG_OWN_CAR         438557 non-null  object \n",
      " 3   FLAG_OWN_REALTY      438557 non-null  object \n",
      " 4   CNT_CHILDREN         438557 non-null  int64  \n",
      " 5   AMT_INCOME_TOTAL     438557 non-null  float64\n",
      " 6   NAME_INCOME_TYPE     438557 non-null  object \n",
      " 7   NAME_EDUCATION_TYPE  438557 non-null  object \n",
      " 8   NAME_FAMILY_STATUS   438557 non-null  object \n",
      " 9   NAME_HOUSING_TYPE    438557 non-null  object \n",
      " 10  DAYS_BIRTH           438557 non-null  int64  \n",
      " 11  DAYS_EMPLOYED        438557 non-null  int64  \n",
      " 12  FLAG_MOBIL           438557 non-null  int64  \n",
      " 13  FLAG_WORK_PHONE      438557 non-null  int64  \n",
      " 14  FLAG_PHONE           438557 non-null  int64  \n",
      " 15  FLAG_EMAIL           438557 non-null  int64  \n",
      " 16  OCCUPATION_TYPE      304354 non-null  object \n",
      " 17  CNT_FAM_MEMBERS      438557 non-null  float64\n",
      "dtypes: float64(2), int64(8), object(8)\n",
      "memory usage: 60.2+ MB\n"
     ]
    }
   ],
   "source": [
    "df.info()"
   ]
  },
  {
   "cell_type": "code",
   "execution_count": 103,
   "metadata": {},
   "outputs": [
    {
     "name": "stdout",
     "output_type": "stream",
     "text": [
      "<class 'pandas.core.frame.DataFrame'>\n",
      "RangeIndex: 1048575 entries, 0 to 1048574\n",
      "Data columns (total 3 columns):\n",
      " #   Column          Non-Null Count    Dtype \n",
      "---  ------          --------------    ----- \n",
      " 0   ID              1048575 non-null  int64 \n",
      " 1   MONTHS_BALANCE  1048575 non-null  int64 \n",
      " 2   STATUS          1048575 non-null  object\n",
      "dtypes: int64(2), object(1)\n",
      "memory usage: 24.0+ MB\n"
     ]
    }
   ],
   "source": [
    "df2.info()"
   ]
  },
  {
   "cell_type": "markdown",
   "metadata": {},
   "source": [
    "#  Przetwarzanie danych. Analiza eksploracyjna"
   ]
  },
  {
   "cell_type": "code",
   "execution_count": 104,
   "metadata": {},
   "outputs": [],
   "source": [
    "# pozbywamy się wielkich liter z nazw kolumn\n",
    "df.columns = map(str.lower, df.columns)\n",
    "df2.columns = map(str.lower, df2.columns)"
   ]
  },
  {
   "cell_type": "code",
   "execution_count": 105,
   "metadata": {},
   "outputs": [],
   "source": [
    "# przypisanie binarnym zmiennym wartości 0-1\n",
    "df.code_gender.replace({'M': 0, 'F': 1}, inplace=True)\n",
    "df.flag_own_car.replace({'N': 0, 'Y': 1}, inplace=True)\n",
    "df.flag_own_realty.replace({'N': 0, 'Y': 1}, inplace=True)"
   ]
  },
  {
   "cell_type": "code",
   "execution_count": 106,
   "metadata": {},
   "outputs": [
    {
     "data": {
      "text/plain": [
       "1    0.671384\n",
       "0    0.328616\n",
       "Name: code_gender, dtype: float64"
      ]
     },
     "execution_count": 106,
     "metadata": {},
     "output_type": "execute_result"
    }
   ],
   "source": [
    "#odetek kobiet i mężczyzn w zbiorze\n",
    "gender = df.code_gender.value_counts(normalize = True)\n",
    "gender"
   ]
  },
  {
   "cell_type": "code",
   "execution_count": 107,
   "metadata": {},
   "outputs": [
    {
     "data": {
      "image/png": "[encoded data removed]",
      "text/plain": [
       "<Figure size 432x288 with 1 Axes>"
      ]
     },
     "metadata": {},
     "output_type": "display_data"
    }
   ],
   "source": [
    "# wykres kołowy dla zmiennej płeć\n",
    "gender.plot.pie(colors=['#3282b8', '#0f4c75'], labels=['Kobiety','Mężczyźni'])\n",
    "plt.show()"
   ]
  },
  {
   "cell_type": "code",
   "execution_count": 108,
   "metadata": {},
   "outputs": [
    {
     "data": {
      "text/html": [
       "<div>\n",
       "<style scoped>\n",
       "    .dataframe tbody tr th:only-of-type {\n",
       "        vertical-align: middle;\n",
       "    }\n",
       "\n",
       "    .dataframe tbody tr th {\n",
       "        vertical-align: top;\n",
       "    }\n",
       "\n",
       "    .dataframe thead th {\n",
       "        text-align: right;\n",
       "    }\n",
       "</style>\n",
       "<table border=\"1\" class=\"dataframe\">\n",
       "  <thead>\n",
       "    <tr style=\"text-align: right;\">\n",
       "      <th></th>\n",
       "      <th></th>\n",
       "      <th>id</th>\n",
       "    </tr>\n",
       "    <tr>\n",
       "      <th>code_gender</th>\n",
       "      <th>name_housing_type</th>\n",
       "      <th></th>\n",
       "    </tr>\n",
       "  </thead>\n",
       "  <tbody>\n",
       "    <tr>\n",
       "      <th rowspan=\"6\" valign=\"top\">0</th>\n",
       "      <th>Co-op apartment</th>\n",
       "      <td>0.469757</td>\n",
       "    </tr>\n",
       "    <tr>\n",
       "      <th>House / apartment</th>\n",
       "      <td>87.584393</td>\n",
       "    </tr>\n",
       "    <tr>\n",
       "      <th>Municipal apartment</th>\n",
       "      <td>2.910829</td>\n",
       "    </tr>\n",
       "    <tr>\n",
       "      <th>Office apartment</th>\n",
       "      <td>1.248985</td>\n",
       "    </tr>\n",
       "    <tr>\n",
       "      <th>Rented apartment</th>\n",
       "      <td>1.866539</td>\n",
       "    </tr>\n",
       "    <tr>\n",
       "      <th>With parents</th>\n",
       "      <td>5.919496</td>\n",
       "    </tr>\n",
       "    <tr>\n",
       "      <th rowspan=\"6\" valign=\"top\">1</th>\n",
       "      <th>Co-op apartment</th>\n",
       "      <td>0.292759</td>\n",
       "    </tr>\n",
       "    <tr>\n",
       "      <th>House / apartment</th>\n",
       "      <td>90.886768</td>\n",
       "    </tr>\n",
       "    <tr>\n",
       "      <th>Municipal apartment</th>\n",
       "      <td>3.402731</td>\n",
       "    </tr>\n",
       "    <tr>\n",
       "      <th>Office apartment</th>\n",
       "      <td>0.720690</td>\n",
       "    </tr>\n",
       "    <tr>\n",
       "      <th>Rented apartment</th>\n",
       "      <td>1.115338</td>\n",
       "    </tr>\n",
       "    <tr>\n",
       "      <th>With parents</th>\n",
       "      <td>3.581714</td>\n",
       "    </tr>\n",
       "  </tbody>\n",
       "</table>\n",
       "</div>"
      ],
      "text/plain": [
       "                                        id\n",
       "code_gender name_housing_type             \n",
       "0           Co-op apartment       0.469757\n",
       "            House / apartment    87.584393\n",
       "            Municipal apartment   2.910829\n",
       "            Office apartment      1.248985\n",
       "            Rented apartment      1.866539\n",
       "            With parents          5.919496\n",
       "1           Co-op apartment       0.292759\n",
       "            House / apartment    90.886768\n",
       "            Municipal apartment   3.402731\n",
       "            Office apartment      0.720690\n",
       "            Rented apartment      1.115338\n",
       "            With parents          3.581714"
      ]
     },
     "execution_count": 108,
     "metadata": {},
     "output_type": "execute_result"
    }
   ],
   "source": [
    "# rodzaj miejsca zamieszkania\n",
    "housing_count = df.groupby(['code_gender','name_housing_type']).agg({'id': 'count'})\n",
    "\n",
    "housing_proc = housing_count.groupby(level=0).apply(lambda x:100 * x / float(x.sum()))\n",
    "housing_proc\n"
   ]
  },
  {
   "cell_type": "code",
   "execution_count": 109,
   "metadata": {
    "scrolled": true
   },
   "outputs": [
    {
     "data": {
      "image/png": "[encoded data removed]",
      "text/plain": [
       "<Figure size 432x288 with 1 Axes>"
      ]
     },
     "metadata": {
      "needs_background": "light"
     },
     "output_type": "display_data"
    }
   ],
   "source": [
    "# wykres - rodzaj miejsca zamieszkania w podziale na płeć\n",
    "housing_proc.sort_values(by = 'id').plot.barh(color='#0f4c75')\n",
    "plt.show()"
   ]
  },
  {
   "cell_type": "code",
   "execution_count": 110,
   "metadata": {},
   "outputs": [
    {
     "data": {
      "text/plain": [
       "<matplotlib.axes._subplots.AxesSubplot at 0x130f97af0>"
      ]
     },
     "execution_count": 110,
     "metadata": {},
     "output_type": "execute_result"
    },
    {
     "data": {
      "image/png": "[encoded data removed]",
      "text/plain": [
       "<Figure size 432x288 with 1 Axes>"
      ]
     },
     "metadata": {
      "needs_background": "light"
     },
     "output_type": "display_data"
    }
   ],
   "source": [
    "# STATUS ZAWODOWY & STAN CYWILNY\n",
    "df[['name_income_type', 'name_family_status']].value_counts().plot(kind='bar', color='#0f4c75')"
   ]
  },
  {
   "cell_type": "code",
   "execution_count": 111,
   "metadata": {
    "scrolled": true
   },
   "outputs": [
    {
     "data": {
      "image/png": "[encoded data removed]",
      "text/plain": [
       "<Figure size 432x288 with 1 Axes>"
      ]
     },
     "metadata": {
      "needs_background": "light"
     },
     "output_type": "display_data"
    }
   ],
   "source": [
    "# wykres spłupkowy obrazujący zależność między wykształceniem i dochodami\n",
    "df.groupby([\"name_education_type\"]).amt_income_total.mean().sort_values(ascending=False).plot.barh(color='#0f4c75')\n",
    "plt.show()"
   ]
  },
  {
   "cell_type": "code",
   "execution_count": 112,
   "metadata": {},
   "outputs": [
    {
     "data": {
      "text/html": [
       "<div>\n",
       "<style scoped>\n",
       "    .dataframe tbody tr th:only-of-type {\n",
       "        vertical-align: middle;\n",
       "    }\n",
       "\n",
       "    .dataframe tbody tr th {\n",
       "        vertical-align: top;\n",
       "    }\n",
       "\n",
       "    .dataframe thead th {\n",
       "        text-align: right;\n",
       "    }\n",
       "</style>\n",
       "<table border=\"1\" class=\"dataframe\">\n",
       "  <thead>\n",
       "    <tr style=\"text-align: right;\">\n",
       "      <th></th>\n",
       "      <th>0</th>\n",
       "      <th>1</th>\n",
       "    </tr>\n",
       "  </thead>\n",
       "  <tbody>\n",
       "    <tr>\n",
       "      <th>flag_own_car</th>\n",
       "      <td>0.628103</td>\n",
       "      <td>0.371897</td>\n",
       "    </tr>\n",
       "    <tr>\n",
       "      <th>flag_own_realty</th>\n",
       "      <td>0.306649</td>\n",
       "      <td>0.693351</td>\n",
       "    </tr>\n",
       "    <tr>\n",
       "      <th>flag_mobil</th>\n",
       "      <td>NaN</td>\n",
       "      <td>1.000000</td>\n",
       "    </tr>\n",
       "    <tr>\n",
       "      <th>flag_work_phone</th>\n",
       "      <td>0.793867</td>\n",
       "      <td>0.206133</td>\n",
       "    </tr>\n",
       "    <tr>\n",
       "      <th>flag_phone</th>\n",
       "      <td>0.712229</td>\n",
       "      <td>0.287771</td>\n",
       "    </tr>\n",
       "    <tr>\n",
       "      <th>flag_email</th>\n",
       "      <td>0.891793</td>\n",
       "      <td>0.108207</td>\n",
       "    </tr>\n",
       "  </tbody>\n",
       "</table>\n",
       "</div>"
      ],
      "text/plain": [
       "                        0         1\n",
       "flag_own_car     0.628103  0.371897\n",
       "flag_own_realty  0.306649  0.693351\n",
       "flag_mobil            NaN  1.000000\n",
       "flag_work_phone  0.793867  0.206133\n",
       "flag_phone       0.712229  0.287771\n",
       "flag_email       0.891793  0.108207"
      ]
     },
     "execution_count": 112,
     "metadata": {},
     "output_type": "execute_result"
    }
   ],
   "source": [
    "# odsetek kategorii flag_own_car\n",
    "a = df.flag_own_car.value_counts(normalize=True)\n",
    "b = df.flag_own_realty.value_counts(normalize=True)\n",
    "c = df.flag_mobil.value_counts(normalize=True)\n",
    "d = df.flag_work_phone.value_counts(normalize=True)\n",
    "e = df.flag_phone.value_counts(normalize=True)\n",
    "f = df.flag_email.value_counts(normalize=True)\n",
    "\n",
    "pd.DataFrame([a,b,c,d,e,f])"
   ]
  },
  {
   "cell_type": "code",
   "execution_count": 113,
   "metadata": {},
   "outputs": [],
   "source": [
    "# usuwamy zmienną, bo dla wszystkich obserwacji przyjmuje taką samą wartość \n",
    "del df['flag_mobil']"
   ]
  },
  {
   "cell_type": "code",
   "execution_count": 114,
   "metadata": {},
   "outputs": [
    {
     "data": {
      "text/plain": [
       "C    442031\n",
       "0    383120\n",
       "X    209230\n",
       "1     11090\n",
       "5      1693\n",
       "2       868\n",
       "3       320\n",
       "4       223\n",
       "Name: status, dtype: int64"
      ]
     },
     "execution_count": 114,
     "metadata": {},
     "output_type": "execute_result"
    }
   ],
   "source": [
    "# sprawdzamy liczebności kategorii STATUS\n",
    "df2.status.value_counts()"
   ]
  },
  {
   "cell_type": "code",
   "execution_count": 115,
   "metadata": {},
   "outputs": [],
   "source": [
    "#0: 1-29 days past due \n",
    "#1: 30-59 days past due \n",
    "#2: 60-89 days overdue \n",
    "#3: 90-119 days overdue \n",
    "#4: 120-149 days overdue \n",
    "#5: Overdue or bad debts, write-offs for more than 150 days \n",
    "#C: paid off that month \n",
    "#X: No loan for the month"
   ]
  },
  {
   "cell_type": "code",
   "execution_count": 116,
   "metadata": {},
   "outputs": [],
   "source": [
    "# zmiana wartości\n",
    "    # 0, C, X -> 0\n",
    "    # 1-5 -> 1\n",
    "df2.status.replace({'C': 0, 'X' : 0}, inplace=True)\n",
    "df2.status = df2.status.astype('int')\n",
    "df2.status = df2.status.apply(lambda x:1 if x >= 2 else 0)"
   ]
  },
  {
   "cell_type": "code",
   "execution_count": 117,
   "metadata": {},
   "outputs": [],
   "source": [
    "# days_birth i days_employed to liczba dni od narodzin/daty rozpoczęcia pracy\n",
    " # zmieniamy znak w days_birth i dzielimy przez 365\n",
    "\n",
    "# tworzymy zmienną age (wiek w latach)\n",
    "df['age'] = (-df['days_birth'] / 365.25).round()\n",
    "df = df.drop('days_birth', axis=1)"
   ]
  },
  {
   "cell_type": "code",
   "execution_count": 118,
   "metadata": {},
   "outputs": [],
   "source": [
    "# staż pracy w latach\n",
    "df['years_employed'] = (-df['days_employed'] / 365.25).round()\n",
    "df = df.drop('days_employed', axis=1)"
   ]
  },
  {
   "cell_type": "code",
   "execution_count": 119,
   "metadata": {},
   "outputs": [],
   "source": [
    "# zmiana wartości months_balance na dodatnie (0 = min)\n",
    "df2.months_balance = -df2.months_balance"
   ]
  },
  {
   "cell_type": "code",
   "execution_count": 120,
   "metadata": {},
   "outputs": [],
   "source": [
    "# zmiana typu zmiennych na int\n",
    "df[['amt_income_total', 'cnt_fam_members', 'age', 'years_employed']] = df[['amt_income_total', 'cnt_fam_members', \n",
    "                                                                        'age', 'years_employed']].astype('int64')"
   ]
  },
  {
   "cell_type": "code",
   "execution_count": 121,
   "metadata": {},
   "outputs": [
    {
     "data": {
      "text/plain": [
       "id                     False\n",
       "code_gender            False\n",
       "flag_own_car           False\n",
       "flag_own_realty        False\n",
       "cnt_children           False\n",
       "amt_income_total       False\n",
       "name_income_type       False\n",
       "name_education_type    False\n",
       "name_family_status     False\n",
       "name_housing_type      False\n",
       "flag_work_phone        False\n",
       "flag_phone             False\n",
       "flag_email             False\n",
       "occupation_type         True\n",
       "cnt_fam_members        False\n",
       "age                    False\n",
       "years_employed         False\n",
       "dtype: bool"
      ]
     },
     "execution_count": 121,
     "metadata": {},
     "output_type": "execute_result"
    }
   ],
   "source": [
    "# sprawdzamy występowanie braków\n",
    "df.isnull().any()"
   ]
  },
  {
   "cell_type": "code",
   "execution_count": 122,
   "metadata": {},
   "outputs": [
    {
     "data": {
      "text/plain": [
       "id                False\n",
       "months_balance    False\n",
       "status            False\n",
       "dtype: bool"
      ]
     },
     "execution_count": 122,
     "metadata": {},
     "output_type": "execute_result"
    }
   ],
   "source": [
    "df2.isnull().any()"
   ]
  },
  {
   "cell_type": "code",
   "execution_count": 123,
   "metadata": {},
   "outputs": [
    {
     "data": {
      "text/plain": [
       "<matplotlib.axes._subplots.AxesSubplot at 0x130f97040>"
      ]
     },
     "execution_count": 123,
     "metadata": {},
     "output_type": "execute_result"
    },
    {
     "data": {
      "image/png": "[encoded data removed]",
      "text/plain": [
       "<Figure size 432x288 with 2 Axes>"
      ]
     },
     "metadata": {
      "needs_background": "light"
     },
     "output_type": "display_data"
    }
   ],
   "source": [
    "# wizualizacja braków\n",
    "    # df\n",
    "sns.heatmap(df.isnull())"
   ]
  },
  {
   "cell_type": "code",
   "execution_count": 124,
   "metadata": {},
   "outputs": [
    {
     "data": {
      "text/plain": [
       "<matplotlib.axes._subplots.AxesSubplot at 0x1325fd760>"
      ]
     },
     "execution_count": 124,
     "metadata": {},
     "output_type": "execute_result"
    },
    {
     "data": {
      "image/png": "[encoded data removed]",
      "text/plain": [
       "<Figure size 432x288 with 2 Axes>"
      ]
     },
     "metadata": {
      "needs_background": "light"
     },
     "output_type": "display_data"
    }
   ],
   "source": [
    "    # df2\n",
    "sns.heatmap(df2.isnull())"
   ]
  },
  {
   "cell_type": "code",
   "execution_count": 125,
   "metadata": {},
   "outputs": [],
   "source": [
    "# usuwamy zmienną occupation_type ze względu na dużą liczbę braków\n",
    "df.drop('occupation_type', axis=1, inplace=True) "
   ]
  },
  {
   "cell_type": "code",
   "execution_count": 126,
   "metadata": {},
   "outputs": [
    {
     "data": {
      "text/plain": [
       "True"
      ]
     },
     "execution_count": 126,
     "metadata": {},
     "output_type": "execute_result"
    }
   ],
   "source": [
    "# sprawdzamy, czy występują duplikaty w ramach zmiennej ID i, jeśli tak, usuwamy je\n",
    "df['id'].duplicated().any()"
   ]
  },
  {
   "cell_type": "code",
   "execution_count": 127,
   "metadata": {},
   "outputs": [],
   "source": [
    "# usuwamy duplikaty\n",
    "df = df.drop_duplicates('id', keep='last') "
   ]
  },
  {
   "cell_type": "code",
   "execution_count": 128,
   "metadata": {},
   "outputs": [
    {
     "data": {
      "text/html": [
       "<div>\n",
       "<style scoped>\n",
       "    .dataframe tbody tr th:only-of-type {\n",
       "        vertical-align: middle;\n",
       "    }\n",
       "\n",
       "    .dataframe tbody tr th {\n",
       "        vertical-align: top;\n",
       "    }\n",
       "\n",
       "    .dataframe thead th {\n",
       "        text-align: right;\n",
       "    }\n",
       "</style>\n",
       "<table border=\"1\" class=\"dataframe\">\n",
       "  <thead>\n",
       "    <tr style=\"text-align: right;\">\n",
       "      <th></th>\n",
       "      <th>months_client</th>\n",
       "    </tr>\n",
       "    <tr>\n",
       "      <th>id</th>\n",
       "      <th></th>\n",
       "    </tr>\n",
       "  </thead>\n",
       "  <tbody>\n",
       "    <tr>\n",
       "      <th>5001711</th>\n",
       "      <td>3</td>\n",
       "    </tr>\n",
       "    <tr>\n",
       "      <th>5001712</th>\n",
       "      <td>18</td>\n",
       "    </tr>\n",
       "    <tr>\n",
       "      <th>5001713</th>\n",
       "      <td>21</td>\n",
       "    </tr>\n",
       "    <tr>\n",
       "      <th>5001714</th>\n",
       "      <td>14</td>\n",
       "    </tr>\n",
       "    <tr>\n",
       "      <th>5001715</th>\n",
       "      <td>59</td>\n",
       "    </tr>\n",
       "  </tbody>\n",
       "</table>\n",
       "</div>"
      ],
      "text/plain": [
       "         months_client\n",
       "id                    \n",
       "5001711              3\n",
       "5001712             18\n",
       "5001713             21\n",
       "5001714             14\n",
       "5001715             59"
      ]
     },
     "execution_count": 128,
     "metadata": {},
     "output_type": "execute_result"
    }
   ],
   "source": [
    "# dodajemy zmienną określającą, jak długo klient jest klientem banku\n",
    "months_client = pd.DataFrame(df2.groupby('id').agg({'months_balance' : max}))\n",
    "months_client.rename(columns = {'months_balance':'months_client'},inplace = True)\n",
    "months_client.head()\n"
   ]
  },
  {
   "cell_type": "code",
   "execution_count": 129,
   "metadata": {},
   "outputs": [
    {
     "data": {
      "text/html": [
       "<div>\n",
       "<style scoped>\n",
       "    .dataframe tbody tr th:only-of-type {\n",
       "        vertical-align: middle;\n",
       "    }\n",
       "\n",
       "    .dataframe tbody tr th {\n",
       "        vertical-align: top;\n",
       "    }\n",
       "\n",
       "    .dataframe thead th {\n",
       "        text-align: right;\n",
       "    }\n",
       "</style>\n",
       "<table border=\"1\" class=\"dataframe\">\n",
       "  <thead>\n",
       "    <tr style=\"text-align: right;\">\n",
       "      <th></th>\n",
       "      <th>id</th>\n",
       "      <th>status</th>\n",
       "      <th>months_client</th>\n",
       "    </tr>\n",
       "  </thead>\n",
       "  <tbody>\n",
       "    <tr>\n",
       "      <th>0</th>\n",
       "      <td>5001711</td>\n",
       "      <td>0</td>\n",
       "      <td>3</td>\n",
       "    </tr>\n",
       "    <tr>\n",
       "      <th>1</th>\n",
       "      <td>5001711</td>\n",
       "      <td>0</td>\n",
       "      <td>3</td>\n",
       "    </tr>\n",
       "    <tr>\n",
       "      <th>2</th>\n",
       "      <td>5001711</td>\n",
       "      <td>0</td>\n",
       "      <td>3</td>\n",
       "    </tr>\n",
       "    <tr>\n",
       "      <th>3</th>\n",
       "      <td>5001711</td>\n",
       "      <td>0</td>\n",
       "      <td>3</td>\n",
       "    </tr>\n",
       "    <tr>\n",
       "      <th>4</th>\n",
       "      <td>5001712</td>\n",
       "      <td>0</td>\n",
       "      <td>18</td>\n",
       "    </tr>\n",
       "  </tbody>\n",
       "</table>\n",
       "</div>"
      ],
      "text/plain": [
       "        id  status  months_client\n",
       "0  5001711       0              3\n",
       "1  5001711       0              3\n",
       "2  5001711       0              3\n",
       "3  5001711       0              3\n",
       "4  5001712       0             18"
      ]
     },
     "execution_count": 129,
     "metadata": {},
     "output_type": "execute_result"
    }
   ],
   "source": [
    "# dołączanie months_client do df2\n",
    "months_client = months_client.groupby('id').agg(max).reset_index()\n",
    "\n",
    "df2 = df2.join(months_client.set_index('id'), on='id', how='inner')\n",
    "\n",
    "df2.drop(['months_balance'], axis=1, inplace=True)\n",
    "df2.head()"
   ]
  },
  {
   "cell_type": "code",
   "execution_count": 130,
   "metadata": {},
   "outputs": [
    {
     "data": {
      "text/html": [
       "<div>\n",
       "<style scoped>\n",
       "    .dataframe tbody tr th:only-of-type {\n",
       "        vertical-align: middle;\n",
       "    }\n",
       "\n",
       "    .dataframe tbody tr th {\n",
       "        vertical-align: top;\n",
       "    }\n",
       "\n",
       "    .dataframe thead th {\n",
       "        text-align: right;\n",
       "    }\n",
       "</style>\n",
       "<table border=\"1\" class=\"dataframe\">\n",
       "  <thead>\n",
       "    <tr style=\"text-align: right;\">\n",
       "      <th></th>\n",
       "      <th>id</th>\n",
       "      <th>code_gender</th>\n",
       "      <th>flag_own_car</th>\n",
       "      <th>flag_own_realty</th>\n",
       "      <th>cnt_children</th>\n",
       "      <th>amt_income_total</th>\n",
       "      <th>name_income_type</th>\n",
       "      <th>name_education_type</th>\n",
       "      <th>name_family_status</th>\n",
       "      <th>name_housing_type</th>\n",
       "      <th>flag_work_phone</th>\n",
       "      <th>flag_phone</th>\n",
       "      <th>flag_email</th>\n",
       "      <th>cnt_fam_members</th>\n",
       "      <th>age</th>\n",
       "      <th>years_employed</th>\n",
       "      <th>status</th>\n",
       "      <th>months_client</th>\n",
       "    </tr>\n",
       "  </thead>\n",
       "  <tbody>\n",
       "    <tr>\n",
       "      <th>0</th>\n",
       "      <td>5008804</td>\n",
       "      <td>0</td>\n",
       "      <td>1</td>\n",
       "      <td>1</td>\n",
       "      <td>0</td>\n",
       "      <td>427500</td>\n",
       "      <td>Working</td>\n",
       "      <td>Higher education</td>\n",
       "      <td>Civil marriage</td>\n",
       "      <td>Rented apartment</td>\n",
       "      <td>1</td>\n",
       "      <td>0</td>\n",
       "      <td>0</td>\n",
       "      <td>2</td>\n",
       "      <td>33</td>\n",
       "      <td>12</td>\n",
       "      <td>0</td>\n",
       "      <td>15</td>\n",
       "    </tr>\n",
       "    <tr>\n",
       "      <th>1</th>\n",
       "      <td>5008805</td>\n",
       "      <td>0</td>\n",
       "      <td>1</td>\n",
       "      <td>1</td>\n",
       "      <td>0</td>\n",
       "      <td>427500</td>\n",
       "      <td>Working</td>\n",
       "      <td>Higher education</td>\n",
       "      <td>Civil marriage</td>\n",
       "      <td>Rented apartment</td>\n",
       "      <td>1</td>\n",
       "      <td>0</td>\n",
       "      <td>0</td>\n",
       "      <td>2</td>\n",
       "      <td>33</td>\n",
       "      <td>12</td>\n",
       "      <td>0</td>\n",
       "      <td>14</td>\n",
       "    </tr>\n",
       "    <tr>\n",
       "      <th>2</th>\n",
       "      <td>5008806</td>\n",
       "      <td>0</td>\n",
       "      <td>1</td>\n",
       "      <td>1</td>\n",
       "      <td>0</td>\n",
       "      <td>112500</td>\n",
       "      <td>Working</td>\n",
       "      <td>Secondary / secondary special</td>\n",
       "      <td>Married</td>\n",
       "      <td>House / apartment</td>\n",
       "      <td>0</td>\n",
       "      <td>0</td>\n",
       "      <td>0</td>\n",
       "      <td>2</td>\n",
       "      <td>59</td>\n",
       "      <td>3</td>\n",
       "      <td>0</td>\n",
       "      <td>29</td>\n",
       "    </tr>\n",
       "    <tr>\n",
       "      <th>3</th>\n",
       "      <td>5008808</td>\n",
       "      <td>1</td>\n",
       "      <td>0</td>\n",
       "      <td>1</td>\n",
       "      <td>0</td>\n",
       "      <td>270000</td>\n",
       "      <td>Commercial associate</td>\n",
       "      <td>Secondary / secondary special</td>\n",
       "      <td>Single / not married</td>\n",
       "      <td>House / apartment</td>\n",
       "      <td>0</td>\n",
       "      <td>1</td>\n",
       "      <td>1</td>\n",
       "      <td>1</td>\n",
       "      <td>52</td>\n",
       "      <td>8</td>\n",
       "      <td>0</td>\n",
       "      <td>4</td>\n",
       "    </tr>\n",
       "    <tr>\n",
       "      <th>4</th>\n",
       "      <td>5008809</td>\n",
       "      <td>1</td>\n",
       "      <td>0</td>\n",
       "      <td>1</td>\n",
       "      <td>0</td>\n",
       "      <td>270000</td>\n",
       "      <td>Commercial associate</td>\n",
       "      <td>Secondary / secondary special</td>\n",
       "      <td>Single / not married</td>\n",
       "      <td>House / apartment</td>\n",
       "      <td>0</td>\n",
       "      <td>1</td>\n",
       "      <td>1</td>\n",
       "      <td>1</td>\n",
       "      <td>52</td>\n",
       "      <td>8</td>\n",
       "      <td>0</td>\n",
       "      <td>26</td>\n",
       "    </tr>\n",
       "  </tbody>\n",
       "</table>\n",
       "</div>"
      ],
      "text/plain": [
       "        id  code_gender  flag_own_car  flag_own_realty  cnt_children  \\\n",
       "0  5008804            0             1                1             0   \n",
       "1  5008805            0             1                1             0   \n",
       "2  5008806            0             1                1             0   \n",
       "3  5008808            1             0                1             0   \n",
       "4  5008809            1             0                1             0   \n",
       "\n",
       "   amt_income_total      name_income_type            name_education_type  \\\n",
       "0            427500               Working               Higher education   \n",
       "1            427500               Working               Higher education   \n",
       "2            112500               Working  Secondary / secondary special   \n",
       "3            270000  Commercial associate  Secondary / secondary special   \n",
       "4            270000  Commercial associate  Secondary / secondary special   \n",
       "\n",
       "     name_family_status  name_housing_type  flag_work_phone  flag_phone  \\\n",
       "0        Civil marriage   Rented apartment                1           0   \n",
       "1        Civil marriage   Rented apartment                1           0   \n",
       "2               Married  House / apartment                0           0   \n",
       "3  Single / not married  House / apartment                0           1   \n",
       "4  Single / not married  House / apartment                0           1   \n",
       "\n",
       "   flag_email  cnt_fam_members  age  years_employed  status  months_client  \n",
       "0           0                2   33              12       0             15  \n",
       "1           0                2   33              12       0             14  \n",
       "2           0                2   59               3       0             29  \n",
       "3           1                1   52               8       0              4  \n",
       "4           1                1   52               8       0             26  "
      ]
     },
     "execution_count": 130,
     "metadata": {},
     "output_type": "execute_result"
    }
   ],
   "source": [
    "# łączenie wszystkich tabel\n",
    "df2 = df2.groupby('id').agg(max).reset_index()\n",
    "\n",
    "df = df.join(df2.set_index('id'), on='id', how='inner')\n",
    "\n",
    "df.head()"
   ]
  },
  {
   "cell_type": "code",
   "execution_count": 131,
   "metadata": {},
   "outputs": [],
   "source": [
    "# usunięcie obserwacji odstających - Z-score\n",
    "    # df\n",
    "z_scores = stats.zscore(df[['cnt_children', 'amt_income_total', 'cnt_fam_members', \n",
    "                            'age', 'years_employed', 'months_client']])\n",
    "abs_z_scores = np.abs(z_scores)\n",
    "filtered_entries = (abs_z_scores < 3).all(axis=1)\n",
    "df = df[filtered_entries]"
   ]
  },
  {
   "cell_type": "code",
   "execution_count": 132,
   "metadata": {},
   "outputs": [
    {
     "name": "stdout",
     "output_type": "stream",
     "text": [
      "<class 'pandas.core.frame.DataFrame'>\n",
      "Int64Index: 35442 entries, 0 to 434812\n",
      "Data columns (total 18 columns):\n",
      " #   Column               Non-Null Count  Dtype \n",
      "---  ------               --------------  ----- \n",
      " 0   id                   35442 non-null  int64 \n",
      " 1   code_gender          35442 non-null  int64 \n",
      " 2   flag_own_car         35442 non-null  int64 \n",
      " 3   flag_own_realty      35442 non-null  int64 \n",
      " 4   cnt_children         35442 non-null  int64 \n",
      " 5   amt_income_total     35442 non-null  int64 \n",
      " 6   name_income_type     35442 non-null  object\n",
      " 7   name_education_type  35442 non-null  object\n",
      " 8   name_family_status   35442 non-null  object\n",
      " 9   name_housing_type    35442 non-null  object\n",
      " 10  flag_work_phone      35442 non-null  int64 \n",
      " 11  flag_phone           35442 non-null  int64 \n",
      " 12  flag_email           35442 non-null  int64 \n",
      " 13  cnt_fam_members      35442 non-null  int64 \n",
      " 14  age                  35442 non-null  int64 \n",
      " 15  years_employed       35442 non-null  int64 \n",
      " 16  status               35442 non-null  int64 \n",
      " 17  months_client        35442 non-null  int64 \n",
      "dtypes: int64(14), object(4)\n",
      "memory usage: 5.1+ MB\n"
     ]
    }
   ],
   "source": [
    "# info o danych\n",
    "df.info()\n",
    "    # mamy 4 zmienne tekstowe, 14 liczbowych, 35.493 wiersze"
   ]
  },
  {
   "cell_type": "markdown",
   "metadata": {},
   "source": [
    "# Analiza eksploracyjna v.2"
   ]
  },
  {
   "cell_type": "code",
   "execution_count": 133,
   "metadata": {},
   "outputs": [],
   "source": [
    "# tworzymy kopię zbioru do wizualizacji\n",
    "dfg = df "
   ]
  },
  {
   "cell_type": "code",
   "execution_count": 134,
   "metadata": {},
   "outputs": [
    {
     "data": {
      "image/png": "[encoded data removed]",
      "text/plain": [
       "<Figure size 576x576 with 2 Axes>"
      ]
     },
     "metadata": {
      "needs_background": "light"
     },
     "output_type": "display_data"
    }
   ],
   "source": [
    "# korelacje - zmienne ilościowe\n",
    "il = dfg[['amt_income_total', 'cnt_fam_members', 'cnt_children', 'age', 'years_employed', 'months_client']]\n",
    "plt.figure(figsize = (8,8))\n",
    "sns.heatmap(il.corr().round(2), cmap='vlag', vmin=-1, vmax=1, annot=True)\n",
    "plt.show()"
   ]
  },
  {
   "cell_type": "code",
   "execution_count": 135,
   "metadata": {},
   "outputs": [
    {
     "data": {
      "text/html": [
       "<div>\n",
       "<style scoped>\n",
       "    .dataframe tbody tr th:only-of-type {\n",
       "        vertical-align: middle;\n",
       "    }\n",
       "\n",
       "    .dataframe tbody tr th {\n",
       "        vertical-align: top;\n",
       "    }\n",
       "\n",
       "    .dataframe thead th {\n",
       "        text-align: right;\n",
       "    }\n",
       "</style>\n",
       "<table border=\"1\" class=\"dataframe\">\n",
       "  <thead>\n",
       "    <tr style=\"text-align: right;\">\n",
       "      <th></th>\n",
       "      <th>id</th>\n",
       "      <th>code_gender</th>\n",
       "      <th>flag_own_car</th>\n",
       "      <th>flag_own_realty</th>\n",
       "      <th>cnt_children</th>\n",
       "      <th>amt_income_total</th>\n",
       "      <th>flag_work_phone</th>\n",
       "      <th>flag_phone</th>\n",
       "      <th>flag_email</th>\n",
       "      <th>cnt_fam_members</th>\n",
       "      <th>age</th>\n",
       "      <th>years_employed</th>\n",
       "      <th>status</th>\n",
       "      <th>months_client</th>\n",
       "    </tr>\n",
       "  </thead>\n",
       "  <tbody>\n",
       "    <tr>\n",
       "      <th>count</th>\n",
       "      <td>3.544200e+04</td>\n",
       "      <td>35442.000000</td>\n",
       "      <td>35442.000000</td>\n",
       "      <td>35442.000000</td>\n",
       "      <td>35442.000000</td>\n",
       "      <td>35442.000000</td>\n",
       "      <td>35442.000000</td>\n",
       "      <td>35442.000000</td>\n",
       "      <td>35442.000000</td>\n",
       "      <td>35442.000000</td>\n",
       "      <td>35442.000000</td>\n",
       "      <td>35442.000000</td>\n",
       "      <td>35442.000000</td>\n",
       "      <td>35442.000000</td>\n",
       "    </tr>\n",
       "    <tr>\n",
       "      <th>mean</th>\n",
       "      <td>5.078298e+06</td>\n",
       "      <td>0.673015</td>\n",
       "      <td>0.374584</td>\n",
       "      <td>0.669375</td>\n",
       "      <td>0.387873</td>\n",
       "      <td>179865.375346</td>\n",
       "      <td>0.225382</td>\n",
       "      <td>0.293578</td>\n",
       "      <td>0.088285</td>\n",
       "      <td>2.154252</td>\n",
       "      <td>43.827888</td>\n",
       "      <td>-165.762993</td>\n",
       "      <td>0.016816</td>\n",
       "      <td>26.174736</td>\n",
       "    </tr>\n",
       "    <tr>\n",
       "      <th>std</th>\n",
       "      <td>4.186565e+04</td>\n",
       "      <td>0.469118</td>\n",
       "      <td>0.484022</td>\n",
       "      <td>0.470445</td>\n",
       "      <td>0.646760</td>\n",
       "      <td>81535.733690</td>\n",
       "      <td>0.417840</td>\n",
       "      <td>0.455407</td>\n",
       "      <td>0.283713</td>\n",
       "      <td>0.831433</td>\n",
       "      <td>11.575523</td>\n",
       "      <td>379.972251</td>\n",
       "      <td>0.128584</td>\n",
       "      <td>16.511705</td>\n",
       "    </tr>\n",
       "    <tr>\n",
       "      <th>min</th>\n",
       "      <td>5.008804e+06</td>\n",
       "      <td>0.000000</td>\n",
       "      <td>0.000000</td>\n",
       "      <td>0.000000</td>\n",
       "      <td>0.000000</td>\n",
       "      <td>27000.000000</td>\n",
       "      <td>0.000000</td>\n",
       "      <td>0.000000</td>\n",
       "      <td>0.000000</td>\n",
       "      <td>1.000000</td>\n",
       "      <td>21.000000</td>\n",
       "      <td>-1000.000000</td>\n",
       "      <td>0.000000</td>\n",
       "      <td>0.000000</td>\n",
       "    </tr>\n",
       "    <tr>\n",
       "      <th>25%</th>\n",
       "      <td>5.042078e+06</td>\n",
       "      <td>0.000000</td>\n",
       "      <td>0.000000</td>\n",
       "      <td>0.000000</td>\n",
       "      <td>0.000000</td>\n",
       "      <td>121500.000000</td>\n",
       "      <td>0.000000</td>\n",
       "      <td>0.000000</td>\n",
       "      <td>0.000000</td>\n",
       "      <td>2.000000</td>\n",
       "      <td>34.000000</td>\n",
       "      <td>1.000000</td>\n",
       "      <td>0.000000</td>\n",
       "      <td>12.000000</td>\n",
       "    </tr>\n",
       "    <tr>\n",
       "      <th>50%</th>\n",
       "      <td>5.074670e+06</td>\n",
       "      <td>1.000000</td>\n",
       "      <td>0.000000</td>\n",
       "      <td>1.000000</td>\n",
       "      <td>0.000000</td>\n",
       "      <td>157500.000000</td>\n",
       "      <td>0.000000</td>\n",
       "      <td>0.000000</td>\n",
       "      <td>0.000000</td>\n",
       "      <td>2.000000</td>\n",
       "      <td>43.000000</td>\n",
       "      <td>4.000000</td>\n",
       "      <td>0.000000</td>\n",
       "      <td>24.000000</td>\n",
       "    </tr>\n",
       "    <tr>\n",
       "      <th>75%</th>\n",
       "      <td>5.115407e+06</td>\n",
       "      <td>1.000000</td>\n",
       "      <td>1.000000</td>\n",
       "      <td>1.000000</td>\n",
       "      <td>1.000000</td>\n",
       "      <td>225000.000000</td>\n",
       "      <td>0.000000</td>\n",
       "      <td>1.000000</td>\n",
       "      <td>0.000000</td>\n",
       "      <td>3.000000</td>\n",
       "      <td>53.000000</td>\n",
       "      <td>9.000000</td>\n",
       "      <td>0.000000</td>\n",
       "      <td>39.000000</td>\n",
       "    </tr>\n",
       "    <tr>\n",
       "      <th>max</th>\n",
       "      <td>5.150487e+06</td>\n",
       "      <td>1.000000</td>\n",
       "      <td>1.000000</td>\n",
       "      <td>1.000000</td>\n",
       "      <td>2.000000</td>\n",
       "      <td>472500.000000</td>\n",
       "      <td>1.000000</td>\n",
       "      <td>1.000000</td>\n",
       "      <td>1.000000</td>\n",
       "      <td>4.000000</td>\n",
       "      <td>69.000000</td>\n",
       "      <td>43.000000</td>\n",
       "      <td>1.000000</td>\n",
       "      <td>60.000000</td>\n",
       "    </tr>\n",
       "  </tbody>\n",
       "</table>\n",
       "</div>"
      ],
      "text/plain": [
       "                 id   code_gender  flag_own_car  flag_own_realty  \\\n",
       "count  3.544200e+04  35442.000000  35442.000000     35442.000000   \n",
       "mean   5.078298e+06      0.673015      0.374584         0.669375   \n",
       "std    4.186565e+04      0.469118      0.484022         0.470445   \n",
       "min    5.008804e+06      0.000000      0.000000         0.000000   \n",
       "25%    5.042078e+06      0.000000      0.000000         0.000000   \n",
       "50%    5.074670e+06      1.000000      0.000000         1.000000   \n",
       "75%    5.115407e+06      1.000000      1.000000         1.000000   \n",
       "max    5.150487e+06      1.000000      1.000000         1.000000   \n",
       "\n",
       "       cnt_children  amt_income_total  flag_work_phone    flag_phone  \\\n",
       "count  35442.000000      35442.000000     35442.000000  35442.000000   \n",
       "mean       0.387873     179865.375346         0.225382      0.293578   \n",
       "std        0.646760      81535.733690         0.417840      0.455407   \n",
       "min        0.000000      27000.000000         0.000000      0.000000   \n",
       "25%        0.000000     121500.000000         0.000000      0.000000   \n",
       "50%        0.000000     157500.000000         0.000000      0.000000   \n",
       "75%        1.000000     225000.000000         0.000000      1.000000   \n",
       "max        2.000000     472500.000000         1.000000      1.000000   \n",
       "\n",
       "         flag_email  cnt_fam_members           age  years_employed  \\\n",
       "count  35442.000000     35442.000000  35442.000000    35442.000000   \n",
       "mean       0.088285         2.154252     43.827888     -165.762993   \n",
       "std        0.283713         0.831433     11.575523      379.972251   \n",
       "min        0.000000         1.000000     21.000000    -1000.000000   \n",
       "25%        0.000000         2.000000     34.000000        1.000000   \n",
       "50%        0.000000         2.000000     43.000000        4.000000   \n",
       "75%        0.000000         3.000000     53.000000        9.000000   \n",
       "max        1.000000         4.000000     69.000000       43.000000   \n",
       "\n",
       "             status  months_client  \n",
       "count  35442.000000   35442.000000  \n",
       "mean       0.016816      26.174736  \n",
       "std        0.128584      16.511705  \n",
       "min        0.000000       0.000000  \n",
       "25%        0.000000      12.000000  \n",
       "50%        0.000000      24.000000  \n",
       "75%        0.000000      39.000000  \n",
       "max        1.000000      60.000000  "
      ]
     },
     "execution_count": 135,
     "metadata": {},
     "output_type": "execute_result"
    }
   ],
   "source": [
    "# wstępna inspekcja danych\n",
    "df.describe()"
   ]
  },
  {
   "cell_type": "code",
   "execution_count": 136,
   "metadata": {},
   "outputs": [
    {
     "data": {
      "text/html": [
       "<div>\n",
       "<style scoped>\n",
       "    .dataframe tbody tr th:only-of-type {\n",
       "        vertical-align: middle;\n",
       "    }\n",
       "\n",
       "    .dataframe tbody tr th {\n",
       "        vertical-align: top;\n",
       "    }\n",
       "\n",
       "    .dataframe thead th {\n",
       "        text-align: right;\n",
       "    }\n",
       "</style>\n",
       "<table border=\"1\" class=\"dataframe\">\n",
       "  <thead>\n",
       "    <tr style=\"text-align: right;\">\n",
       "      <th></th>\n",
       "      <th>amt_income_total</th>\n",
       "      <th>cnt_fam_members</th>\n",
       "      <th>cnt_children</th>\n",
       "      <th>age</th>\n",
       "      <th>years_employed</th>\n",
       "      <th>months_client</th>\n",
       "    </tr>\n",
       "  </thead>\n",
       "  <tbody>\n",
       "    <tr>\n",
       "      <th>count</th>\n",
       "      <td>35442.0</td>\n",
       "      <td>35442.0</td>\n",
       "      <td>35442.0</td>\n",
       "      <td>35442.0</td>\n",
       "      <td>35442.0</td>\n",
       "      <td>35442.0</td>\n",
       "    </tr>\n",
       "    <tr>\n",
       "      <th>mean</th>\n",
       "      <td>179865.0</td>\n",
       "      <td>2.0</td>\n",
       "      <td>0.0</td>\n",
       "      <td>44.0</td>\n",
       "      <td>-166.0</td>\n",
       "      <td>26.0</td>\n",
       "    </tr>\n",
       "    <tr>\n",
       "      <th>std</th>\n",
       "      <td>81536.0</td>\n",
       "      <td>1.0</td>\n",
       "      <td>1.0</td>\n",
       "      <td>12.0</td>\n",
       "      <td>380.0</td>\n",
       "      <td>17.0</td>\n",
       "    </tr>\n",
       "    <tr>\n",
       "      <th>min</th>\n",
       "      <td>27000.0</td>\n",
       "      <td>1.0</td>\n",
       "      <td>0.0</td>\n",
       "      <td>21.0</td>\n",
       "      <td>-1000.0</td>\n",
       "      <td>0.0</td>\n",
       "    </tr>\n",
       "    <tr>\n",
       "      <th>25%</th>\n",
       "      <td>121500.0</td>\n",
       "      <td>2.0</td>\n",
       "      <td>0.0</td>\n",
       "      <td>34.0</td>\n",
       "      <td>1.0</td>\n",
       "      <td>12.0</td>\n",
       "    </tr>\n",
       "    <tr>\n",
       "      <th>50%</th>\n",
       "      <td>157500.0</td>\n",
       "      <td>2.0</td>\n",
       "      <td>0.0</td>\n",
       "      <td>43.0</td>\n",
       "      <td>4.0</td>\n",
       "      <td>24.0</td>\n",
       "    </tr>\n",
       "    <tr>\n",
       "      <th>75%</th>\n",
       "      <td>225000.0</td>\n",
       "      <td>3.0</td>\n",
       "      <td>1.0</td>\n",
       "      <td>53.0</td>\n",
       "      <td>9.0</td>\n",
       "      <td>39.0</td>\n",
       "    </tr>\n",
       "    <tr>\n",
       "      <th>max</th>\n",
       "      <td>472500.0</td>\n",
       "      <td>4.0</td>\n",
       "      <td>2.0</td>\n",
       "      <td>69.0</td>\n",
       "      <td>43.0</td>\n",
       "      <td>60.0</td>\n",
       "    </tr>\n",
       "  </tbody>\n",
       "</table>\n",
       "</div>"
      ],
      "text/plain": [
       "       amt_income_total  cnt_fam_members  cnt_children      age  \\\n",
       "count           35442.0          35442.0       35442.0  35442.0   \n",
       "mean           179865.0              2.0           0.0     44.0   \n",
       "std             81536.0              1.0           1.0     12.0   \n",
       "min             27000.0              1.0           0.0     21.0   \n",
       "25%            121500.0              2.0           0.0     34.0   \n",
       "50%            157500.0              2.0           0.0     43.0   \n",
       "75%            225000.0              3.0           1.0     53.0   \n",
       "max            472500.0              4.0           2.0     69.0   \n",
       "\n",
       "       years_employed  months_client  \n",
       "count         35442.0        35442.0  \n",
       "mean           -166.0           26.0  \n",
       "std             380.0           17.0  \n",
       "min           -1000.0            0.0  \n",
       "25%               1.0           12.0  \n",
       "50%               4.0           24.0  \n",
       "75%               9.0           39.0  \n",
       "max              43.0           60.0  "
      ]
     },
     "execution_count": 136,
     "metadata": {},
     "output_type": "execute_result"
    }
   ],
   "source": [
    "# obliczamy statystyki dla zmiennych ilościowych\n",
    "df[['amt_income_total', 'cnt_fam_members', 'cnt_children', 'age', 'years_employed', 'months_client']].describe().round()"
   ]
  },
  {
   "cell_type": "code",
   "execution_count": 137,
   "metadata": {},
   "outputs": [
    {
     "data": {
      "text/plain": [
       "<matplotlib.axes._subplots.AxesSubplot at 0x133ba1970>"
      ]
     },
     "execution_count": 137,
     "metadata": {},
     "output_type": "execute_result"
    },
    {
     "data": {
      "image/png": "[encoded data removed]",
      "text/plain": [
       "<Figure size 432x288 with 1 Axes>"
      ]
     },
     "metadata": {
      "needs_background": "light"
     },
     "output_type": "display_data"
    }
   ],
   "source": [
    "# histogram dla zmiennej amt_income_total\n",
    "df.amt_income_total.plot.hist(color='#0f4c75')"
   ]
  },
  {
   "cell_type": "code",
   "execution_count": 138,
   "metadata": {},
   "outputs": [
    {
     "data": {
      "image/png": "[encoded data removed]",
      "text/plain": [
       "<Figure size 432x288 with 1 Axes>"
      ]
     },
     "metadata": {
      "needs_background": "light"
     },
     "output_type": "display_data"
    }
   ],
   "source": [
    "# wykres słupkowy dla zmiennej cnt_fam_members\n",
    "dfg.groupby(['cnt_fam_members']).cnt_fam_members.count().sort_values(ascending=True).plot.barh(color='#0f4c75')\n",
    "plt.show()"
   ]
  },
  {
   "cell_type": "code",
   "execution_count": 139,
   "metadata": {},
   "outputs": [
    {
     "data": {
      "image/png": "[encoded data removed]",
      "text/plain": [
       "<Figure size 432x288 with 1 Axes>"
      ]
     },
     "metadata": {
      "needs_background": "light"
     },
     "output_type": "display_data"
    }
   ],
   "source": [
    "# wykres słupkowy dla zmiennej cnt_children\n",
    "dfg.groupby(['cnt_children']).cnt_children.count().sort_values(ascending=True).plot.barh(color='#0f4c75')\n",
    "plt.show()"
   ]
  },
  {
   "cell_type": "code",
   "execution_count": 140,
   "metadata": {},
   "outputs": [
    {
     "data": {
      "text/plain": [
       "<matplotlib.axes._subplots.AxesSubplot at 0x130c6ca60>"
      ]
     },
     "execution_count": 140,
     "metadata": {},
     "output_type": "execute_result"
    },
    {
     "data": {
      "image/png": "[encoded data removed]",
      "text/plain": [
       "<Figure size 432x288 with 1 Axes>"
      ]
     },
     "metadata": {
      "needs_background": "light"
     },
     "output_type": "display_data"
    }
   ],
   "source": [
    "# histogram dla zmiennej age\n",
    "df.age.plot.hist(bins=5, color='#0f4c75')"
   ]
  },
  {
   "cell_type": "code",
   "execution_count": 141,
   "metadata": {},
   "outputs": [
    {
     "data": {
      "text/plain": [
       "<matplotlib.axes._subplots.AxesSubplot at 0x1311e9820>"
      ]
     },
     "execution_count": 141,
     "metadata": {},
     "output_type": "execute_result"
    },
    {
     "data": {
      "image/png": "[encoded data removed]",
      "text/plain": [
       "<Figure size 432x288 with 1 Axes>"
      ]
     },
     "metadata": {
      "needs_background": "light"
     },
     "output_type": "display_data"
    }
   ],
   "source": [
    "# przyglądamy się zmiennej years_employed\n",
    "df.years_employed.hist(color='#0f4c75')"
   ]
  },
  {
   "cell_type": "code",
   "execution_count": 142,
   "metadata": {},
   "outputs": [
    {
     "data": {
      "text/plain": [
       "count    6088.0\n",
       "mean    -1000.0\n",
       "std         0.0\n",
       "min     -1000.0\n",
       "25%     -1000.0\n",
       "50%     -1000.0\n",
       "75%     -1000.0\n",
       "max     -1000.0\n",
       "Name: years_employed, dtype: float64"
      ]
     },
     "execution_count": 142,
     "metadata": {},
     "output_type": "execute_result"
    }
   ],
   "source": [
    "# sprawdzamy wartości mniejsze od 0\n",
    "df.years_employed[df.years_employed<0].describe()\n",
    "    # wszystkie mają wartość -1000 -> tak zostały oznaczone osoby nieposiadające pracy\n",
    "    # nieposiadające pracy"
   ]
  },
  {
   "cell_type": "code",
   "execution_count": 143,
   "metadata": {},
   "outputs": [
    {
     "data": {
      "text/plain": [
       "count    28460.0\n",
       "mean         7.0\n",
       "std          6.0\n",
       "min          1.0\n",
       "25%          3.0\n",
       "50%          6.0\n",
       "75%         10.0\n",
       "max         43.0\n",
       "Name: years_employed, dtype: float64"
      ]
     },
     "execution_count": 143,
     "metadata": {},
     "output_type": "execute_result"
    }
   ],
   "source": [
    "# statystyki dla wartości > 0\n",
    "df.years_employed[df.years_employed>0].describe().round()"
   ]
  },
  {
   "cell_type": "code",
   "execution_count": 144,
   "metadata": {},
   "outputs": [
    {
     "data": {
      "text/plain": [
       "<matplotlib.axes._subplots.AxesSubplot at 0x1312cedc0>"
      ]
     },
     "execution_count": 144,
     "metadata": {},
     "output_type": "execute_result"
    },
    {
     "data": {
      "image/png": "[encoded data removed]",
      "text/plain": [
       "<Figure size 432x288 with 1 Axes>"
      ]
     },
     "metadata": {
      "needs_background": "light"
     },
     "output_type": "display_data"
    }
   ],
   "source": [
    "# histogram dla wartości > 0\n",
    "df.years_employed[df.years_employed>0].plot.hist(color='#0f4c75')"
   ]
  },
  {
   "cell_type": "code",
   "execution_count": 145,
   "metadata": {},
   "outputs": [
    {
     "data": {
      "text/plain": [
       "<matplotlib.axes._subplots.AxesSubplot at 0x133f3db50>"
      ]
     },
     "execution_count": 145,
     "metadata": {},
     "output_type": "execute_result"
    },
    {
     "data": {
      "image/png": "[encoded data removed]",
      "text/plain": [
       "<Figure size 432x288 with 1 Axes>"
      ]
     },
     "metadata": {
      "needs_background": "light"
     },
     "output_type": "display_data"
    }
   ],
   "source": [
    "# histogram dla zmiennej months_client\n",
    "df.months_client.plot.hist(color='#0f4c75', bins=6)"
   ]
  },
  {
   "cell_type": "code",
   "execution_count": 146,
   "metadata": {},
   "outputs": [
    {
     "name": "stdout",
     "output_type": "stream",
     "text": [
      "<class 'pandas.core.frame.DataFrame'>\n",
      "Int64Index: 35442 entries, 0 to 434812\n",
      "Data columns (total 18 columns):\n",
      " #   Column               Non-Null Count  Dtype \n",
      "---  ------               --------------  ----- \n",
      " 0   id                   35442 non-null  int64 \n",
      " 1   code_gender          35442 non-null  int64 \n",
      " 2   flag_own_car         35442 non-null  int64 \n",
      " 3   flag_own_realty      35442 non-null  int64 \n",
      " 4   cnt_children         35442 non-null  int64 \n",
      " 5   amt_income_total     35442 non-null  int64 \n",
      " 6   name_income_type     35442 non-null  object\n",
      " 7   name_education_type  35442 non-null  object\n",
      " 8   name_family_status   35442 non-null  object\n",
      " 9   name_housing_type    35442 non-null  object\n",
      " 10  flag_work_phone      35442 non-null  int64 \n",
      " 11  flag_phone           35442 non-null  int64 \n",
      " 12  flag_email           35442 non-null  int64 \n",
      " 13  cnt_fam_members      35442 non-null  int64 \n",
      " 14  age                  35442 non-null  int64 \n",
      " 15  years_employed       35442 non-null  int64 \n",
      " 16  status               35442 non-null  int64 \n",
      " 17  months_client        35442 non-null  int64 \n",
      "dtypes: int64(14), object(4)\n",
      "memory usage: 5.1+ MB\n"
     ]
    }
   ],
   "source": [
    "df.info()"
   ]
  },
  {
   "cell_type": "markdown",
   "metadata": {},
   "source": [
    "# WOE & IV"
   ]
  },
  {
   "cell_type": "code",
   "execution_count": 147,
   "metadata": {},
   "outputs": [],
   "source": [
    "# definiujemy funkcję WOE/IV\n",
    "def iv_woe(data, target, bins=10, show_woe=False):\n",
    "    \n",
    "    #Empty Dataframe\n",
    "    newDF,woeDF = pd.DataFrame(), pd.DataFrame()\n",
    "    \n",
    "    #Extract Column Names\n",
    "    cols = data.columns\n",
    "    \n",
    "    #Run WOE and IV on all the independent variables\n",
    "    for ivars in cols[~cols.isin([target])]:\n",
    "        if (data[ivars].dtype.kind in 'bifc') and (len(np.unique(data[ivars]))>10):\n",
    "            binned_x = pd.qcut(data[ivars], bins,  duplicates='drop')\n",
    "            d0 = pd.DataFrame({'x': binned_x, 'y': data[target]})\n",
    "        else:\n",
    "            d0 = pd.DataFrame({'x': data[ivars], 'y': data[target]})\n",
    "        d = d0.groupby(\"x\", as_index=False).agg({\"y\": [\"count\", \"sum\"]})\n",
    "        d.columns = ['Cutoff', 'N', 'Events']\n",
    "        d['% of Events'] = np.maximum(d['Events'], 0.5) / d['Events'].sum()\n",
    "        d['Non-Events'] = d['N'] - d['Events']\n",
    "        d['% of Non-Events'] = np.maximum(d['Non-Events'], 0.5) / d['Non-Events'].sum()\n",
    "        d['WoE'] = np.log(d['% of Events']/d['% of Non-Events'])\n",
    "        d['IV'] = d['WoE'] * (d['% of Events'] - d['% of Non-Events'])\n",
    "        d.insert(loc=0, column='Variable', value=ivars)\n",
    "        print(\"Information value of \" + ivars + \" is \" + str(round(d['IV'].sum(),6)))\n",
    "        temp =pd.DataFrame({\"Variable\" : [ivars], \"IV\" : [d['IV'].sum()]}, columns = [\"Variable\", \"IV\"])\n",
    "        newDF=pd.concat([newDF,temp], axis=0)\n",
    "        woeDF=pd.concat([woeDF,d], axis=0)\n",
    "\n",
    "        #Show WOE Table\n",
    "        if show_woe == True:\n",
    "            print(d)\n",
    "    return newDF, woeDF"
   ]
  },
  {
   "cell_type": "code",
   "execution_count": 148,
   "metadata": {},
   "outputs": [
    {
     "name": "stdout",
     "output_type": "stream",
     "text": [
      "Information value of id is 0.058947\n",
      "  Variable                    Cutoff     N  Events  % of Events  Non-Events  \\\n",
      "0       id  (5008803.999, 5023470.1]  3545      54     0.090604        3491   \n",
      "1       id    (5023470.1, 5035866.2]  3544      52     0.087248        3492   \n",
      "2       id    (5035866.2, 5048107.3]  3544      42     0.070470        3502   \n",
      "3       id    (5048107.3, 5061807.4]  3544      78     0.130872        3466   \n",
      "4       id    (5061807.4, 5074670.0]  3544      41     0.068792        3503   \n",
      "5       id    (5074670.0, 5091766.6]  3544      43     0.072148        3501   \n",
      "6       id    (5091766.6, 5106052.7]  3544      68     0.114094        3476   \n",
      "7       id    (5106052.7, 5117750.2]  3544      72     0.120805        3472   \n",
      "8       id    (5117750.2, 5139543.2]  3544      74     0.124161        3470   \n",
      "9       id    (5139543.2, 5150487.0]  3545      72     0.120805        3473   \n",
      "\n",
      "   % of Non-Events       WoE        IV  \n",
      "0         0.100184 -0.100506  0.000963  \n",
      "1         0.100212 -0.138533  0.001796  \n",
      "2         0.100499 -0.354967  0.010659  \n",
      "3         0.099466  0.274405  0.008618  \n",
      "4         0.100528 -0.379350  0.012039  \n",
      "5         0.100471 -0.331151  0.009379  \n",
      "6         0.099753  0.134323  0.001926  \n",
      "7         0.099638  0.192633  0.004077  \n",
      "8         0.099581  0.220608  0.005423  \n",
      "9         0.099667  0.192345  0.004066  \n",
      "Information value of code_gender is 0.016585\n",
      "      Variable  Cutoff      N  Events  % of Events  Non-Events  \\\n",
      "0  code_gender       0  11589     231     0.387584       11358   \n",
      "1  code_gender       1  23853     365     0.612416       23488   \n",
      "\n",
      "   % of Non-Events       WoE        IV  \n",
      "0         0.325948  0.173193  0.010675  \n",
      "1         0.674052 -0.095895  0.005911  \n",
      "Information value of flag_own_car is 6.3e-05\n",
      "       Variable  Cutoff      N  Events  % of Events  Non-Events  \\\n",
      "0  flag_own_car       0  22166     375     0.629195       21791   \n",
      "1  flag_own_car       1  13276     221     0.370805       13055   \n",
      "\n",
      "   % of Non-Events       WoE        IV  \n",
      "0         0.625352  0.006127  0.000024  \n",
      "1         0.374648 -0.010311  0.000040  \n",
      "Information value of flag_own_realty is 0.028807\n",
      "          Variable  Cutoff      N  Events  % of Events  Non-Events  \\\n",
      "0  flag_own_realty       0  11718     245     0.411074       11473   \n",
      "1  flag_own_realty       1  23724     351     0.588926       23373   \n",
      "\n",
      "   % of Non-Events       WoE        IV  \n",
      "0         0.329249  0.221959  0.018162  \n",
      "1         0.670751 -0.130098  0.010645  \n",
      "Information value of cnt_children is 0.001218\n",
      "       Variable  Cutoff      N  Events  % of Events  Non-Events  \\\n",
      "0  cnt_children       0  24900     428     0.718121       24472   \n",
      "1  cnt_children       1   7337     117     0.196309        7220   \n",
      "2  cnt_children       2   3205      51     0.085570        3154   \n",
      "\n",
      "   % of Non-Events       WoE        IV  \n",
      "0         0.702290  0.022291  0.000353  \n",
      "1         0.207197 -0.053983  0.000588  \n",
      "2         0.090513 -0.056148  0.000277  \n",
      "Information value of amt_income_total is 0.012885\n",
      "           Variable                Cutoff     N  Events  % of Events  \\\n",
      "0  amt_income_total  (26999.999, 90000.0]  4413      76     0.127517   \n",
      "1  amt_income_total   (90000.0, 112500.0]  4064      73     0.122483   \n",
      "2  amt_income_total  (112500.0, 135000.0]  5788     101     0.169463   \n",
      "3  amt_income_total  (135000.0, 157500.0]  4021      49     0.082215   \n",
      "4  amt_income_total  (157500.0, 180000.0]  3834      71     0.119128   \n",
      "5  amt_income_total  (180000.0, 207000.0]  2764      47     0.078859   \n",
      "6  amt_income_total  (207000.0, 234000.0]  3566      64     0.107383   \n",
      "7  amt_income_total  (234000.0, 292500.0]  3657      60     0.100671   \n",
      "8  amt_income_total  (292500.0, 472500.0]  3335      55     0.092282   \n",
      "\n",
      "   Non-Events  % of Non-Events       WoE        IV  \n",
      "0        4337         0.124462  0.024248  0.000074  \n",
      "1        3991         0.114533  0.067115  0.000534  \n",
      "2        5687         0.163204  0.037635  0.000236  \n",
      "3        3972         0.113987 -0.326752  0.010382  \n",
      "4        3763         0.107989  0.098161  0.001093  \n",
      "5        2717         0.077972  0.011317  0.000010  \n",
      "6        3502         0.100499  0.066247  0.000456  \n",
      "7        3597         0.103226 -0.025058  0.000064  \n",
      "8        3280         0.094128 -0.019813  0.000037  \n",
      "Information value of name_income_type is 0.018348\n",
      "           Variable                Cutoff      N  Events  % of Events  \\\n",
      "0  name_income_type  Commercial associate   8158     130     0.218121   \n",
      "1  name_income_type             Pensioner   6104     129     0.216443   \n",
      "2  name_income_type         State servant   2884      36     0.060403   \n",
      "3  name_income_type               Student     11       0     0.000839   \n",
      "4  name_income_type               Working  18285     301     0.505034   \n",
      "\n",
      "   Non-Events  % of Non-Events       WoE        IV  \n",
      "0        8028         0.230385 -0.054703  0.000671  \n",
      "1        5975         0.171469  0.232926  0.010476  \n",
      "2        2848         0.081731 -0.302400  0.006450  \n",
      "3          11         0.000316  0.977411  0.000511  \n",
      "4       17984         0.516099 -0.021675  0.000240  \n",
      "Information value of name_education_type is 0.01073\n",
      "              Variable                         Cutoff      N  Events  \\\n",
      "0  name_education_type                Academic degree     32       0   \n",
      "1  name_education_type               Higher education   9466     166   \n",
      "2  name_education_type              Incomplete higher   1351      32   \n",
      "3  name_education_type                Lower secondary    372      10   \n",
      "4  name_education_type  Secondary / secondary special  24221     388   \n",
      "\n",
      "   % of Events  Non-Events  % of Non-Events       WoE        IV  \n",
      "0     0.000839          32         0.000918 -0.090430  0.000007  \n",
      "1     0.278523        9300         0.266889  0.042671  0.000496  \n",
      "2     0.053691        1319         0.037852  0.349560  0.005537  \n",
      "3     0.016779         362         0.010389  0.479394  0.003063  \n",
      "4     0.651007       23833         0.683952 -0.049368  0.001626  \n",
      "Information value of name_family_status is 0.030496\n",
      "             Variable                Cutoff      N  Events  % of Events  \\\n",
      "0  name_family_status        Civil marriage   2900      46     0.077181   \n",
      "1  name_family_status               Married  24251     377     0.632550   \n",
      "2  name_family_status             Separated   2048      31     0.052013   \n",
      "3  name_family_status  Single / not married   4726      97     0.162752   \n",
      "4  name_family_status                 Widow   1517      45     0.075503   \n",
      "\n",
      "   Non-Events  % of Non-Events       WoE        IV  \n",
      "0        2854         0.081903 -0.059382  0.000280  \n",
      "1       23874         0.685129 -0.079847  0.004198  \n",
      "2        2017         0.057883 -0.106926  0.000628  \n",
      "3        4629         0.132842  0.203068  0.006074  \n",
      "4        1472         0.042243  0.580738  0.019316  \n",
      "Information value of name_housing_type is 0.016406\n",
      "            Variable               Cutoff      N  Events  % of Events  \\\n",
      "0  name_housing_type      Co-op apartment    145       3     0.005034   \n",
      "1  name_housing_type    House / apartment  31639     522     0.875839   \n",
      "2  name_housing_type  Municipal apartment   1105      29     0.048658   \n",
      "3  name_housing_type     Office apartment    253       9     0.015101   \n",
      "4  name_housing_type     Rented apartment    558       8     0.013423   \n",
      "5  name_housing_type         With parents   1742      25     0.041946   \n",
      "\n",
      "   Non-Events  % of Non-Events       WoE        IV  \n",
      "0         142         0.004075  0.211238  0.000202  \n",
      "1       31117         0.892986 -0.019389  0.000332  \n",
      "2        1076         0.030879  0.454743  0.008085  \n",
      "3         244         0.007002  0.768509  0.006224  \n",
      "4         550         0.015784 -0.162024  0.000383  \n",
      "5        1717         0.049274 -0.161005  0.001180  \n",
      "Information value of flag_work_phone is 0.00185\n",
      "          Variable  Cutoff      N  Events  % of Events  Non-Events  \\\n",
      "0  flag_work_phone       0  27454     451     0.756711       27003   \n",
      "1  flag_work_phone       1   7988     145     0.243289        7843   \n",
      "\n",
      "   % of Non-Events       WoE        IV  \n",
      "0         0.774924 -0.023783  0.000433  \n",
      "1         0.225076  0.077810  0.001417  \n",
      "Information value of flag_phone is 0.000686\n",
      "     Variable  Cutoff      N  Events  % of Events  Non-Events  \\\n",
      "0  flag_phone       0  25037     414     0.694631       24623   \n",
      "1  flag_phone       1  10405     182     0.305369       10223   \n",
      "\n",
      "   % of Non-Events       WoE        IV  \n",
      "0         0.706623 -0.017117  0.000205  \n",
      "1         0.293377  0.040064  0.000480  \n",
      "Information value of flag_email is 1.4e-05\n",
      "     Variable  Cutoff      N  Events  % of Events  Non-Events  \\\n",
      "0  flag_email       0  32313     544     0.912752       31769   \n",
      "1  flag_email       1   3129      52     0.087248        3077   \n",
      "\n",
      "   % of Non-Events       WoE        IV  \n",
      "0         0.911697  0.001156  0.000001  \n",
      "1         0.088303 -0.012014  0.000013  \n",
      "Information value of cnt_fam_members is 0.009274\n",
      "          Variable  Cutoff      N  Events  % of Events  Non-Events  \\\n",
      "0  cnt_fam_members       1   6898     138     0.231544        6760   \n",
      "1  cnt_fam_members       2  19219     308     0.516779       18911   \n",
      "2  cnt_fam_members       3   6285     105     0.176174        6180   \n",
      "3  cnt_fam_members       4   3040      45     0.075503        2995   \n",
      "\n",
      "   % of Non-Events       WoE        IV  \n",
      "0         0.193996  0.176928  0.006643  \n",
      "1         0.542702 -0.048946  0.001269  \n",
      "2         0.177352 -0.006660  0.000008  \n",
      "3         0.085950 -0.129584  0.001354  \n",
      "Information value of age is 0.02604\n",
      "  Variable          Cutoff     N  Events  % of Events  Non-Events  \\\n",
      "0      age  (20.999, 29.0]  4432      85     0.142617        4347   \n",
      "1      age    (29.0, 32.0]  2867      45     0.075503        2822   \n",
      "2      age    (32.0, 36.0]  3854      64     0.107383        3790   \n",
      "3      age    (36.0, 39.0]  3104      45     0.075503        3059   \n",
      "4      age    (39.0, 43.0]  4072      63     0.105705        4009   \n",
      "5      age    (43.0, 47.0]  3470      44     0.073826        3426   \n",
      "6      age    (47.0, 51.0]  3297      59     0.098993        3238   \n",
      "7      age    (51.0, 56.0]  3844      88     0.147651        3756   \n",
      "8      age    (56.0, 60.0]  3084      49     0.082215        3035   \n",
      "9      age    (60.0, 69.0]  3418      54     0.090604        3364   \n",
      "\n",
      "   % of Non-Events       WoE        IV  \n",
      "0         0.124749  0.133863  0.002392  \n",
      "1         0.080985 -0.070086  0.000384  \n",
      "2         0.108764 -0.012785  0.000018  \n",
      "3         0.087786 -0.150728  0.001851  \n",
      "4         0.115049 -0.084709  0.000792  \n",
      "5         0.098318 -0.286506  0.007017  \n",
      "6         0.092923  0.063279  0.000384  \n",
      "7         0.107789  0.314680  0.012544  \n",
      "8         0.087098 -0.057693  0.000282  \n",
      "9         0.096539 -0.063449  0.000377  \n",
      "Information value of years_employed is 0.040616\n",
      "         Variable            Cutoff      N  Events  % of Events  Non-Events  \\\n",
      "0  years_employed  (-1000.001, 1.0]  10111     202     0.338926        9909   \n",
      "1  years_employed        (1.0, 2.0]   2885      64     0.107383        2821   \n",
      "2  years_employed        (2.0, 3.0]   2822      46     0.077181        2776   \n",
      "3  years_employed        (3.0, 4.0]   2752      41     0.068792        2711   \n",
      "4  years_employed        (4.0, 6.0]   4300      77     0.129195        4223   \n",
      "5  years_employed        (6.0, 8.0]   3589      50     0.083893        3539   \n",
      "6  years_employed       (8.0, 10.0]   2659      39     0.065436        2620   \n",
      "7  years_employed      (10.0, 15.0]   3399      44     0.073826        3355   \n",
      "8  years_employed      (15.0, 43.0]   2925      33     0.055369        2892   \n",
      "\n",
      "   % of Non-Events       WoE        IV  \n",
      "0         0.284365  0.175522  0.009577  \n",
      "1         0.080956  0.282489  0.007465  \n",
      "2         0.079665 -0.031672  0.000079  \n",
      "3         0.077799 -0.123048  0.001108  \n",
      "4         0.121190  0.063957  0.000512  \n",
      "5         0.101561 -0.191124  0.003377  \n",
      "6         0.075188 -0.138915  0.001355  \n",
      "7         0.096281 -0.265564  0.005963  \n",
      "8         0.082994 -0.404743  0.011181  \n",
      "Information value of months_client is 0.292888\n",
      "        Variable         Cutoff     N  Events  % of Events  Non-Events  \\\n",
      "0  months_client  (-0.001, 5.0]  3780      11     0.018456        3769   \n",
      "1  months_client    (5.0, 10.0]  3994      45     0.075503        3949   \n",
      "2  months_client   (10.0, 14.0]  3048      39     0.065436        3009   \n",
      "3  months_client   (14.0, 19.0]  3650      49     0.082215        3601   \n",
      "4  months_client   (19.0, 24.0]  3320      43     0.072148        3277   \n",
      "5  months_client   (24.0, 30.0]  3754      63     0.105705        3691   \n",
      "6  months_client   (30.0, 36.0]  3338      57     0.095638        3281   \n",
      "7  months_client   (36.0, 43.0]  3914      98     0.164430        3816   \n",
      "8  months_client   (43.0, 51.0]  3555      88     0.147651        3467   \n",
      "9  months_client   (51.0, 60.0]  3089     103     0.172819        2986   \n",
      "\n",
      "   % of Non-Events       WoE            IV  \n",
      "0         0.108162 -1.768217  1.586183e-01  \n",
      "1         0.113327 -0.406102  1.536035e-02  \n",
      "2         0.086351 -0.277348  5.800780e-03  \n",
      "3         0.103340 -0.228694  4.831300e-03  \n",
      "4         0.094042 -0.265031  5.802767e-03  \n",
      "5         0.105923 -0.002065  4.512195e-07  \n",
      "6         0.094157  0.015601  2.309583e-05  \n",
      "7         0.109510  0.406462  2.232256e-02  \n",
      "8         0.099495  0.394745  1.900937e-02  \n",
      "9         0.085691  0.701492  6.111922e-02  \n",
      "              Variable        IV\n",
      "0                   id  0.058947\n",
      "0          code_gender  0.016585\n",
      "0         flag_own_car  0.000063\n",
      "0      flag_own_realty  0.028807\n",
      "0         cnt_children  0.001218\n",
      "0     amt_income_total  0.012885\n",
      "0     name_income_type  0.018348\n",
      "0  name_education_type  0.010730\n",
      "0   name_family_status  0.030496\n",
      "0    name_housing_type  0.016406\n",
      "0      flag_work_phone  0.001850\n",
      "0           flag_phone  0.000686\n",
      "0           flag_email  0.000014\n",
      "0      cnt_fam_members  0.009274\n",
      "0                  age  0.026040\n",
      "0       years_employed  0.040616\n",
      "0        months_client  0.292888\n",
      "         Variable                    Cutoff     N  Events  % of Events  \\\n",
      "0              id  (5008803.999, 5023470.1]  3545      54     0.090604   \n",
      "1              id    (5023470.1, 5035866.2]  3544      52     0.087248   \n",
      "2              id    (5035866.2, 5048107.3]  3544      42     0.070470   \n",
      "3              id    (5048107.3, 5061807.4]  3544      78     0.130872   \n",
      "4              id    (5061807.4, 5074670.0]  3544      41     0.068792   \n",
      "..            ...                       ...   ...     ...          ...   \n",
      "5   months_client              (24.0, 30.0]  3754      63     0.105705   \n",
      "6   months_client              (30.0, 36.0]  3338      57     0.095638   \n",
      "7   months_client              (36.0, 43.0]  3914      98     0.164430   \n",
      "8   months_client              (43.0, 51.0]  3555      88     0.147651   \n",
      "9   months_client              (51.0, 60.0]  3089     103     0.172819   \n",
      "\n",
      "    Non-Events  % of Non-Events       WoE            IV  \n",
      "0         3491         0.100184 -0.100506  9.628159e-04  \n",
      "1         3492         0.100212 -0.138533  1.795950e-03  \n",
      "2         3502         0.100499 -0.354967  1.065949e-02  \n",
      "3         3466         0.099466  0.274405  8.618045e-03  \n",
      "4         3503         0.100528 -0.379350  1.203909e-02  \n",
      "..         ...              ...       ...           ...  \n",
      "5         3691         0.105923 -0.002065  4.512195e-07  \n",
      "6         3281         0.094157  0.015601  2.309583e-05  \n",
      "7         3816         0.109510  0.406462  2.232256e-02  \n",
      "8         3467         0.099495  0.394745  1.900937e-02  \n",
      "9         2986         0.085691  0.701492  6.111922e-02  \n",
      "\n",
      "[88 rows x 9 columns]\n"
     ]
    }
   ],
   "source": [
    "iv, woe = iv_woe(data = df, target = 'status', bins=10, show_woe = True)\n",
    "print(iv)\n",
    "print(woe)"
   ]
  },
  {
   "cell_type": "code",
   "execution_count": 149,
   "metadata": {},
   "outputs": [],
   "source": [
    "# wyniki\n",
    "#                   id  0.058947\n",
    "#          code_gender  0.016585\n",
    "#         flag_own_car  0.000063\n",
    "#      flag_own_realty  0.028807\n",
    "#         cnt_children  0.001218\n",
    "#     amt_income_total  0.012885\n",
    "#     name_income_type  0.018348\n",
    "#  name_education_type  0.010730\n",
    "#   name_family_status  0.030496\n",
    "#    name_housing_type  0.016406\n",
    "#      flag_work_phone  0.001850\n",
    "#           flag_phone  0.000686\n",
    "#           flag_email  0.000014\n",
    "#      cnt_fam_members  0.009274\n",
    "#                  age  0.026040\n",
    "#       years_employed  0.040616\n",
    "#        months_client  0.292888\n",
    "\n",
    "    # nie bierzemy ID do modelowania\n",
    "# income_type bardziej istotne niż wysokość zarobków\n",
    "\n",
    "# medium\n",
    "    # months_client - najistotniejsze (blisko progu - strong)\n",
    "# weak\n",
    "    # flag_own_realty\n",
    "    # name_family_status\n",
    "    # years_employed\n",
    "    # age\n",
    "# useless\n",
    "    # id\n",
    "    # code_gender\n",
    "    # flag_own_car\n",
    "    # cnt_children\n",
    "    # amt_income_total \n",
    "    # name_income_type (blisko progu)\n",
    "    # name_education_type\n",
    "    # name_housing_type (blisko progu)\n",
    "    # flag_work_phone\n",
    "    # flag_phone\n",
    "    # flag_email\n",
    "    # cnt_fam_members\n",
    "    \n",
    "# nie bierzemy do modelu zmiennych o IV < 0,02\n",
    "    # wyjątek stanowią zmienne name_income_type i name_housing_type,\n",
    "    # ponieważ po zaokrągleniu IV wynosi 0,02\n"
   ]
  },
  {
   "cell_type": "code",
   "execution_count": 150,
   "metadata": {},
   "outputs": [],
   "source": [
    "#Less than 0.02, then the predictor is not useful for modeling (separating the Goods from the Bads)\n",
    "#0.02 to 0.1, then the predictor has only a weak relationship to the Goods/Bads odds ratio\n",
    "#0.1 to 0.3, then the predictor has a medium strength relationship to the Goods/Bads odds ratio\n",
    "#0.3 to 0.5, then the predictor has a strong relationship to the Goods/Bads odds ratio.\n",
    "#0.5, suspicious relationship (Check once)"
   ]
  },
  {
   "cell_type": "code",
   "execution_count": 151,
   "metadata": {},
   "outputs": [],
   "source": [
    "# usuwamy zmienne o niskiej wartości IV\n",
    "df = df.drop(['id', 'code_gender', 'flag_own_car', 'cnt_children', \n",
    "              'amt_income_total', 'name_education_type', 'flag_work_phone',\n",
    "              'flag_phone','flag_email', 'cnt_fam_members'], axis=1)"
   ]
  },
  {
   "cell_type": "code",
   "execution_count": 152,
   "metadata": {},
   "outputs": [
    {
     "data": {
      "text/plain": [
       "Index(['flag_own_realty', 'name_income_type', 'name_family_status',\n",
       "       'name_housing_type', 'age', 'years_employed', 'status',\n",
       "       'months_client'],\n",
       "      dtype='object')"
      ]
     },
     "execution_count": 152,
     "metadata": {},
     "output_type": "execute_result"
    }
   ],
   "source": [
    "# tworzymy kopię zbioru (do regresji logistycznej)\n",
    "dfd = df\n",
    "df.columns"
   ]
  },
  {
   "cell_type": "markdown",
   "metadata": {},
   "source": [
    "# Model regresji logistycznej"
   ]
  },
  {
   "cell_type": "markdown",
   "metadata": {},
   "source": [
    "### Dummy variables"
   ]
  },
  {
   "cell_type": "code",
   "execution_count": 153,
   "metadata": {},
   "outputs": [],
   "source": [
    "# tworzymy dummy variables\n",
    "def DummyV(df, columns):\n",
    "    # Creating a dummy variable for some of the categorical variables and dropping the first one.\n",
    "    dummy1 = pd.get_dummies(df[columns], drop_first=True)\n",
    "    \n",
    "    # Adding the results to the master dataframe\n",
    "    df1 = pd.concat([df, dummy1], axis=1)\n",
    "    \n",
    "    #Dropping the initial column\n",
    "    df1.drop(columns, axis = 1, inplace = True)\n",
    "    \n",
    "    return df1"
   ]
  },
  {
   "cell_type": "code",
   "execution_count": 154,
   "metadata": {},
   "outputs": [
    {
     "data": {
      "text/plain": [
       "Index(['flag_own_realty', 'name_income_type', 'name_family_status',\n",
       "       'name_housing_type', 'age', 'years_employed', 'status',\n",
       "       'months_client'],\n",
       "      dtype='object')"
      ]
     },
     "execution_count": 154,
     "metadata": {},
     "output_type": "execute_result"
    }
   ],
   "source": [
    "df.columns"
   ]
  },
  {
   "cell_type": "code",
   "execution_count": 155,
   "metadata": {},
   "outputs": [],
   "source": [
    "df = DummyV(df, ['name_income_type', 'name_family_status', 'name_housing_type'])"
   ]
  },
  {
   "cell_type": "code",
   "execution_count": 156,
   "metadata": {},
   "outputs": [
    {
     "data": {
      "text/plain": [
       "Index(['flag_own_realty', 'age', 'years_employed', 'status', 'months_client',\n",
       "       'name_income_type_Pensioner', 'name_income_type_State servant',\n",
       "       'name_income_type_Student', 'name_income_type_Working',\n",
       "       'name_family_status_Married', 'name_family_status_Separated',\n",
       "       'name_family_status_Single / not married', 'name_family_status_Widow',\n",
       "       'name_housing_type_House / apartment',\n",
       "       'name_housing_type_Municipal apartment',\n",
       "       'name_housing_type_Office apartment',\n",
       "       'name_housing_type_Rented apartment', 'name_housing_type_With parents'],\n",
       "      dtype='object')"
      ]
     },
     "execution_count": 156,
     "metadata": {},
     "output_type": "execute_result"
    }
   ],
   "source": [
    "df.columns"
   ]
  },
  {
   "cell_type": "code",
   "execution_count": 157,
   "metadata": {},
   "outputs": [],
   "source": [
    "# zmieniamy kolejność zmiennych - status w ostatniej kolumnie\n",
    "df = df.reindex(['flag_own_realty', 'age', 'years_employed', 'months_client',\n",
    "       'name_income_type_Pensioner', 'name_income_type_State servant',\n",
    "       'name_income_type_Student', 'name_income_type_Working',\n",
    "       'name_family_status_Married', 'name_family_status_Separated',\n",
    "       'name_family_status_Single / not married', 'name_family_status_Widow',\n",
    "       'name_housing_type_House / apartment',\n",
    "       'name_housing_type_Municipal apartment',\n",
    "       'name_housing_type_Office apartment',\n",
    "       'name_housing_type_Rented apartment', 'name_housing_type_With parents', 'status'], \n",
    "                axis=1)"
   ]
  },
  {
   "cell_type": "markdown",
   "metadata": {},
   "source": [
    "### Podział na zbiór treningowy i testowy"
   ]
  },
  {
   "cell_type": "code",
   "execution_count": 158,
   "metadata": {},
   "outputs": [],
   "source": [
    "# X = wszystkie wartości bez statusu\n",
    "X = df.iloc[:,1:-1] \n",
    "# y = tylko status\n",
    "Y = df.iloc[:,-1] "
   ]
  },
  {
   "cell_type": "code",
   "execution_count": 159,
   "metadata": {},
   "outputs": [],
   "source": [
    "# tworzymy podział na zbiór treningowy (70%) i testowy (30%)\n",
    "X_train, X_test, y_train, y_test = train_test_split(X, Y, \n",
    "                                                    stratify=Y, test_size=0.3,\n",
    "                                                    random_state = 10086)"
   ]
  },
  {
   "cell_type": "code",
   "execution_count": 160,
   "metadata": {},
   "outputs": [],
   "source": [
    "# normalizacja danych typu min-max\n",
    "mms = MinMaxScaler()\n",
    "X_scaled = pd.DataFrame(mms.fit_transform(X_train), columns=X_train.columns)\n",
    "X_test_scaled = pd.DataFrame(mms.transform(X_test), columns=X_test.columns)"
   ]
  },
  {
   "cell_type": "code",
   "execution_count": 161,
   "metadata": {},
   "outputs": [
    {
     "data": {
      "text/plain": [
       "0    0.983184\n",
       "1    0.016816\n",
       "Name: status, dtype: float64"
      ]
     },
     "execution_count": 161,
     "metadata": {},
     "output_type": "execute_result"
    }
   ],
   "source": [
    "# sprawdzamy liczebność grup \"dobry/zły\" klient\n",
    "df.status.value_counts(normalize=True)\n",
    "    # grupa 0 stanowi ponad 98% obserwacji"
   ]
  },
  {
   "cell_type": "code",
   "execution_count": 162,
   "metadata": {},
   "outputs": [],
   "source": [
    "# SMOTE\n",
    "oversample = SMOTE()\n",
    "X_balanced, y_balanced = oversample.fit_resample(X_scaled, y_train)\n",
    "X_test_balanced, y_test_balanced = oversample.fit_resample(X_test_scaled, y_test)"
   ]
  },
  {
   "cell_type": "code",
   "execution_count": 163,
   "metadata": {},
   "outputs": [],
   "source": [
    "# tworzymy podział na zbiór treningowy (70%) i testowy (30%)\n",
    "X_train, X_test, y_train, y_test = train_test_split(X_balanced,y_balanced, \n",
    "                                                    stratify=y_balanced, test_size=0.3,\n",
    "                                                    random_state = 10086)"
   ]
  },
  {
   "cell_type": "markdown",
   "metadata": {},
   "source": [
    "### Tworzenie i ocena modelu"
   ]
  },
  {
   "cell_type": "code",
   "execution_count": 164,
   "metadata": {},
   "outputs": [],
   "source": [
    "model1 = LogisticRegression(C=0.8, random_state=10086, max_iter=1000)\n",
    "model1.fit(X_train, y_train)\n",
    "# zastosowanie modelu na zbiorze testowym\n",
    "y_pred = model1.predict(X_test)"
   ]
  },
  {
   "cell_type": "code",
   "execution_count": 165,
   "metadata": {},
   "outputs": [
    {
     "data": {
      "text/html": [
       "<div>\n",
       "<style scoped>\n",
       "    .dataframe tbody tr th:only-of-type {\n",
       "        vertical-align: middle;\n",
       "    }\n",
       "\n",
       "    .dataframe tbody tr th {\n",
       "        vertical-align: top;\n",
       "    }\n",
       "\n",
       "    .dataframe thead th {\n",
       "        text-align: right;\n",
       "    }\n",
       "</style>\n",
       "<table border=\"1\" class=\"dataframe\">\n",
       "  <thead>\n",
       "    <tr style=\"text-align: right;\">\n",
       "      <th></th>\n",
       "      <th>status</th>\n",
       "      <th>id</th>\n",
       "      <th>0</th>\n",
       "    </tr>\n",
       "  </thead>\n",
       "  <tbody>\n",
       "    <tr>\n",
       "      <th>0</th>\n",
       "      <td>1</td>\n",
       "      <td>48375</td>\n",
       "      <td>1</td>\n",
       "    </tr>\n",
       "    <tr>\n",
       "      <th>1</th>\n",
       "      <td>1</td>\n",
       "      <td>31886</td>\n",
       "      <td>1</td>\n",
       "    </tr>\n",
       "    <tr>\n",
       "      <th>2</th>\n",
       "      <td>0</td>\n",
       "      <td>11074</td>\n",
       "      <td>0</td>\n",
       "    </tr>\n",
       "    <tr>\n",
       "      <th>3</th>\n",
       "      <td>0</td>\n",
       "      <td>8776</td>\n",
       "      <td>0</td>\n",
       "    </tr>\n",
       "    <tr>\n",
       "      <th>4</th>\n",
       "      <td>0</td>\n",
       "      <td>6302</td>\n",
       "      <td>1</td>\n",
       "    </tr>\n",
       "  </tbody>\n",
       "</table>\n",
       "</div>"
      ],
      "text/plain": [
       "   status     id  0\n",
       "0       1  48375  1\n",
       "1       1  31886  1\n",
       "2       0  11074  0\n",
       "3       0   8776  0\n",
       "4       0   6302  1"
      ]
     },
     "execution_count": 165,
     "metadata": {},
     "output_type": "execute_result"
    }
   ],
   "source": [
    "# tabela zawierająca przewidywane wartości\n",
    "y_pred_1 = pd.DataFrame(y_pred)\n",
    "y_test_df = pd.DataFrame(y_test)\n",
    "y_test_df['id'] = y_test_df.index\n",
    "y_pred_1.reset_index(drop=True, inplace=True)\n",
    "y_test_df.reset_index(drop=True, inplace=True)\n",
    "y_pred_final = pd.concat([y_test_df, y_pred_1],axis=1)\n",
    "y_pred_final.head()"
   ]
  },
  {
   "cell_type": "code",
   "execution_count": 166,
   "metadata": {},
   "outputs": [
    {
     "data": {
      "text/html": [
       "<div>\n",
       "<style scoped>\n",
       "    .dataframe tbody tr th:only-of-type {\n",
       "        vertical-align: middle;\n",
       "    }\n",
       "\n",
       "    .dataframe tbody tr th {\n",
       "        vertical-align: top;\n",
       "    }\n",
       "\n",
       "    .dataframe thead th {\n",
       "        text-align: right;\n",
       "    }\n",
       "</style>\n",
       "<table border=\"1\" class=\"dataframe\">\n",
       "  <thead>\n",
       "    <tr style=\"text-align: right;\">\n",
       "      <th></th>\n",
       "      <th>id</th>\n",
       "      <th>status</th>\n",
       "      <th>predicted_status</th>\n",
       "    </tr>\n",
       "  </thead>\n",
       "  <tbody>\n",
       "    <tr>\n",
       "      <th>0</th>\n",
       "      <td>48375</td>\n",
       "      <td>1</td>\n",
       "      <td>1</td>\n",
       "    </tr>\n",
       "    <tr>\n",
       "      <th>1</th>\n",
       "      <td>31886</td>\n",
       "      <td>1</td>\n",
       "      <td>1</td>\n",
       "    </tr>\n",
       "    <tr>\n",
       "      <th>2</th>\n",
       "      <td>11074</td>\n",
       "      <td>0</td>\n",
       "      <td>0</td>\n",
       "    </tr>\n",
       "    <tr>\n",
       "      <th>3</th>\n",
       "      <td>8776</td>\n",
       "      <td>0</td>\n",
       "      <td>0</td>\n",
       "    </tr>\n",
       "    <tr>\n",
       "      <th>4</th>\n",
       "      <td>6302</td>\n",
       "      <td>0</td>\n",
       "      <td>1</td>\n",
       "    </tr>\n",
       "  </tbody>\n",
       "</table>\n",
       "</div>"
      ],
      "text/plain": [
       "      id  status  predicted_status\n",
       "0  48375       1                 1\n",
       "1  31886       1                 1\n",
       "2  11074       0                 0\n",
       "3   8776       0                 0\n",
       "4   6302       0                 1"
      ]
     },
     "execution_count": 166,
     "metadata": {},
     "output_type": "execute_result"
    }
   ],
   "source": [
    "# zmieniamy nazwę kolumny '0' na 'predicted_status'\n",
    "y_pred_final= y_pred_final.rename(columns={0 : 'predicted_status'})\n",
    "\n",
    "# zmieniamy kolejność kolumn w tabeli\n",
    "y_pred_final = y_pred_final.reindex(['id', 'status', 'predicted_status'], axis=1)\n",
    "y_pred_final.head()"
   ]
  },
  {
   "cell_type": "code",
   "execution_count": 167,
   "metadata": {},
   "outputs": [
    {
     "name": "stdout",
     "output_type": "stream",
     "text": [
      "Accuracy Score is 0.6241\n",
      "[[4578 2740]\n",
      " [2762 4556]]\n"
     ]
    }
   ],
   "source": [
    "# confusion matrix\n",
    "CM = confusion_matrix(y_test, y_pred)\n",
    "\n",
    "# definiujemy False Negative, False Positive etc.\n",
    "TN = CM[0][0]\n",
    "FN = CM[1][0]\n",
    "TP = CM[1][1]\n",
    "FP = CM[0][1]\n",
    "\n",
    "print('Accuracy Score is {:.4}'.format(accuracy_score(y_test, y_pred)))\n",
    "print(CM)"
   ]
  },
  {
   "cell_type": "code",
   "execution_count": 168,
   "metadata": {},
   "outputs": [
    {
     "data": {
      "text/plain": [
       "<sklearn.metrics._plot.confusion_matrix.ConfusionMatrixDisplay at 0x1325db3a0>"
      ]
     },
     "execution_count": 168,
     "metadata": {},
     "output_type": "execute_result"
    },
    {
     "data": {
      "image/png": "[encoded data removed]",
      "text/plain": [
       "<Figure size 432x288 with 2 Axes>"
      ]
     },
     "metadata": {
      "needs_background": "light"
     },
     "output_type": "display_data"
    }
   ],
   "source": [
    "# confusion matrix\n",
    "plot_confusion_matrix(model1, X_test, y_test, cmap='Blues', normalize='true')"
   ]
  },
  {
   "cell_type": "code",
   "execution_count": 169,
   "metadata": {
    "scrolled": true
   },
   "outputs": [
    {
     "name": "stdout",
     "output_type": "stream",
     "text": [
      "precision= 0.6245\n",
      "sensitivity = 0.6226\n",
      "specificity = 0.6256\n",
      "F1 = 0.6235\n"
     ]
    }
   ],
   "source": [
    "# obliczamy sensitivity i specificity\n",
    "precision = TP / (TP + FP)\n",
    "# sensitivity - in. recall\n",
    "sensitivity = TP / (TP + FN).astype(float)\n",
    "# specificity\n",
    "specificity = TN / (TN + FP).astype(float)\n",
    "# F1 score\n",
    "F1_score = 2 * (sensitivity * precision) / (sensitivity + precision)\n",
    "\n",
    "print('precision=', precision.round(4))\n",
    "print('sensitivity =', sensitivity.round(4))\n",
    "print('specificity =', specificity.round(4))\n",
    "print('F1 =', F1_score.round(4))"
   ]
  },
  {
   "cell_type": "code",
   "execution_count": 170,
   "metadata": {},
   "outputs": [
    {
     "name": "stdout",
     "output_type": "stream",
     "text": [
      "MAE:  0.3759\n",
      "MSE:  0.3759\n",
      "RMSE:  0.6131\n"
     ]
    }
   ],
   "source": [
    "# Regression metrics\n",
    "mean_absolute_error = metrics.mean_absolute_error(y_test, y_pred) \n",
    "mse = metrics.mean_squared_error(y_test, y_pred) \n",
    "\n",
    "print('MAE: ', round(mean_absolute_error,4))\n",
    "print('MSE: ', round(mse,4))\n",
    "print('RMSE: ', round(np.sqrt(mse),4))"
   ]
  },
  {
   "cell_type": "code",
   "execution_count": 171,
   "metadata": {},
   "outputs": [
    {
     "data": {
      "image/png": "[encoded data removed]",
      "text/plain": [
       "<Figure size 432x288 with 1 Axes>"
      ]
     },
     "metadata": {
      "needs_background": "light"
     },
     "output_type": "display_data"
    }
   ],
   "source": [
    "# krzywa ROC\n",
    "metrics.plot_roc_curve(model1, X_test, y_test)  \n",
    "plt.plot([0, 1], [0, 1], 'k--')\n",
    "plt.xlim([-0.05, 1.0])\n",
    "plt.ylim([0.0, 1.05])\n",
    "plt.title('Krzywa ROC')\n",
    "plt.show()"
   ]
  },
  {
   "cell_type": "markdown",
   "metadata": {},
   "source": [
    "# Drzewo decyzyjne"
   ]
  },
  {
   "cell_type": "code",
   "execution_count": 172,
   "metadata": {},
   "outputs": [],
   "source": [
    "from sklearn.tree import DecisionTreeClassifier\n",
    "from sklearn.metrics import classification_report, confusion_matrix\n",
    "from sklearn.model_selection import KFold\n",
    "from sklearn.model_selection import GridSearchCV"
   ]
  },
  {
   "cell_type": "markdown",
   "metadata": {},
   "source": [
    "### Podział na zbiór testowy i treningowy (w tabeli bez dummy variable)"
   ]
  },
  {
   "cell_type": "code",
   "execution_count": 173,
   "metadata": {},
   "outputs": [],
   "source": [
    "# X = wszystkie wartości bez statusu\n",
    "X = df.iloc[:,1:-1] \n",
    "# y = tylko status\n",
    "Y = df.iloc[:,-1] "
   ]
  },
  {
   "cell_type": "code",
   "execution_count": 174,
   "metadata": {},
   "outputs": [
    {
     "data": {
      "text/html": [
       "<div>\n",
       "<style scoped>\n",
       "    .dataframe tbody tr th:only-of-type {\n",
       "        vertical-align: middle;\n",
       "    }\n",
       "\n",
       "    .dataframe tbody tr th {\n",
       "        vertical-align: top;\n",
       "    }\n",
       "\n",
       "    .dataframe thead th {\n",
       "        text-align: right;\n",
       "    }\n",
       "</style>\n",
       "<table border=\"1\" class=\"dataframe\">\n",
       "  <thead>\n",
       "    <tr style=\"text-align: right;\">\n",
       "      <th></th>\n",
       "      <th>flag_own_realty</th>\n",
       "      <th>name_income_type</th>\n",
       "      <th>name_family_status</th>\n",
       "      <th>name_housing_type</th>\n",
       "      <th>age</th>\n",
       "      <th>years_employed</th>\n",
       "      <th>status</th>\n",
       "      <th>months_client</th>\n",
       "    </tr>\n",
       "  </thead>\n",
       "  <tbody>\n",
       "    <tr>\n",
       "      <th>0</th>\n",
       "      <td>1</td>\n",
       "      <td>Working</td>\n",
       "      <td>Civil marriage</td>\n",
       "      <td>Rented apartment</td>\n",
       "      <td>33</td>\n",
       "      <td>12</td>\n",
       "      <td>0</td>\n",
       "      <td>15</td>\n",
       "    </tr>\n",
       "    <tr>\n",
       "      <th>1</th>\n",
       "      <td>1</td>\n",
       "      <td>Working</td>\n",
       "      <td>Civil marriage</td>\n",
       "      <td>Rented apartment</td>\n",
       "      <td>33</td>\n",
       "      <td>12</td>\n",
       "      <td>0</td>\n",
       "      <td>14</td>\n",
       "    </tr>\n",
       "    <tr>\n",
       "      <th>2</th>\n",
       "      <td>1</td>\n",
       "      <td>Working</td>\n",
       "      <td>Married</td>\n",
       "      <td>House / apartment</td>\n",
       "      <td>59</td>\n",
       "      <td>3</td>\n",
       "      <td>0</td>\n",
       "      <td>29</td>\n",
       "    </tr>\n",
       "    <tr>\n",
       "      <th>3</th>\n",
       "      <td>1</td>\n",
       "      <td>Commercial associate</td>\n",
       "      <td>Single / not married</td>\n",
       "      <td>House / apartment</td>\n",
       "      <td>52</td>\n",
       "      <td>8</td>\n",
       "      <td>0</td>\n",
       "      <td>4</td>\n",
       "    </tr>\n",
       "    <tr>\n",
       "      <th>4</th>\n",
       "      <td>1</td>\n",
       "      <td>Commercial associate</td>\n",
       "      <td>Single / not married</td>\n",
       "      <td>House / apartment</td>\n",
       "      <td>52</td>\n",
       "      <td>8</td>\n",
       "      <td>0</td>\n",
       "      <td>26</td>\n",
       "    </tr>\n",
       "  </tbody>\n",
       "</table>\n",
       "</div>"
      ],
      "text/plain": [
       "   flag_own_realty      name_income_type    name_family_status  \\\n",
       "0                1               Working        Civil marriage   \n",
       "1                1               Working        Civil marriage   \n",
       "2                1               Working               Married   \n",
       "3                1  Commercial associate  Single / not married   \n",
       "4                1  Commercial associate  Single / not married   \n",
       "\n",
       "   name_housing_type  age  years_employed  status  months_client  \n",
       "0   Rented apartment   33              12       0             15  \n",
       "1   Rented apartment   33              12       0             14  \n",
       "2  House / apartment   59               3       0             29  \n",
       "3  House / apartment   52               8       0              4  \n",
       "4  House / apartment   52               8       0             26  "
      ]
     },
     "execution_count": 174,
     "metadata": {},
     "output_type": "execute_result"
    }
   ],
   "source": [
    "dfd.head()"
   ]
  },
  {
   "cell_type": "code",
   "execution_count": 175,
   "metadata": {},
   "outputs": [],
   "source": [
    "# tworzymy podział na zbiór treningowy (70%) i testowy (30%)\n",
    "X_train, X_test, y_train, y_test = train_test_split(X, Y, \n",
    "                                                    stratify=Y, test_size=0.3,\n",
    "                                                    random_state=10086)"
   ]
  },
  {
   "cell_type": "code",
   "execution_count": 176,
   "metadata": {},
   "outputs": [],
   "source": [
    "# normalizacja danych typu min-max\n",
    "mms = MinMaxScaler()\n",
    "X_scaled = pd.DataFrame(mms.fit_transform(X_train), columns=X_train.columns)\n",
    "X_test_scaled = pd.DataFrame(mms.transform(X_test), columns=X_test.columns)"
   ]
  },
  {
   "cell_type": "code",
   "execution_count": 177,
   "metadata": {},
   "outputs": [],
   "source": [
    "# SMOTE\n",
    "oversample = SMOTE()\n",
    "X_balanced, y_balanced = oversample.fit_resample(X_scaled, y_train)\n",
    "X_test_balanced, y_test_balanced = oversample.fit_resample(X_test_scaled, y_test)"
   ]
  },
  {
   "cell_type": "code",
   "execution_count": 178,
   "metadata": {},
   "outputs": [],
   "source": [
    "# tworzymy podział na zbiór treningowy (70%) i testowy (30%)\n",
    "X_train, X_test, y_train, y_test = train_test_split(X_balanced, y_balanced, \n",
    "                                                    stratify=y_balanced, test_size=0.3,\n",
    "                                                    random_state=10086)"
   ]
  },
  {
   "cell_type": "markdown",
   "metadata": {},
   "source": [
    "### Tworzenie i ocena modeli"
   ]
  },
  {
   "cell_type": "markdown",
   "metadata": {},
   "source": [
    "#### Drzewo decyzyjne"
   ]
  },
  {
   "cell_type": "code",
   "execution_count": 179,
   "metadata": {},
   "outputs": [
    {
     "data": {
      "text/plain": [
       "DecisionTreeClassifier(max_depth=10)"
      ]
     },
     "execution_count": 179,
     "metadata": {},
     "output_type": "execute_result"
    }
   ],
   "source": [
    "# tworzymy drzewo decyzyjne\n",
    "dec_tree = DecisionTreeClassifier(max_depth=10)\n",
    "\n",
    "# fitting the model\n",
    "dec_tree.fit(X_train, y_train)"
   ]
  },
  {
   "cell_type": "code",
   "execution_count": 180,
   "metadata": {},
   "outputs": [],
   "source": [
    "# predykcja na zbiorze testowym\n",
    "y_pred = dec_tree.predict(X_test)"
   ]
  },
  {
   "cell_type": "code",
   "execution_count": 181,
   "metadata": {},
   "outputs": [
    {
     "data": {
      "text/html": [
       "<div>\n",
       "<style scoped>\n",
       "    .dataframe tbody tr th:only-of-type {\n",
       "        vertical-align: middle;\n",
       "    }\n",
       "\n",
       "    .dataframe tbody tr th {\n",
       "        vertical-align: top;\n",
       "    }\n",
       "\n",
       "    .dataframe thead th {\n",
       "        text-align: right;\n",
       "    }\n",
       "</style>\n",
       "<table border=\"1\" class=\"dataframe\">\n",
       "  <thead>\n",
       "    <tr style=\"text-align: right;\">\n",
       "      <th></th>\n",
       "      <th>status</th>\n",
       "      <th>id</th>\n",
       "      <th>0</th>\n",
       "    </tr>\n",
       "  </thead>\n",
       "  <tbody>\n",
       "    <tr>\n",
       "      <th>0</th>\n",
       "      <td>1</td>\n",
       "      <td>48375</td>\n",
       "      <td>1</td>\n",
       "    </tr>\n",
       "    <tr>\n",
       "      <th>1</th>\n",
       "      <td>1</td>\n",
       "      <td>31886</td>\n",
       "      <td>1</td>\n",
       "    </tr>\n",
       "    <tr>\n",
       "      <th>2</th>\n",
       "      <td>0</td>\n",
       "      <td>11074</td>\n",
       "      <td>1</td>\n",
       "    </tr>\n",
       "    <tr>\n",
       "      <th>3</th>\n",
       "      <td>0</td>\n",
       "      <td>8776</td>\n",
       "      <td>1</td>\n",
       "    </tr>\n",
       "    <tr>\n",
       "      <th>4</th>\n",
       "      <td>0</td>\n",
       "      <td>6302</td>\n",
       "      <td>1</td>\n",
       "    </tr>\n",
       "  </tbody>\n",
       "</table>\n",
       "</div>"
      ],
      "text/plain": [
       "   status     id  0\n",
       "0       1  48375  1\n",
       "1       1  31886  1\n",
       "2       0  11074  1\n",
       "3       0   8776  1\n",
       "4       0   6302  1"
      ]
     },
     "execution_count": 181,
     "metadata": {},
     "output_type": "execute_result"
    }
   ],
   "source": [
    "# tabela zawierająca przewidywane wartości\n",
    "y_pred_1 = pd.DataFrame(y_pred)\n",
    "y_test_df = pd.DataFrame(y_test)\n",
    "y_test_df['id'] = y_test_df.index\n",
    "y_pred_1.reset_index(drop=True, inplace=True)\n",
    "y_test_df.reset_index(drop=True, inplace=True)\n",
    "y_pred_final = pd.concat([y_test_df, y_pred_1],axis=1)\n",
    "y_pred_final.head()"
   ]
  },
  {
   "cell_type": "code",
   "execution_count": 182,
   "metadata": {},
   "outputs": [
    {
     "data": {
      "text/html": [
       "<div>\n",
       "<style scoped>\n",
       "    .dataframe tbody tr th:only-of-type {\n",
       "        vertical-align: middle;\n",
       "    }\n",
       "\n",
       "    .dataframe tbody tr th {\n",
       "        vertical-align: top;\n",
       "    }\n",
       "\n",
       "    .dataframe thead th {\n",
       "        text-align: right;\n",
       "    }\n",
       "</style>\n",
       "<table border=\"1\" class=\"dataframe\">\n",
       "  <thead>\n",
       "    <tr style=\"text-align: right;\">\n",
       "      <th></th>\n",
       "      <th>id</th>\n",
       "      <th>status</th>\n",
       "      <th>predicted_status</th>\n",
       "    </tr>\n",
       "  </thead>\n",
       "  <tbody>\n",
       "    <tr>\n",
       "      <th>0</th>\n",
       "      <td>48375</td>\n",
       "      <td>1</td>\n",
       "      <td>1</td>\n",
       "    </tr>\n",
       "    <tr>\n",
       "      <th>1</th>\n",
       "      <td>31886</td>\n",
       "      <td>1</td>\n",
       "      <td>1</td>\n",
       "    </tr>\n",
       "    <tr>\n",
       "      <th>2</th>\n",
       "      <td>11074</td>\n",
       "      <td>0</td>\n",
       "      <td>1</td>\n",
       "    </tr>\n",
       "    <tr>\n",
       "      <th>3</th>\n",
       "      <td>8776</td>\n",
       "      <td>0</td>\n",
       "      <td>1</td>\n",
       "    </tr>\n",
       "    <tr>\n",
       "      <th>4</th>\n",
       "      <td>6302</td>\n",
       "      <td>0</td>\n",
       "      <td>1</td>\n",
       "    </tr>\n",
       "  </tbody>\n",
       "</table>\n",
       "</div>"
      ],
      "text/plain": [
       "      id  status  predicted_status\n",
       "0  48375       1                 1\n",
       "1  31886       1                 1\n",
       "2  11074       0                 1\n",
       "3   8776       0                 1\n",
       "4   6302       0                 1"
      ]
     },
     "execution_count": 182,
     "metadata": {},
     "output_type": "execute_result"
    }
   ],
   "source": [
    "# zmieniamy nazwę kolumny '0' na 'predicted_status'\n",
    "y_pred_final= y_pred_final.rename(columns={0 : 'predicted_status'})\n",
    "\n",
    "# zmieniamy kolejność kolumn w tabeli\n",
    "y_pred_final = y_pred_final.reindex(['id', 'status', 'predicted_status'], axis=1)\n",
    "y_pred_final.head()"
   ]
  },
  {
   "cell_type": "code",
   "execution_count": 183,
   "metadata": {},
   "outputs": [
    {
     "name": "stdout",
     "output_type": "stream",
     "text": [
      "Accuracy Score is 0.7069\n",
      "[[3769 3549]\n",
      " [ 741 6577]]\n"
     ]
    }
   ],
   "source": [
    "# confusion matrix\n",
    "CM = confusion_matrix(y_test, y_pred)\n",
    "\n",
    "# definiujemy False Negative, False Positive etc.\n",
    "TN = CM[0][0]\n",
    "FN = CM[1][0]\n",
    "TP = CM[1][1]\n",
    "FP = CM[0][1]\n",
    "\n",
    "print('Accuracy Score is {:.4}'.format(accuracy_score(y_test, y_pred)))\n",
    "print(CM)"
   ]
  },
  {
   "cell_type": "code",
   "execution_count": 184,
   "metadata": {},
   "outputs": [
    {
     "data": {
      "text/plain": [
       "<sklearn.metrics._plot.confusion_matrix.ConfusionMatrixDisplay at 0x13328a2e0>"
      ]
     },
     "execution_count": 184,
     "metadata": {},
     "output_type": "execute_result"
    },
    {
     "data": {
      "image/png": "[encoded data removed]",
      "text/plain": [
       "<Figure size 432x288 with 2 Axes>"
      ]
     },
     "metadata": {
      "needs_background": "light"
     },
     "output_type": "display_data"
    }
   ],
   "source": [
    "# confusion matrix\n",
    "plot_confusion_matrix(dec_tree, X_test, y_test, cmap='Blues', normalize='true')"
   ]
  },
  {
   "cell_type": "code",
   "execution_count": 185,
   "metadata": {},
   "outputs": [
    {
     "name": "stdout",
     "output_type": "stream",
     "text": [
      "precision= 0.6495\n",
      "sensitivity = 0.8987\n",
      "specificity = 0.515\n",
      "F1 = 0.7541\n"
     ]
    }
   ],
   "source": [
    "# obliczamy sensitivity i specificity\n",
    "precision = TP / (TP + FP)\n",
    "# sensitivity - in. recall\n",
    "sensitivity = TP / (TP + FN).astype(float)\n",
    "# specificity\n",
    "specificity = TN / (TN + FP).astype(float)\n",
    "# F1 score\n",
    "F1_score = 2 * (sensitivity * precision) / (sensitivity + precision)\n",
    "\n",
    "print('precision=', precision.round(4))\n",
    "print('sensitivity =', sensitivity.round(4))\n",
    "print('specificity =', specificity.round(4))\n",
    "print('F1 =', F1_score.round(4))"
   ]
  },
  {
   "cell_type": "code",
   "execution_count": 186,
   "metadata": {},
   "outputs": [
    {
     "name": "stdout",
     "output_type": "stream",
     "text": [
      "MAE:  0.2931\n",
      "MSE:  0.2931\n",
      "RMSE:  0.5414\n"
     ]
    }
   ],
   "source": [
    "# Regression metrics\n",
    "mean_absolute_error = metrics.mean_absolute_error(y_test, y_pred) \n",
    "mse = metrics.mean_squared_error(y_test, y_pred) \n",
    "\n",
    "print('MAE: ', round(mean_absolute_error,4))\n",
    "print('MSE: ', round(mse,4))\n",
    "print('RMSE: ', round(np.sqrt(mse),4))"
   ]
  },
  {
   "cell_type": "code",
   "execution_count": 187,
   "metadata": {},
   "outputs": [
    {
     "data": {
      "image/png": "[encoded data removed]",
      "text/plain": [
       "<Figure size 432x288 with 1 Axes>"
      ]
     },
     "metadata": {
      "needs_background": "light"
     },
     "output_type": "display_data"
    }
   ],
   "source": [
    "# krzywa ROC\n",
    "metrics.plot_roc_curve(dec_tree, X_test, y_test)  \n",
    "plt.plot([0, 1], [0, 1], 'k--')\n",
    "plt.xlim([-0.05, 1.0])\n",
    "plt.ylim([0.0, 1.05])\n",
    "plt.title('Krzywa ROC')\n",
    "plt.show()"
   ]
  },
  {
   "cell_type": "code",
   "execution_count": 188,
   "metadata": {},
   "outputs": [
    {
     "data": {
      "text/plain": [
       "279"
      ]
     },
     "execution_count": 188,
     "metadata": {},
     "output_type": "execute_result"
    }
   ],
   "source": [
    "# obliczamy liczbę węzłów w drzewie\n",
    "dec_tree.tree_.node_count"
   ]
  },
  {
   "cell_type": "markdown",
   "metadata": {},
   "source": [
    "#### Las losowy"
   ]
  },
  {
   "cell_type": "code",
   "execution_count": 189,
   "metadata": {},
   "outputs": [],
   "source": [
    "from sklearn.ensemble import RandomForestClassifier\n",
    "Random_F = RandomForestClassifier(max_depth=10)\n",
    "# n_estimators - domyślnie 100, liczba drzew w lesie\n",
    "# max_depth - max długość drzewa\n",
    "# min_samples_leaf - \n",
    "Random_F.fit(X_train, y_train)\n",
    "y_pred = Random_F.predict(X_test)"
   ]
  },
  {
   "cell_type": "code",
   "execution_count": 190,
   "metadata": {},
   "outputs": [
    {
     "name": "stdout",
     "output_type": "stream",
     "text": [
      "Accuracy Score is 0.8353\n",
      "[[5549 1769]\n",
      " [ 642 6676]]\n"
     ]
    }
   ],
   "source": [
    "# confusion matrix\n",
    "CM = confusion_matrix(y_test, y_pred)\n",
    "\n",
    "# definiujemy False Negative, False Positive etc.\n",
    "TN = CM[0][0]\n",
    "FN = CM[1][0]\n",
    "TP = CM[1][1]\n",
    "FP = CM[0][1]\n",
    "\n",
    "print('Accuracy Score is {:.4}'.format(accuracy_score(y_test, y_pred)))\n",
    "print(CM)"
   ]
  },
  {
   "cell_type": "code",
   "execution_count": 191,
   "metadata": {},
   "outputs": [
    {
     "data": {
      "text/plain": [
       "<sklearn.metrics._plot.confusion_matrix.ConfusionMatrixDisplay at 0x12f2944c0>"
      ]
     },
     "execution_count": 191,
     "metadata": {},
     "output_type": "execute_result"
    },
    {
     "data": {
      "image/png": "[encoded data removed]",
      "text/plain": [
       "<Figure size 432x288 with 2 Axes>"
      ]
     },
     "metadata": {
      "needs_background": "light"
     },
     "output_type": "display_data"
    }
   ],
   "source": [
    "# confusion matrix\n",
    "plot_confusion_matrix(Random_F, X_test, y_test, cmap='Blues', normalize='true')"
   ]
  },
  {
   "cell_type": "code",
   "execution_count": 192,
   "metadata": {},
   "outputs": [
    {
     "name": "stdout",
     "output_type": "stream",
     "text": [
      "precision= 0.7905\n",
      "sensitivity = 0.9123\n",
      "specificity = 0.7583\n",
      "F1 = 0.847\n"
     ]
    }
   ],
   "source": [
    "# obliczamy sensitivity i specificity\n",
    "precision = TP / (TP + FP)\n",
    "# sensitivity - in. recall\n",
    "sensitivity = TP / (TP + FN).astype(float)\n",
    "# specificity\n",
    "specificity = TN / (TN + FP).astype(float)\n",
    "# F1 score\n",
    "F1_score = 2 * (sensitivity * precision) / (sensitivity + precision)\n",
    "\n",
    "print('precision=', precision.round(4))\n",
    "print('sensitivity =', sensitivity.round(4))\n",
    "print('specificity =', specificity.round(4))\n",
    "print('F1 =', F1_score.round(4))"
   ]
  },
  {
   "cell_type": "code",
   "execution_count": 193,
   "metadata": {},
   "outputs": [
    {
     "name": "stdout",
     "output_type": "stream",
     "text": [
      "MAE:  0.1647\n",
      "MSE:  0.1647\n",
      "RMSE:  0.4059\n"
     ]
    }
   ],
   "source": [
    "# Regression metrics\n",
    "mean_absolute_error = metrics.mean_absolute_error(y_test, y_pred) \n",
    "mse = metrics.mean_squared_error(y_test, y_pred) \n",
    "\n",
    "print('MAE: ', round(mean_absolute_error,4))\n",
    "print('MSE: ', round(mse,4))\n",
    "print('RMSE: ', round(np.sqrt(mse),4))"
   ]
  },
  {
   "cell_type": "code",
   "execution_count": 194,
   "metadata": {},
   "outputs": [
    {
     "data": {
      "image/png": "[encoded data removed]",
      "text/plain": [
       "<Figure size 432x288 with 1 Axes>"
      ]
     },
     "metadata": {
      "needs_background": "light"
     },
     "output_type": "display_data"
    }
   ],
   "source": [
    "# krzywa ROC\n",
    "metrics.plot_roc_curve(Random_F, X_test, y_test)  \n",
    "plt.plot([0, 1], [0, 1], 'k--')\n",
    "plt.xlim([-0.05, 1.0])\n",
    "plt.ylim([0.0, 1.05])\n",
    "plt.title('Krzywa ROC')\n",
    "plt.show()"
   ]
  },
  {
   "cell_type": "code",
   "execution_count": 195,
   "metadata": {},
   "outputs": [],
   "source": [
    "# model ze zmienionymi parametrami (parametry do zmiany)\n",
    "Random_F1 = RandomForestClassifier(n_estimators=250, max_depth=12, min_samples_leaf=16)\n",
    "# n_estimators - domyślnie 100, liczba drzew w lesie\n",
    "# max_depth - max długość drzewa\n",
    "# min_samples_leaf - \n",
    "Random_F1.fit(X_train, y_train)\n",
    "y_pred = Random_F1.predict(X_test)"
   ]
  }
 ],
 "metadata": {
  "kernelspec": {
   "display_name": "Python 3",
   "language": "python",
   "name": "python3"
  },
  "language_info": {
   "codemirror_mode": {
    "name": "ipython",
    "version": 3
   },
   "file_extension": ".py",
   "mimetype": "text/x-python",
   "name": "python",
   "nbconvert_exporter": "python",
   "pygments_lexer": "ipython3",
   "version": "3.8.3"
  }
 },
 "nbformat": 4,
 "nbformat_minor": 4
}
